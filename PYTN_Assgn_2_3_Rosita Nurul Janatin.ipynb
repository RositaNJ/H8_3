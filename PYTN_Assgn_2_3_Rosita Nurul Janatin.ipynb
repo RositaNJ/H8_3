{
 "cells": [
  {
   "cell_type": "code",
   "execution_count": 1,
   "id": "0294db57",
   "metadata": {},
   "outputs": [],
   "source": [
    "import math\n",
    "import statistics\n",
    "import numpy as np\n",
    "import scipy.stats\n",
    "import pandas as pd"
   ]
  },
  {
   "cell_type": "code",
   "execution_count": 2,
   "id": "10f5d090",
   "metadata": {},
   "outputs": [],
   "source": [
    "%matplotlib inline\n",
    "\n",
    "import matplotlib.pyplot as plt\n",
    "from IPython.display import Math, Latex\n",
    "from IPython.core.display import Image\n",
    "\n",
    "import seaborn as sns\n",
    "sns.set(color_codes=True)\n",
    "sns.set(rc={'figure.figsize':(5,5)})"
   ]
  },
  {
   "cell_type": "code",
   "execution_count": 3,
   "id": "866a5924",
   "metadata": {},
   "outputs": [],
   "source": [
    "df = pd.read_csv(\"nyc-rolling-sales.csv\")"
   ]
  },
  {
   "cell_type": "code",
   "execution_count": 4,
   "id": "12dbdf81",
   "metadata": {},
   "outputs": [
    {
     "name": "stdout",
     "output_type": "stream",
     "text": [
      "<class 'pandas.core.frame.DataFrame'>\n",
      "RangeIndex: 84548 entries, 0 to 84547\n",
      "Data columns (total 22 columns):\n",
      " #   Column                          Non-Null Count  Dtype \n",
      "---  ------                          --------------  ----- \n",
      " 0   Unnamed: 0                      84548 non-null  int64 \n",
      " 1   BOROUGH                         84548 non-null  int64 \n",
      " 2   NEIGHBORHOOD                    84548 non-null  object\n",
      " 3   BUILDING CLASS CATEGORY         84548 non-null  object\n",
      " 4   TAX CLASS AT PRESENT            84548 non-null  object\n",
      " 5   BLOCK                           84548 non-null  int64 \n",
      " 6   LOT                             84548 non-null  int64 \n",
      " 7   EASE-MENT                       84548 non-null  object\n",
      " 8   BUILDING CLASS AT PRESENT       84548 non-null  object\n",
      " 9   ADDRESS                         84548 non-null  object\n",
      " 10  APARTMENT NUMBER                84548 non-null  object\n",
      " 11  ZIP CODE                        84548 non-null  int64 \n",
      " 12  RESIDENTIAL UNITS               84548 non-null  int64 \n",
      " 13  COMMERCIAL UNITS                84548 non-null  int64 \n",
      " 14  TOTAL UNITS                     84548 non-null  int64 \n",
      " 15  LAND SQUARE FEET                84548 non-null  object\n",
      " 16  GROSS SQUARE FEET               84548 non-null  object\n",
      " 17  YEAR BUILT                      84548 non-null  int64 \n",
      " 18  TAX CLASS AT TIME OF SALE       84548 non-null  int64 \n",
      " 19  BUILDING CLASS AT TIME OF SALE  84548 non-null  object\n",
      " 20  SALE PRICE                      84548 non-null  object\n",
      " 21  SALE DATE                       84548 non-null  object\n",
      "dtypes: int64(10), object(12)\n",
      "memory usage: 14.2+ MB\n"
     ]
    }
   ],
   "source": [
    "df.info()"
   ]
  },
  {
   "cell_type": "code",
   "execution_count": 5,
   "id": "562a1704",
   "metadata": {},
   "outputs": [],
   "source": [
    "numeric = ['LOT', \"RESIDENTAL UNITS\", ' COMERCIAL UNITS', 'TOTAL UNITS', 'LAND SQUARE FEET', 'GROSS SQUARE FEET', 'SALE PRICE']"
   ]
  },
  {
   "cell_type": "code",
   "execution_count": 6,
   "id": "da5a26e8",
   "metadata": {},
   "outputs": [
    {
     "data": {
      "text/html": [
       "<div>\n",
       "<style scoped>\n",
       "    .dataframe tbody tr th:only-of-type {\n",
       "        vertical-align: middle;\n",
       "    }\n",
       "\n",
       "    .dataframe tbody tr th {\n",
       "        vertical-align: top;\n",
       "    }\n",
       "\n",
       "    .dataframe thead th {\n",
       "        text-align: right;\n",
       "    }\n",
       "</style>\n",
       "<table border=\"1\" class=\"dataframe\">\n",
       "  <thead>\n",
       "    <tr style=\"text-align: right;\">\n",
       "      <th></th>\n",
       "      <th>Unnamed: 0</th>\n",
       "      <th>BOROUGH</th>\n",
       "      <th>NEIGHBORHOOD</th>\n",
       "      <th>BUILDING CLASS CATEGORY</th>\n",
       "      <th>TAX CLASS AT PRESENT</th>\n",
       "      <th>BLOCK</th>\n",
       "      <th>LOT</th>\n",
       "      <th>EASE-MENT</th>\n",
       "      <th>BUILDING CLASS AT PRESENT</th>\n",
       "      <th>ADDRESS</th>\n",
       "      <th>...</th>\n",
       "      <th>RESIDENTIAL UNITS</th>\n",
       "      <th>COMMERCIAL UNITS</th>\n",
       "      <th>TOTAL UNITS</th>\n",
       "      <th>LAND SQUARE FEET</th>\n",
       "      <th>GROSS SQUARE FEET</th>\n",
       "      <th>YEAR BUILT</th>\n",
       "      <th>TAX CLASS AT TIME OF SALE</th>\n",
       "      <th>BUILDING CLASS AT TIME OF SALE</th>\n",
       "      <th>SALE PRICE</th>\n",
       "      <th>SALE DATE</th>\n",
       "    </tr>\n",
       "  </thead>\n",
       "  <tbody>\n",
       "    <tr>\n",
       "      <th>0</th>\n",
       "      <td>4</td>\n",
       "      <td>1</td>\n",
       "      <td>ALPHABET CITY</td>\n",
       "      <td>07 RENTALS - WALKUP APARTMENTS</td>\n",
       "      <td>2A</td>\n",
       "      <td>392</td>\n",
       "      <td>6</td>\n",
       "      <td></td>\n",
       "      <td>C2</td>\n",
       "      <td>153 AVENUE B</td>\n",
       "      <td>...</td>\n",
       "      <td>5</td>\n",
       "      <td>0</td>\n",
       "      <td>5</td>\n",
       "      <td>1633</td>\n",
       "      <td>6440</td>\n",
       "      <td>1900</td>\n",
       "      <td>2</td>\n",
       "      <td>C2</td>\n",
       "      <td>6625000</td>\n",
       "      <td>2017-07-19 00:00:00</td>\n",
       "    </tr>\n",
       "    <tr>\n",
       "      <th>1</th>\n",
       "      <td>5</td>\n",
       "      <td>1</td>\n",
       "      <td>ALPHABET CITY</td>\n",
       "      <td>07 RENTALS - WALKUP APARTMENTS</td>\n",
       "      <td>2</td>\n",
       "      <td>399</td>\n",
       "      <td>26</td>\n",
       "      <td></td>\n",
       "      <td>C7</td>\n",
       "      <td>234 EAST 4TH   STREET</td>\n",
       "      <td>...</td>\n",
       "      <td>28</td>\n",
       "      <td>3</td>\n",
       "      <td>31</td>\n",
       "      <td>4616</td>\n",
       "      <td>18690</td>\n",
       "      <td>1900</td>\n",
       "      <td>2</td>\n",
       "      <td>C7</td>\n",
       "      <td>-</td>\n",
       "      <td>2016-12-14 00:00:00</td>\n",
       "    </tr>\n",
       "    <tr>\n",
       "      <th>2</th>\n",
       "      <td>6</td>\n",
       "      <td>1</td>\n",
       "      <td>ALPHABET CITY</td>\n",
       "      <td>07 RENTALS - WALKUP APARTMENTS</td>\n",
       "      <td>2</td>\n",
       "      <td>399</td>\n",
       "      <td>39</td>\n",
       "      <td></td>\n",
       "      <td>C7</td>\n",
       "      <td>197 EAST 3RD   STREET</td>\n",
       "      <td>...</td>\n",
       "      <td>16</td>\n",
       "      <td>1</td>\n",
       "      <td>17</td>\n",
       "      <td>2212</td>\n",
       "      <td>7803</td>\n",
       "      <td>1900</td>\n",
       "      <td>2</td>\n",
       "      <td>C7</td>\n",
       "      <td>-</td>\n",
       "      <td>2016-12-09 00:00:00</td>\n",
       "    </tr>\n",
       "    <tr>\n",
       "      <th>3</th>\n",
       "      <td>7</td>\n",
       "      <td>1</td>\n",
       "      <td>ALPHABET CITY</td>\n",
       "      <td>07 RENTALS - WALKUP APARTMENTS</td>\n",
       "      <td>2B</td>\n",
       "      <td>402</td>\n",
       "      <td>21</td>\n",
       "      <td></td>\n",
       "      <td>C4</td>\n",
       "      <td>154 EAST 7TH STREET</td>\n",
       "      <td>...</td>\n",
       "      <td>10</td>\n",
       "      <td>0</td>\n",
       "      <td>10</td>\n",
       "      <td>2272</td>\n",
       "      <td>6794</td>\n",
       "      <td>1913</td>\n",
       "      <td>2</td>\n",
       "      <td>C4</td>\n",
       "      <td>3936272</td>\n",
       "      <td>2016-09-23 00:00:00</td>\n",
       "    </tr>\n",
       "    <tr>\n",
       "      <th>4</th>\n",
       "      <td>8</td>\n",
       "      <td>1</td>\n",
       "      <td>ALPHABET CITY</td>\n",
       "      <td>07 RENTALS - WALKUP APARTMENTS</td>\n",
       "      <td>2A</td>\n",
       "      <td>404</td>\n",
       "      <td>55</td>\n",
       "      <td></td>\n",
       "      <td>C2</td>\n",
       "      <td>301 EAST 10TH   STREET</td>\n",
       "      <td>...</td>\n",
       "      <td>6</td>\n",
       "      <td>0</td>\n",
       "      <td>6</td>\n",
       "      <td>2369</td>\n",
       "      <td>4615</td>\n",
       "      <td>1900</td>\n",
       "      <td>2</td>\n",
       "      <td>C2</td>\n",
       "      <td>8000000</td>\n",
       "      <td>2016-11-17 00:00:00</td>\n",
       "    </tr>\n",
       "  </tbody>\n",
       "</table>\n",
       "<p>5 rows × 22 columns</p>\n",
       "</div>"
      ],
      "text/plain": [
       "   Unnamed: 0  BOROUGH   NEIGHBORHOOD  \\\n",
       "0           4        1  ALPHABET CITY   \n",
       "1           5        1  ALPHABET CITY   \n",
       "2           6        1  ALPHABET CITY   \n",
       "3           7        1  ALPHABET CITY   \n",
       "4           8        1  ALPHABET CITY   \n",
       "\n",
       "                       BUILDING CLASS CATEGORY TAX CLASS AT PRESENT  BLOCK  \\\n",
       "0  07 RENTALS - WALKUP APARTMENTS                                2A    392   \n",
       "1  07 RENTALS - WALKUP APARTMENTS                                 2    399   \n",
       "2  07 RENTALS - WALKUP APARTMENTS                                 2    399   \n",
       "3  07 RENTALS - WALKUP APARTMENTS                                2B    402   \n",
       "4  07 RENTALS - WALKUP APARTMENTS                                2A    404   \n",
       "\n",
       "   LOT EASE-MENT BUILDING CLASS AT PRESENT                 ADDRESS  ...  \\\n",
       "0    6                                  C2            153 AVENUE B  ...   \n",
       "1   26                                  C7   234 EAST 4TH   STREET  ...   \n",
       "2   39                                  C7   197 EAST 3RD   STREET  ...   \n",
       "3   21                                  C4     154 EAST 7TH STREET  ...   \n",
       "4   55                                  C2  301 EAST 10TH   STREET  ...   \n",
       "\n",
       "  RESIDENTIAL UNITS  COMMERCIAL UNITS  TOTAL UNITS  LAND SQUARE FEET  \\\n",
       "0                 5                 0            5              1633   \n",
       "1                28                 3           31              4616   \n",
       "2                16                 1           17              2212   \n",
       "3                10                 0           10              2272   \n",
       "4                 6                 0            6              2369   \n",
       "\n",
       "   GROSS SQUARE FEET YEAR BUILT TAX CLASS AT TIME OF SALE  \\\n",
       "0               6440       1900                         2   \n",
       "1              18690       1900                         2   \n",
       "2               7803       1900                         2   \n",
       "3               6794       1913                         2   \n",
       "4               4615       1900                         2   \n",
       "\n",
       "   BUILDING CLASS AT TIME OF SALE  SALE PRICE            SALE DATE  \n",
       "0                              C2     6625000  2017-07-19 00:00:00  \n",
       "1                              C7         -    2016-12-14 00:00:00  \n",
       "2                              C7         -    2016-12-09 00:00:00  \n",
       "3                              C4     3936272  2016-09-23 00:00:00  \n",
       "4                              C2     8000000  2016-11-17 00:00:00  \n",
       "\n",
       "[5 rows x 22 columns]"
      ]
     },
     "execution_count": 6,
     "metadata": {},
     "output_type": "execute_result"
    }
   ],
   "source": [
    "df.head()"
   ]
  },
  {
   "cell_type": "markdown",
   "id": "5fbd7d92",
   "metadata": {},
   "source": [
    "# Measure of Central Tendency: Mean"
   ]
  },
  {
   "cell_type": "markdown",
   "id": "fd305436",
   "metadata": {},
   "source": [
    "case: mencari nilai mean dari data kolom total unit"
   ]
  },
  {
   "cell_type": "code",
   "execution_count": 37,
   "id": "855497bd",
   "metadata": {},
   "outputs": [
    {
     "name": "stdout",
     "output_type": "stream",
     "text": [
      "mean: TOTAL UNITS    2.249184\n",
      "dtype: float64\n"
     ]
    }
   ],
   "source": [
    "total_unit = df[['TOTAL UNITS']].mean()\n",
    "print(\"mean:\", total_unit)"
   ]
  },
  {
   "cell_type": "markdown",
   "id": "27771f15",
   "metadata": {},
   "source": [
    "# Measure of Central Tendency: Median"
   ]
  },
  {
   "cell_type": "markdown",
   "id": "32d23a0c",
   "metadata": {},
   "source": [
    "case: mencari nilai median dari data pada kolom tahun yang ada pada Borough 1"
   ]
  },
  {
   "cell_type": "code",
   "execution_count": 8,
   "id": "9e8575ee",
   "metadata": {},
   "outputs": [
    {
     "data": {
      "text/plain": [
       "0        1900\n",
       "1        1900\n",
       "2        1900\n",
       "3        1913\n",
       "4        1900\n",
       "         ... \n",
       "18301    1990\n",
       "18302       0\n",
       "18303    1969\n",
       "18304    1967\n",
       "18305    2005\n",
       "Name: YEAR BUILT, Length: 18306, dtype: int64"
      ]
     },
     "execution_count": 8,
     "metadata": {},
     "output_type": "execute_result"
    }
   ],
   "source": [
    "df_year1 = df.loc[df['BOROUGH']==1, 'YEAR BUILT']\n",
    "df_year1"
   ]
  },
  {
   "cell_type": "code",
   "execution_count": 9,
   "id": "b074076b",
   "metadata": {},
   "outputs": [
    {
     "data": {
      "text/plain": [
       "1938.0"
      ]
     },
     "execution_count": 9,
     "metadata": {},
     "output_type": "execute_result"
    }
   ],
   "source": [
    "df_year1.median()"
   ]
  },
  {
   "cell_type": "markdown",
   "id": "5cc96c88",
   "metadata": {},
   "source": [
    "# Measure of Central Tendency: Modus"
   ]
  },
  {
   "cell_type": "markdown",
   "id": "4bfb6538",
   "metadata": {},
   "source": [
    "case: mencari nilai modus atau Building Class at Present yang sering muncul"
   ]
  },
  {
   "cell_type": "code",
   "execution_count": 10,
   "id": "30c9a067",
   "metadata": {},
   "outputs": [
    {
     "data": {
      "text/plain": [
       "0        C2\n",
       "1        C7\n",
       "2        C7\n",
       "3        C4\n",
       "4        C2\n",
       "         ..\n",
       "84543    B9\n",
       "84544    B9\n",
       "84545    B2\n",
       "84546    K6\n",
       "84547    P9\n",
       "Name: BUILDING CLASS AT PRESENT, Length: 84548, dtype: object"
      ]
     },
     "execution_count": 10,
     "metadata": {},
     "output_type": "execute_result"
    }
   ],
   "source": [
    "bclass_present = df[\"BUILDING CLASS AT PRESENT\"]\n",
    "bclass_present"
   ]
  },
  {
   "cell_type": "code",
   "execution_count": 11,
   "id": "5ffa0bd6",
   "metadata": {},
   "outputs": [
    {
     "data": {
      "text/plain": [
       "'D4'"
      ]
     },
     "execution_count": 11,
     "metadata": {},
     "output_type": "execute_result"
    }
   ],
   "source": [
    "statistics.mode(bclass_present)"
   ]
  },
  {
   "cell_type": "markdown",
   "id": "c7cf4d82",
   "metadata": {},
   "source": [
    "# Measure of Spread: Range"
   ]
  },
  {
   "cell_type": "markdown",
   "id": "e3efcc32",
   "metadata": {},
   "source": [
    "case: mencari range harga"
   ]
  },
  {
   "cell_type": "code",
   "execution_count": 12,
   "id": "61d045ec",
   "metadata": {
    "scrolled": true
   },
   "outputs": [
    {
     "data": {
      "text/plain": [
       "0         6625000.0\n",
       "3         3936272.0\n",
       "4         8000000.0\n",
       "6         3192840.0\n",
       "9        16232000.0\n",
       "            ...    \n",
       "84543      450000.0\n",
       "84544      550000.0\n",
       "84545      460000.0\n",
       "84546    11693337.0\n",
       "84547       69300.0\n",
       "Name: SALE PRICE, Length: 69987, dtype: float64"
      ]
     },
     "execution_count": 12,
     "metadata": {},
     "output_type": "execute_result"
    }
   ],
   "source": [
    "sale_price = sale_price = pd.to_numeric(df[\"SALE PRICE\"], errors=\"coerce\")\n",
    "price = sale_price.dropna()\n",
    "price"
   ]
  },
  {
   "cell_type": "code",
   "execution_count": 13,
   "id": "b5e3d5a0",
   "metadata": {},
   "outputs": [
    {
     "data": {
      "text/plain": [
       "2210000000.0"
      ]
     },
     "execution_count": 13,
     "metadata": {},
     "output_type": "execute_result"
    }
   ],
   "source": [
    "np.ptp(price)"
   ]
  },
  {
   "cell_type": "markdown",
   "id": "3576f138",
   "metadata": {},
   "source": [
    "# Measure of Spread: Variance"
   ]
  },
  {
   "cell_type": "markdown",
   "id": "058a9be0",
   "metadata": {},
   "source": [
    "case: mencari nilai varians dari harga"
   ]
  },
  {
   "cell_type": "code",
   "execution_count": 14,
   "id": "57b4b34f",
   "metadata": {},
   "outputs": [
    {
     "data": {
      "text/plain": [
       "0         6625000.0\n",
       "3         3936272.0\n",
       "4         8000000.0\n",
       "6         3192840.0\n",
       "9        16232000.0\n",
       "            ...    \n",
       "84543      450000.0\n",
       "84544      550000.0\n",
       "84545      460000.0\n",
       "84546    11693337.0\n",
       "84547       69300.0\n",
       "Name: SALE PRICE, Length: 69987, dtype: float64"
      ]
     },
     "execution_count": 14,
     "metadata": {},
     "output_type": "execute_result"
    }
   ],
   "source": [
    "price"
   ]
  },
  {
   "cell_type": "code",
   "execution_count": 15,
   "id": "6cc2cdef",
   "metadata": {},
   "outputs": [
    {
     "data": {
      "text/plain": [
       "130079849507172.66"
      ]
     },
     "execution_count": 15,
     "metadata": {},
     "output_type": "execute_result"
    }
   ],
   "source": [
    "statistics.variance(price)"
   ]
  },
  {
   "cell_type": "markdown",
   "id": "57fbcaa4",
   "metadata": {},
   "source": [
    "# Measure of Spread: Standard Deviation"
   ]
  },
  {
   "cell_type": "markdown",
   "id": "33dc5789",
   "metadata": {},
   "source": [
    "case: mencari nilai standar deviasi dari total unit"
   ]
  },
  {
   "cell_type": "code",
   "execution_count": 16,
   "id": "3a911c1d",
   "metadata": {},
   "outputs": [
    {
     "data": {
      "text/plain": [
       "0         5\n",
       "1        31\n",
       "2        17\n",
       "3        10\n",
       "4         6\n",
       "         ..\n",
       "84543     2\n",
       "84544     2\n",
       "84545     2\n",
       "84546     7\n",
       "84547     1\n",
       "Name: TOTAL UNITS, Length: 84548, dtype: int64"
      ]
     },
     "execution_count": 16,
     "metadata": {},
     "output_type": "execute_result"
    }
   ],
   "source": [
    "Total_units = df[\"TOTAL UNITS\"]\n",
    "Total_units"
   ]
  },
  {
   "cell_type": "code",
   "execution_count": 17,
   "id": "3e9b621d",
   "metadata": {},
   "outputs": [
    {
     "data": {
      "text/plain": [
       "18.97258443202673"
      ]
     },
     "execution_count": 17,
     "metadata": {},
     "output_type": "execute_result"
    }
   ],
   "source": [
    "statistics.stdev(Total_units)"
   ]
  },
  {
   "cell_type": "markdown",
   "id": "9a39c375",
   "metadata": {},
   "source": [
    "# Probability Distribution"
   ]
  },
  {
   "cell_type": "markdown",
   "id": "38a447d6",
   "metadata": {},
   "source": [
    "case: membuat distribusi probabilitas dari data total units kedalam distribusi normal"
   ]
  },
  {
   "cell_type": "code",
   "execution_count": 18,
   "id": "3703ad3d",
   "metadata": {},
   "outputs": [
    {
     "name": "stdout",
     "output_type": "stream",
     "text": [
      "<class 'pandas.core.frame.DataFrame'>\n",
      "RangeIndex: 84548 entries, 0 to 84547\n",
      "Data columns (total 22 columns):\n",
      " #   Column                          Non-Null Count  Dtype \n",
      "---  ------                          --------------  ----- \n",
      " 0   Unnamed: 0                      84548 non-null  int64 \n",
      " 1   BOROUGH                         84548 non-null  int64 \n",
      " 2   NEIGHBORHOOD                    84548 non-null  object\n",
      " 3   BUILDING CLASS CATEGORY         84548 non-null  object\n",
      " 4   TAX CLASS AT PRESENT            84548 non-null  object\n",
      " 5   BLOCK                           84548 non-null  int64 \n",
      " 6   LOT                             84548 non-null  int64 \n",
      " 7   EASE-MENT                       84548 non-null  object\n",
      " 8   BUILDING CLASS AT PRESENT       84548 non-null  object\n",
      " 9   ADDRESS                         84548 non-null  object\n",
      " 10  APARTMENT NUMBER                84548 non-null  object\n",
      " 11  ZIP CODE                        84548 non-null  int64 \n",
      " 12  RESIDENTIAL UNITS               84548 non-null  int64 \n",
      " 13  COMMERCIAL UNITS                84548 non-null  int64 \n",
      " 14  TOTAL UNITS                     84548 non-null  int64 \n",
      " 15  LAND SQUARE FEET                84548 non-null  object\n",
      " 16  GROSS SQUARE FEET               84548 non-null  object\n",
      " 17  YEAR BUILT                      84548 non-null  int64 \n",
      " 18  TAX CLASS AT TIME OF SALE       84548 non-null  int64 \n",
      " 19  BUILDING CLASS AT TIME OF SALE  84548 non-null  object\n",
      " 20  SALE PRICE                      84548 non-null  object\n",
      " 21  SALE DATE                       84548 non-null  object\n",
      "dtypes: int64(10), object(12)\n",
      "memory usage: 14.2+ MB\n"
     ]
    }
   ],
   "source": [
    "df.info()"
   ]
  },
  {
   "cell_type": "code",
   "execution_count": 19,
   "id": "11a8c2a6",
   "metadata": {},
   "outputs": [
    {
     "data": {
      "text/plain": [
       "0         5\n",
       "1        31\n",
       "2        17\n",
       "3        10\n",
       "4         6\n",
       "         ..\n",
       "84543     2\n",
       "84544     2\n",
       "84545     2\n",
       "84546     7\n",
       "84547     1\n",
       "Name: TOTAL UNITS, Length: 84548, dtype: int64"
      ]
     },
     "execution_count": 19,
     "metadata": {},
     "output_type": "execute_result"
    }
   ],
   "source": [
    "from scipy.stats import norm\n",
    "data_normal = df[\"TOTAL UNITS\"]\n",
    "data_normal"
   ]
  },
  {
   "cell_type": "code",
   "execution_count": 20,
   "id": "8e0e2bc5",
   "metadata": {},
   "outputs": [
    {
     "name": "stderr",
     "output_type": "stream",
     "text": [
      "C:\\Users\\ACER\\anaconda3\\lib\\site-packages\\seaborn\\distributions.py:2619: FutureWarning: `distplot` is a deprecated function and will be removed in a future version. Please adapt your code to use either `displot` (a figure-level function with similar flexibility) or `histplot` (an axes-level function for histograms).\n",
      "  warnings.warn(msg, FutureWarning)\n"
     ]
    },
    {
     "data": {
      "text/plain": [
       "[Text(0.5, 0, 'Normal Distribution'), Text(0, 0.5, 'Frequency')]"
      ]
     },
     "execution_count": 20,
     "metadata": {},
     "output_type": "execute_result"
    },
    {
     "data": {
      "image/png": "[encoded data removed]",
      "text/plain": [
       "<Figure size 360x360 with 1 Axes>"
      ]
     },
     "metadata": {},
     "output_type": "display_data"
    }
   ],
   "source": [
    "ax = sns.distplot(data_normal,\n",
    "                 bins=100,\n",
    "                 kde = True,\n",
    "                 color = 'blue',\n",
    "                 hist_kws={\"linewidth\":15, 'alpha':1})\n",
    "ax.set(xlabel='Normal Distribution', ylabel = 'Frequency')"
   ]
  },
  {
   "cell_type": "markdown",
   "id": "54fdc1db",
   "metadata": {},
   "source": [
    "# Confidence Intervals"
   ]
  },
  {
   "cell_type": "markdown",
   "id": "f3c2e03f",
   "metadata": {},
   "source": [
    "case: mencari confidence intervals untuk total unit BOROUGH 1 "
   ]
  },
  {
   "cell_type": "code",
   "execution_count": 45,
   "id": "a8670715",
   "metadata": {
    "scrolled": true
   },
   "outputs": [
    {
     "data": {
      "text/html": [
       "<div>\n",
       "<style scoped>\n",
       "    .dataframe tbody tr th:only-of-type {\n",
       "        vertical-align: middle;\n",
       "    }\n",
       "\n",
       "    .dataframe tbody tr th {\n",
       "        vertical-align: top;\n",
       "    }\n",
       "\n",
       "    .dataframe thead th {\n",
       "        text-align: right;\n",
       "    }\n",
       "</style>\n",
       "<table border=\"1\" class=\"dataframe\">\n",
       "  <thead>\n",
       "    <tr style=\"text-align: right;\">\n",
       "      <th></th>\n",
       "      <th>TOTAL UNITS</th>\n",
       "    </tr>\n",
       "    <tr>\n",
       "      <th>BOROUGH</th>\n",
       "      <th></th>\n",
       "    </tr>\n",
       "  </thead>\n",
       "  <tbody>\n",
       "    <tr>\n",
       "      <th>1</th>\n",
       "      <td>48504</td>\n",
       "    </tr>\n",
       "    <tr>\n",
       "      <th>2</th>\n",
       "      <td>25403</td>\n",
       "    </tr>\n",
       "    <tr>\n",
       "      <th>3</th>\n",
       "      <td>53400</td>\n",
       "    </tr>\n",
       "    <tr>\n",
       "      <th>4</th>\n",
       "      <td>51841</td>\n",
       "    </tr>\n",
       "    <tr>\n",
       "      <th>5</th>\n",
       "      <td>11016</td>\n",
       "    </tr>\n",
       "  </tbody>\n",
       "</table>\n",
       "</div>"
      ],
      "text/plain": [
       "         TOTAL UNITS\n",
       "BOROUGH             \n",
       "1              48504\n",
       "2              25403\n",
       "3              53400\n",
       "4              51841\n",
       "5              11016"
      ]
     },
     "execution_count": 45,
     "metadata": {},
     "output_type": "execute_result"
    }
   ],
   "source": [
    "total_unit_borough = df[[\"BOROUGH\", \"TOTAL UNITS\"]].groupby(\"BOROUGH\").sum()\n",
    "total_unit_borough"
   ]
  },
  {
   "cell_type": "markdown",
   "id": "5d075b33",
   "metadata": {},
   "source": [
    "**menghitung jumlah populasi unit:**"
   ]
  },
  {
   "cell_type": "code",
   "execution_count": 46,
   "id": "42bac866",
   "metadata": {},
   "outputs": [
    {
     "data": {
      "text/plain": [
       "190164"
      ]
     },
     "execution_count": 46,
     "metadata": {},
     "output_type": "execute_result"
    }
   ],
   "source": [
    "n = df[\"TOTAL UNITS\"].sum()\n",
    "n"
   ]
  },
  {
   "cell_type": "markdown",
   "id": "d91acb38",
   "metadata": {},
   "source": [
    "**menghitung proporsi Borough 1:**"
   ]
  },
  {
   "cell_type": "code",
   "execution_count": 63,
   "id": "1c41c41a",
   "metadata": {},
   "outputs": [
    {
     "name": "stdout",
     "output_type": "stream",
     "text": [
      "Proporsi Borough 1: 0.2550640499779138\n"
     ]
    }
   ],
   "source": [
    "p_B1 = df.loc[df[\"BOROUGH\"]==1, \"TOTAL UNITS\"].sum() / n\n",
    "print(\"Proporsi Borough 1:\", p_B1)"
   ]
  },
  {
   "cell_type": "markdown",
   "id": "d97820d4",
   "metadata": {},
   "source": [
    "**menghitung standar error:**"
   ]
  },
  {
   "cell_type": "code",
   "execution_count": 64,
   "id": "02aa9e35",
   "metadata": {},
   "outputs": [
    {
     "data": {
      "text/plain": [
       "0.000999585483351289"
      ]
     },
     "execution_count": 64,
     "metadata": {},
     "output_type": "execute_result"
    }
   ],
   "source": [
    "SE = np.sqrt(p_B1 * (1 - p_B1) / n)\n",
    "SE"
   ]
  },
  {
   "cell_type": "markdown",
   "id": "6246ddfa",
   "metadata": {},
   "source": [
    "**Membuat CI dengan z-score 1,96 untuk confidence interval 95%:**"
   ]
  },
  {
   "cell_type": "code",
   "execution_count": 68,
   "id": "6db4371d",
   "metadata": {},
   "outputs": [
    {
     "name": "stdout",
     "output_type": "stream",
     "text": [
      "lcb: 0.2531048624305453\n",
      "ucb: 0.25702323752528233\n"
     ]
    }
   ],
   "source": [
    "z_score = 1.96\n",
    "lcb = p_B1 - z_score * SE\n",
    "ucb = p_B1 + z_score * SE\n",
    "print(\"lcb:\", lcb)\n",
    "print(\"ucb:\", ucb)"
   ]
  },
  {
   "cell_type": "markdown",
   "id": "42df7ade",
   "metadata": {},
   "source": [
    "**dari perhitungan diatas diperoleh bahwa confidence interval untuk total unit pada BOROUGH 1 adalah 0.253 dan 0.257**\\\n",
    "untuk membuktikan apakah CI yang dihasilkan akurat dengan nilai mean sebuah sample maka bisa di hitung mean dari total units BOROUGH 1"
   ]
  },
  {
   "cell_type": "code",
   "execution_count": 74,
   "id": "d2b3e3bb",
   "metadata": {},
   "outputs": [
    {
     "name": "stdout",
     "output_type": "stream",
     "text": [
      "mean sampel Borough 1: 0.2550640499779138\n"
     ]
    }
   ],
   "source": [
    "Borough1 = df.loc[df[\"BOROUGH\"]==1, \"TOTAL UNITS\"].sum()\n",
    "mean_sample = Borough1 / n\n",
    "print(\"mean sampel Borough 1:\", mean_sample)"
   ]
  },
  {
   "cell_type": "markdown",
   "id": "8dbf90cb",
   "metadata": {},
   "source": [
    "diperoleh nilai mean sampel 0.25 yang berada di dalam interval ucl dan ucb (nilai tepat berada di tengah-tengah interval konvidensi). sehingga dalam hal ini telah membuktikan bahwa CI yang dihasilkan telah akurat"
   ]
  },
  {
   "cell_type": "markdown",
   "id": "86fe6410",
   "metadata": {},
   "source": [
    "# Hypothesis Testing"
   ]
  },
  {
   "cell_type": "markdown",
   "id": "f3d13d43",
   "metadata": {},
   "source": [
    "**case: menguji apakah data total unit berdistribusi normal?**"
   ]
  },
  {
   "cell_type": "markdown",
   "id": "af98414b",
   "metadata": {},
   "source": [
    "**Hipotesis**\\\n",
    "H0: data berdistribusi normal\\\n",
    "H1: data tidak berdistribusi normal"
   ]
  },
  {
   "cell_type": "markdown",
   "id": "6785d371",
   "metadata": {},
   "source": [
    "**Taraf Signifikansi:**\\\n",
    "alfa = 5%"
   ]
  },
  {
   "cell_type": "markdown",
   "id": "a75946ee",
   "metadata": {},
   "source": [
    "**Statistik Uji:**"
   ]
  },
  {
   "cell_type": "code",
   "execution_count": 75,
   "id": "dc2380b2",
   "metadata": {},
   "outputs": [],
   "source": [
    "from scipy.stats import kstest"
   ]
  },
  {
   "cell_type": "code",
   "execution_count": 78,
   "id": "d724c4be",
   "metadata": {},
   "outputs": [
    {
     "data": {
      "text/plain": [
       "0         5\n",
       "1        31\n",
       "2        17\n",
       "3        10\n",
       "4         6\n",
       "         ..\n",
       "84543     2\n",
       "84544     2\n",
       "84545     2\n",
       "84546     7\n",
       "84547     1\n",
       "Name: TOTAL UNITS, Length: 84548, dtype: int64"
      ]
     },
     "execution_count": 78,
     "metadata": {},
     "output_type": "execute_result"
    }
   ],
   "source": [
    "data_unit = df[\"TOTAL UNITS\"]\n",
    "data_unit"
   ]
  },
  {
   "cell_type": "code",
   "execution_count": 80,
   "id": "257fcc19",
   "metadata": {},
   "outputs": [
    {
     "data": {
      "text/plain": [
       "KstestResult(statistic=0.6076076972915169, pvalue=0.0)"
      ]
     },
     "execution_count": 80,
     "metadata": {},
     "output_type": "execute_result"
    }
   ],
   "source": [
    "ksdata = kstest(data_unit, 'norm')\n",
    "ksdata"
   ]
  },
  {
   "cell_type": "markdown",
   "id": "4a4db4fe",
   "metadata": {},
   "source": [
    "**Daerah Kritis:**\\\n",
    "H0 ditolak jika nilai p-value < alfa"
   ]
  },
  {
   "cell_type": "markdown",
   "id": "fd0ec673",
   "metadata": {},
   "source": [
    "**Keputusan:**\\\n",
    "H0 ditolak karena nilai p-value (0.0) < alfa (0.05)"
   ]
  },
  {
   "cell_type": "markdown",
   "id": "39b28673",
   "metadata": {},
   "source": [
    "**Kesimpulan:**\\\n",
    "pada taraf signifikansi alfa 5%, H0 ditolak sehingga data tidak berdistribusi normal"
   ]
  }
 ],
 "metadata": {
  "kernelspec": {
   "display_name": "Python 3 (ipykernel)",
   "language": "python",
   "name": "python3"
  },
  "language_info": {
   "codemirror_mode": {
    "name": "ipython",
    "version": 3
   },
   "file_extension": ".py",
   "mimetype": "text/x-python",
   "name": "python",
   "nbconvert_exporter": "python",
   "pygments_lexer": "ipython3",
   "version": "3.9.12"
  },
  "toc": {
   "base_numbering": 1,
   "nav_menu": {},
   "number_sections": true,
   "sideBar": true,
   "skip_h1_title": false,
   "title_cell": "Table of Contents",
   "title_sidebar": "Contents",
   "toc_cell": false,
   "toc_position": {},
   "toc_section_display": true,
   "toc_window_display": false
  }
 },
 "nbformat": 4,
 "nbformat_minor": 5
}

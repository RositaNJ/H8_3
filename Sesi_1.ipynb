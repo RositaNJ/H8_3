{
 "cells": [
  {
   "cell_type": "markdown",
   "id": "9839930f",
   "metadata": {},
   "source": [
    "## Integers"
   ]
  },
  {
   "cell_type": "code",
   "execution_count": 1,
   "id": "a9d60119",
   "metadata": {},
   "outputs": [
    {
     "name": "stdout",
     "output_type": "stream",
     "text": [
      "123456790\n"
     ]
    }
   ],
   "source": [
    "print(123456789 + 1)"
   ]
  },
  {
   "cell_type": "code",
   "execution_count": 4,
   "id": "22f27eb7",
   "metadata": {},
   "outputs": [
    {
     "name": "stdout",
     "output_type": "stream",
     "text": [
      "10\n",
      "<class 'int'>\n"
     ]
    }
   ],
   "source": [
    "print(10)\n",
    "print(type(10))"
   ]
  },
  {
   "cell_type": "markdown",
   "id": "b1e541f2",
   "metadata": {},
   "source": [
    "## Floating-point Numbers"
   ]
  },
  {
   "cell_type": "code",
   "execution_count": 5,
   "id": "1ec091c0",
   "metadata": {},
   "outputs": [
    {
     "name": "stdout",
     "output_type": "stream",
     "text": [
      "4.8\n",
      "<class 'float'>\n",
      "4.0\n",
      "0.4\n",
      "4000000.0\n",
      "42000000.0\n"
     ]
    }
   ],
   "source": [
    "print(4.8)\n",
    "print(type(4.8))\n",
    "print(4.)\n",
    "print(.4)\n",
    "print(.4e7)\n",
    "print(4.2e7)"
   ]
  },
  {
   "cell_type": "markdown",
   "id": "be59f808",
   "metadata": {},
   "source": [
    "## Strings"
   ]
  },
  {
   "cell_type": "code",
   "execution_count": 7,
   "id": "69817341",
   "metadata": {},
   "outputs": [
    {
     "name": "stdout",
     "output_type": "stream",
     "text": [
      "Hacktiv8\n",
      "<class 'str'>\n"
     ]
    }
   ],
   "source": [
    "print(\"Hacktiv8\")\n",
    "print(type(\"Hacktiv8\"))"
   ]
  },
  {
   "cell_type": "code",
   "execution_count": 1,
   "id": "66902cb1",
   "metadata": {},
   "outputs": [
    {
     "name": "stdout",
     "output_type": "stream",
     "text": [
      "\n",
      "this string contains a single quote(') character.\n",
      "this string contains a double quote(\")character.\n"
     ]
    }
   ],
   "source": [
    "print('')\n",
    "print(\"this string contains a single quote(') character.\")\n",
    "print('this string contains a double quote(\")character.')"
   ]
  },
  {
   "cell_type": "markdown",
   "id": "cf99d6ab",
   "metadata": {},
   "source": [
    "## Boolean Type, Boolean Context, and \"Truthiness\""
   ]
  },
  {
   "cell_type": "code",
   "execution_count": 3,
   "id": "67994f12",
   "metadata": {},
   "outputs": [
    {
     "name": "stdout",
     "output_type": "stream",
     "text": [
      "<class 'bool'>\n",
      "<class 'bool'>\n"
     ]
    }
   ],
   "source": [
    "print(type(True))\n",
    "print(type(False))"
   ]
  },
  {
   "cell_type": "markdown",
   "id": "2af90ca2",
   "metadata": {},
   "source": [
    "## Variable Assignment"
   ]
  },
  {
   "cell_type": "code",
   "execution_count": 6,
   "id": "0f8270f2",
   "metadata": {},
   "outputs": [
    {
     "name": "stdout",
     "output_type": "stream",
     "text": [
      "300\n"
     ]
    },
    {
     "data": {
      "text/plain": [
       "300"
      ]
     },
     "execution_count": 6,
     "metadata": {},
     "output_type": "execute_result"
    }
   ],
   "source": [
    "n = 300\n",
    "print(n)\n",
    "n\n",
    "#later, if you change the value of n and use it again, the new value will be substituted instead"
   ]
  },
  {
   "cell_type": "code",
   "execution_count": 7,
   "id": "009112e0",
   "metadata": {},
   "outputs": [
    {
     "name": "stdout",
     "output_type": "stream",
     "text": [
      "200 200 200\n"
     ]
    }
   ],
   "source": [
    "a=b=c=200\n",
    "print(a, b, c)"
   ]
  },
  {
   "cell_type": "markdown",
   "id": "3cc2f0bb",
   "metadata": {},
   "source": [
    "## Variable Types in Python"
   ]
  },
  {
   "cell_type": "code",
   "execution_count": 10,
   "id": "ec2e0f7d",
   "metadata": {},
   "outputs": [
    {
     "name": "stdout",
     "output_type": "stream",
     "text": [
      "24.3\n",
      "<class 'float'>\n",
      "now i'am a string\n",
      "<class 'str'>\n"
     ]
    }
   ],
   "source": [
    "var = 24.3\n",
    "print(var)\n",
    "print(type(var))\n",
    "\n",
    "other_var = \"now i'am a string\"\n",
    "print(other_var)\n",
    "print(type(other_var))"
   ]
  },
  {
   "cell_type": "markdown",
   "id": "a3811215",
   "metadata": {},
   "source": [
    "## Variable Names"
   ]
  },
  {
   "cell_type": "code",
   "execution_count": 11,
   "id": "e51ca6ee",
   "metadata": {},
   "outputs": [
    {
     "name": "stdout",
     "output_type": "stream",
     "text": [
      "HACKTIV8 54 True\n"
     ]
    }
   ],
   "source": [
    "name=\"HACKTIV8\"\n",
    "Age=54\n",
    "has_laptops=True\n",
    "print(name, Age, has_laptops)"
   ]
  },
  {
   "cell_type": "code",
   "execution_count": 12,
   "id": "63333dd3",
   "metadata": {},
   "outputs": [
    {
     "ename": "SyntaxError",
     "evalue": "invalid decimal literal (2945608085.py, line 2)",
     "output_type": "error",
     "traceback": [
      "\u001b[1;36m  Input \u001b[1;32mIn [12]\u001b[1;36m\u001b[0m\n\u001b[1;33m    9_kepala_naga=True\u001b[0m\n\u001b[1;37m     ^\u001b[0m\n\u001b[1;31mSyntaxError\u001b[0m\u001b[1;31m:\u001b[0m invalid decimal literal\n"
     ]
    }
   ],
   "source": [
    "#variable names can't contain numbers\n",
    "9_kepala_naga=True"
   ]
  },
  {
   "cell_type": "code",
   "execution_count": 13,
   "id": "039060d5",
   "metadata": {},
   "outputs": [
    {
     "name": "stdout",
     "output_type": "stream",
     "text": [
      "1 2 3 4 5 6 7\n"
     ]
    }
   ],
   "source": [
    "age=1\n",
    "Age=2\n",
    "aGe=3\n",
    "AGE=4\n",
    "A_G_E=5\n",
    "_age=6\n",
    "age_=7\n",
    "\n",
    "print(age, Age, aGe, AGE, A_G_E, _age, age_)"
   ]
  },
  {
   "cell_type": "markdown",
   "id": "8ea4d0ac",
   "metadata": {},
   "source": [
    "## Operators and Expressions in Python"
   ]
  },
  {
   "cell_type": "code",
   "execution_count": 16,
   "id": "abbfcde3",
   "metadata": {},
   "outputs": [
    {
     "name": "stdout",
     "output_type": "stream",
     "text": [
      "15\n",
      "10\n"
     ]
    }
   ],
   "source": [
    "a=10\n",
    "b=5\n",
    "a+b\n",
    "a+b-5\n",
    "\n",
    "print(a+b)\n",
    "print(a+b-5)"
   ]
  },
  {
   "cell_type": "markdown",
   "id": "f980fe8d",
   "metadata": {},
   "source": [
    "## Arithmetic Operators"
   ]
  },
  {
   "cell_type": "code",
   "execution_count": 17,
   "id": "d4bd00ad",
   "metadata": {},
   "outputs": [
    {
     "name": "stdout",
     "output_type": "stream",
     "text": [
      "7\n",
      "1\n",
      "12\n",
      "1.3333333333333333\n",
      "1\n",
      "64\n"
     ]
    }
   ],
   "source": [
    "a=4\n",
    "b=3\n",
    "\n",
    "print(a+b)\n",
    "print(a-b)\n",
    "print(a*b)\n",
    "print(a/b)\n",
    "print(a%b)\n",
    "print(a**b)"
   ]
  },
  {
   "cell_type": "code",
   "execution_count": 18,
   "id": "671b588e",
   "metadata": {},
   "outputs": [
    {
     "data": {
      "text/plain": [
       "2.0"
      ]
     },
     "execution_count": 18,
     "metadata": {},
     "output_type": "execute_result"
    }
   ],
   "source": [
    "#the result of standard division (/) is always a float, even if the dividend is evenly divisible by the divisor\n",
    "10/5"
   ]
  },
  {
   "cell_type": "markdown",
   "id": "f59e1389",
   "metadata": {},
   "source": [
    "## Comparison Operators"
   ]
  },
  {
   "cell_type": "code",
   "execution_count": 19,
   "id": "369577ac",
   "metadata": {},
   "outputs": [
    {
     "name": "stdout",
     "output_type": "stream",
     "text": [
      "False\n",
      "True\n",
      "True\n",
      "False\n"
     ]
    }
   ],
   "source": [
    "#Here are examples of th ecomparison operators in use\n",
    "a=10\n",
    "b=20\n",
    "print(a==b)\n",
    "print(a!=b)\n",
    "print(a<=b)\n",
    "print(a>=b)"
   ]
  },
  {
   "cell_type": "markdown",
   "id": "324a0455",
   "metadata": {},
   "source": [
    "## String Manipulation"
   ]
  },
  {
   "cell_type": "code",
   "execution_count": 20,
   "id": "5cc05f37",
   "metadata": {},
   "outputs": [
    {
     "name": "stdout",
     "output_type": "stream",
     "text": [
      "foobar\n",
      "foobarbaz\n",
      "Hacktiv8PTP\n"
     ]
    }
   ],
   "source": [
    "# + Operators\n",
    "s='foo'\n",
    "t='bar'\n",
    "u='baz'\n",
    "\n",
    "print(s+t)\n",
    "print(s+t+u)\n",
    "\n",
    "print('Hacktiv8'+'PTP')"
   ]
  },
  {
   "cell_type": "code",
   "execution_count": 23,
   "id": "4e718482",
   "metadata": {},
   "outputs": [
    {
     "data": {
      "text/plain": [
       "'foo.foo.foo.foo.'"
      ]
     },
     "execution_count": 23,
     "metadata": {},
     "output_type": "execute_result"
    }
   ],
   "source": [
    "# * Operators\n",
    "s='foo.'\n",
    "s*4"
   ]
  },
  {
   "cell_type": "code",
   "execution_count": 24,
   "id": "5710eb2c",
   "metadata": {},
   "outputs": [
    {
     "name": "stdout",
     "output_type": "stream",
     "text": [
      "False\n",
      "True\n"
     ]
    }
   ],
   "source": [
    "#in Operators\n",
    "s='foo'\n",
    "\n",
    "print(s in 'that good for us')\n",
    "print(s in 'that food for us')"
   ]
  },
  {
   "cell_type": "code",
   "execution_count": 29,
   "id": "4b5b6b11",
   "metadata": {},
   "outputs": [
    {
     "name": "stdout",
     "output_type": "stream",
     "text": [
      "Hacktiv8\n",
      "hacktiv8\n",
      "hACKtiv8\n",
      "Hacktiv8\n",
      "HACKTIV8\n"
     ]
    }
   ],
   "source": [
    "#case conversion\n",
    "s=\"HackTIV8\"\n",
    "\n",
    "#Capitalize\n",
    "print(s.capitalize())\n",
    "\n",
    "#Lower\n",
    "print(s.lower())\n",
    "\n",
    "#swapcase\n",
    "print(s.swapcase())\n",
    "\n",
    "#title\n",
    "print(s.title())\n",
    "\n",
    "#uppercase\n",
    "print(s.upper())"
   ]
  },
  {
   "cell_type": "markdown",
   "id": "408ca99d",
   "metadata": {},
   "source": [
    "## Python List"
   ]
  },
  {
   "cell_type": "code",
   "execution_count": 30,
   "id": "00c4332c",
   "metadata": {},
   "outputs": [
    {
     "name": "stdout",
     "output_type": "stream",
     "text": [
      "['foo', 'bar', 'qux']\n"
     ]
    }
   ],
   "source": [
    "a=['foo', 'bar', 'qux']\n",
    "print(a)"
   ]
  },
  {
   "cell_type": "markdown",
   "id": "3e6e53dd",
   "metadata": {},
   "source": [
    "### List Are Ordered"
   ]
  },
  {
   "cell_type": "code",
   "execution_count": 32,
   "id": "57bda38d",
   "metadata": {},
   "outputs": [
    {
     "data": {
      "text/plain": [
       "False"
      ]
     },
     "execution_count": 32,
     "metadata": {},
     "output_type": "execute_result"
    }
   ],
   "source": [
    "a=['foo','bar','baz','qux']\n",
    "b=['baz','qux','bar','foo']\n",
    "a==b"
   ]
  },
  {
   "cell_type": "markdown",
   "id": "cd701441",
   "metadata": {},
   "source": [
    "### List can Contain Arbitrary Objects"
   ]
  },
  {
   "cell_type": "code",
   "execution_count": 34,
   "id": "d86d9dc9",
   "metadata": {},
   "outputs": [
    {
     "name": "stdout",
     "output_type": "stream",
     "text": [
      "[21.42, 'foobar', 3, 4, 'bark', False, 3.14159]\n"
     ]
    }
   ],
   "source": [
    "a=[21.42, 'foobar', 3, 4, 'bark', False, 3.14159]\n",
    "print(a)"
   ]
  },
  {
   "cell_type": "markdown",
   "id": "fbd04df5",
   "metadata": {},
   "source": [
    "### List Elements Can Be Accessed by Index"
   ]
  },
  {
   "cell_type": "code",
   "execution_count": 39,
   "id": "aefd908d",
   "metadata": {},
   "outputs": [
    {
     "name": "stdout",
     "output_type": "stream",
     "text": [
      "foo\n",
      "corge\n",
      "corge\n",
      "foo\n",
      "['baz', 'qux', 'quux']\n"
     ]
    }
   ],
   "source": [
    "a=['foo', 'bar', 'baz','qux','quux','corge']\n",
    "print(a[0])\n",
    "print(a[5])\n",
    "print(a[-1])\n",
    "print(a[-6])\n",
    "\n",
    "print(a[2:5])"
   ]
  },
  {
   "cell_type": "code",
   "execution_count": 40,
   "id": "c6fdf5f1",
   "metadata": {},
   "outputs": [
    {
     "name": "stdout",
     "output_type": "stream",
     "text": [
      "['foo', 'bar', 'baz', 'qux', 'quux', 'corge']\n",
      "['foo', 'bar', 'baz', 'qux', 'quux', 'corge', 'grault', 'garply']\n",
      "['foo', 'bar', 'baz', 'qux', 'quux', 'corge', 'foo', 'bar', 'baz', 'qux', 'quux', 'corge']\n"
     ]
    }
   ],
   "source": [
    "#the concatenation (+) and replication (*) operators\n",
    "a=['foo', 'bar', 'baz','qux','quux','corge']\n",
    "\n",
    "print(a)\n",
    "\n",
    "print(a+['grault', 'garply'])\n",
    "print(a*2)"
   ]
  },
  {
   "cell_type": "code",
   "execution_count": 41,
   "id": "2c05c69e",
   "metadata": {},
   "outputs": [
    {
     "name": "stdout",
     "output_type": "stream",
     "text": [
      "['foo', 'bar', 'baz', 'qux', 'quux', 'corge']\n",
      "6\n",
      "bar\n",
      "qux\n"
     ]
    }
   ],
   "source": [
    "#len(), min(), max()\n",
    "a=['foo', 'bar', 'baz','qux','quux','corge']\n",
    "print(a)\n",
    "\n",
    "print(len(a))\n",
    "print(min(a))\n",
    "print(max(a))"
   ]
  },
  {
   "cell_type": "markdown",
   "id": "c04f87ac",
   "metadata": {},
   "source": [
    "### Modifying a Single List Value"
   ]
  },
  {
   "cell_type": "code",
   "execution_count": 47,
   "id": "ee1c0e1b",
   "metadata": {},
   "outputs": [
    {
     "name": "stdout",
     "output_type": "stream",
     "text": [
      "['foo', 'bar', 'baz', 'qux', 'quux', 'corge']\n",
      "['foo', 'bar', 10, 'qux', 'quux', 20]\n",
      "['foo', 'bar', 'baz', 'quux', 'corge']\n"
     ]
    }
   ],
   "source": [
    "a=['foo', 'bar', 'baz','qux','quux','corge']\n",
    "\n",
    "print(a)\n",
    "\n",
    "a[2]=10\n",
    "a[-1]=20\n",
    "\n",
    "print(a)\n"
   ]
  },
  {
   "cell_type": "code",
   "execution_count": 46,
   "id": "94ab9c0a",
   "metadata": {},
   "outputs": [
    {
     "name": "stdout",
     "output_type": "stream",
     "text": [
      "['foo', 'bar', 'baz', 'quux', 'corge']\n"
     ]
    }
   ],
   "source": [
    "#A list item can deleted with the del command\n",
    "a=['foo', 'bar', 'baz','qux','quux','corge']\n",
    "\n",
    "del a[3]\n",
    "print(a)"
   ]
  },
  {
   "cell_type": "markdown",
   "id": "7b1caad2",
   "metadata": {},
   "source": [
    "### Modifying Multiple List Values"
   ]
  },
  {
   "cell_type": "code",
   "execution_count": 48,
   "id": "24b950b4",
   "metadata": {},
   "outputs": [
    {
     "name": "stdout",
     "output_type": "stream",
     "text": [
      "['bar', 'baz', 'qux']\n",
      "['foo', 1.1, 2.2, 3.3, 4.4, 5.5, 'quux', 'corge']\n"
     ]
    }
   ],
   "source": [
    "a=['foo', 'bar', 'baz','qux','quux','corge']\n",
    "\n",
    "print(a[1:4])\n",
    "a[1:4]=[1.1, 2.2, 3.3, 4.4, 5.5]\n",
    "\n",
    "print(a)"
   ]
  },
  {
   "cell_type": "markdown",
   "id": "08c34e3a",
   "metadata": {},
   "source": [
    "# Python Tuples"
   ]
  },
  {
   "cell_type": "markdown",
   "id": "38c13acf",
   "metadata": {},
   "source": [
    "## Defining and Using Tuples"
   ]
  },
  {
   "cell_type": "code",
   "execution_count": 50,
   "id": "3888030c",
   "metadata": {},
   "outputs": [
    {
     "name": "stdout",
     "output_type": "stream",
     "text": [
      "('foo', 'bar', 'baz', 'qux', 'quux', 'corge')\n",
      "foo\n",
      "corge\n"
     ]
    }
   ],
   "source": [
    "t=('foo', 'bar', 'baz','qux','quux','corge')\n",
    "print(t)\n",
    "\n",
    "print(t[0])\n",
    "print(t[-1])"
   ]
  },
  {
   "cell_type": "code",
   "execution_count": 51,
   "id": "4489a778",
   "metadata": {},
   "outputs": [
    {
     "data": {
      "text/plain": [
       "'foo'"
      ]
     },
     "execution_count": 51,
     "metadata": {},
     "output_type": "execute_result"
    }
   ],
   "source": [
    "#Packing and unpacking\n",
    "(s1, s2, s3, s4)=('foo', 'bar', 'baz', 'qux')\n",
    "s1"
   ]
  },
  {
   "cell_type": "markdown",
   "id": "9497bf6d",
   "metadata": {},
   "source": [
    "# Python Dictionary"
   ]
  },
  {
   "cell_type": "markdown",
   "id": "e503167d",
   "metadata": {},
   "source": [
    "## Defining a Dictionary"
   ]
  },
  {
   "cell_type": "code",
   "execution_count": 52,
   "id": "c64e76bd",
   "metadata": {},
   "outputs": [],
   "source": [
    "MLB_team={\n",
    "    'colorado':'rockies',\n",
    "    'boston':'res sox',\n",
    "    'minnesota':'twins',\n",
    "    'milwaukee':'brewers',\n",
    "    'seattle':'mariners'\n",
    "}"
   ]
  },
  {
   "cell_type": "markdown",
   "id": "9d60299a",
   "metadata": {},
   "source": [
    "## Accessing Dictionary Values"
   ]
  },
  {
   "cell_type": "code",
   "execution_count": 53,
   "id": "ef904378",
   "metadata": {},
   "outputs": [
    {
     "name": "stdout",
     "output_type": "stream",
     "text": [
      "twins\n",
      "rockies\n"
     ]
    }
   ],
   "source": [
    "print(MLB_team['minnesota'])\n",
    "print(MLB_team['colorado'])"
   ]
  },
  {
   "cell_type": "code",
   "execution_count": 54,
   "id": "fe6be7ba",
   "metadata": {},
   "outputs": [
    {
     "data": {
      "text/plain": [
       "{'colorado': 'rockies',\n",
       " 'boston': 'res sox',\n",
       " 'minnesota': 'twins',\n",
       " 'milwaukee': 'brewers',\n",
       " 'seattle': 'mariners',\n",
       " 'kansas city': 'royals'}"
      ]
     },
     "execution_count": 54,
     "metadata": {},
     "output_type": "execute_result"
    }
   ],
   "source": [
    "#adding an entry to an existing dictionary is simply a matter of assigning a new key and value\n",
    "\n",
    "MLB_team['kansas city']='royals'\n",
    "MLB_team"
   ]
  },
  {
   "cell_type": "code",
   "execution_count": 55,
   "id": "c610e398",
   "metadata": {},
   "outputs": [
    {
     "data": {
      "text/plain": [
       "{'colorado': 'rockies',\n",
       " 'boston': 'res sox',\n",
       " 'minnesota': 'twins',\n",
       " 'milwaukee': 'brewers',\n",
       " 'seattle': 'seahawks',\n",
       " 'kansas city': 'royals'}"
      ]
     },
     "execution_count": 55,
     "metadata": {},
     "output_type": "execute_result"
    }
   ],
   "source": [
    "# if want to update entry, we can just assign a new value to an existing key\n",
    "MLB_team['seattle']='seahawks'\n",
    "MLB_team"
   ]
  },
  {
   "cell_type": "code",
   "execution_count": 56,
   "id": "b9630698",
   "metadata": {},
   "outputs": [
    {
     "data": {
      "text/plain": [
       "{'colorado': 'rockies',\n",
       " 'boston': 'res sox',\n",
       " 'minnesota': 'twins',\n",
       " 'milwaukee': 'brewers',\n",
       " 'kansas city': 'royals'}"
      ]
     },
     "execution_count": 56,
     "metadata": {},
     "output_type": "execute_result"
    }
   ],
   "source": [
    "#to delete an entry, use the del statement, specifying the key to delete\n",
    "\n",
    "del MLB_team['seattle']\n",
    "MLB_team"
   ]
  },
  {
   "cell_type": "markdown",
   "id": "e4f402db",
   "metadata": {},
   "source": [
    "## Building a Dictionary Incrementally"
   ]
  },
  {
   "cell_type": "code",
   "execution_count": 63,
   "id": "0cb715dd",
   "metadata": {},
   "outputs": [],
   "source": [
    "person={}\n",
    "type(person)\n",
    "\n",
    "person['fname']='Rosita'\n",
    "person['lname']= 'Janatin'\n",
    "person['age']=20\n",
    "person['university']='Universitas Diponegoro'\n",
    "person['Course']=['statistics','computing','calculus']\n",
    "person['day']={'monday':'Statistics', 'tuesday':'computing', 'wednesday':'calculus'}"
   ]
  },
  {
   "cell_type": "code",
   "execution_count": 65,
   "id": "f8b2acb0",
   "metadata": {},
   "outputs": [
    {
     "name": "stdout",
     "output_type": "stream",
     "text": [
      "Rosita\n",
      "Universitas Diponegoro\n",
      "computing\n",
      "Statistics\n"
     ]
    }
   ],
   "source": [
    "print(person['fname'])\n",
    "print(person['university'])\n",
    "print(person['Course'][1])\n",
    "print(person['day']['monday'])"
   ]
  },
  {
   "cell_type": "code",
   "execution_count": 68,
   "id": "5258a53f",
   "metadata": {},
   "outputs": [
    {
     "name": "stdout",
     "output_type": "stream",
     "text": [
      "dict_items([('a', 10), ('b', 20), ('c', 30)])\n",
      "dict_keys(['a', 'b', 'c'])\n",
      "dict_values([10, 20, 30])\n"
     ]
    }
   ],
   "source": [
    "#Built-in Methods\n",
    "d={'a':10,'b':20,'c':30}\n",
    "\n",
    "#items\n",
    "print(d.items())\n",
    "\n",
    "#keys\n",
    "print(d.keys())\n",
    "\n",
    "#values\n",
    "print(d.values())"
   ]
  },
  {
   "cell_type": "markdown",
   "id": "2ba83dda",
   "metadata": {},
   "source": [
    "## Line Continuation"
   ]
  },
  {
   "cell_type": "code",
   "execution_count": 73,
   "id": "3741f026",
   "metadata": {},
   "outputs": [
    {
     "data": {
      "text/plain": [
       "True"
      ]
     },
     "execution_count": 73,
     "metadata": {},
     "output_type": "execute_result"
    }
   ],
   "source": [
    "person1_age=42\n",
    "person2_age=16\n",
    "person3_age=71\n",
    "\n",
    "someone_is_working_age= (\n",
    "    person1_age >=18 and person1_age <=65) or (person2_age >= 18 and person2_age <= 65)or (person3_age >=18 and person3_age<=65\n",
    "       )\n",
    "someone_is_working_age"
   ]
  }
 ],
 "metadata": {
  "kernelspec": {
   "display_name": "Python 3 (ipykernel)",
   "language": "python",
   "name": "python3"
  },
  "language_info": {
   "codemirror_mode": {
    "name": "ipython",
    "version": 3
   },
   "file_extension": ".py",
   "mimetype": "text/x-python",
   "name": "python",
   "nbconvert_exporter": "python",
   "pygments_lexer": "ipython3",
   "version": "3.9.12"
  }
 },
 "nbformat": 4,
 "nbformat_minor": 5
}

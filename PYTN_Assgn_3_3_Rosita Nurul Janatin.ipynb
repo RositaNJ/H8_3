{
 "cells": [
  {
   "cell_type": "markdown",
   "id": "cc7f4095",
   "metadata": {},
   "source": [
    "# Introduction"
   ]
  },
  {
   "cell_type": "markdown",
   "id": "5f5f67fa",
   "metadata": {},
   "source": [
    "Data yang digunakan berkaitan dengan kampanye pemasaran langsung dari lembaga perbankan Portugis. Kampanye pemasaran didasarkan pada panggilan telepon. Seringkali, lebih dari satu kontak ke klien yang sama diperlukan, untuk mengakses apakah produk (Deposito berjangka bank) akan ('ya') atau ('tidak') berlangganan."
   ]
  },
  {
   "cell_type": "markdown",
   "id": "ee9a2b38",
   "metadata": {},
   "source": [
    "# Install and Import Libraries"
   ]
  },
  {
   "cell_type": "code",
   "execution_count": 1,
   "id": "a9ef32e8",
   "metadata": {},
   "outputs": [],
   "source": [
    "#Data processing\n",
    "import pandas as pd\n",
    "import numpy as np\n",
    "\n",
    "#visualization tools\n",
    "import matplotlib.pyplot as plt\n",
    "import seaborn as sns\n",
    "\n",
    "#Machine Learning Process\n",
    "from sklearn import metrics\n",
    "from sklearn import svm\n",
    "from sklearn import tree\n",
    "from sklearn.model_selection import train_test_split, cross_val_score, GridSearchCV, KFold\n",
    "from sklearn.preprocessing import LabelEncoder, MinMaxScaler, StandardScaler\n",
    "from sklearn.impute import SimpleImputer\n",
    "from sklearn.naive_bayes import GaussianNB\n",
    "from sklearn.tree import DecisionTreeClassifier\n",
    "from sklearn.neighbors import KNeighborsClassifier\n",
    "from sklearn.ensemble import RandomForestClassifier\n",
    "from sklearn.linear_model import LogisticRegression\n",
    "from sklearn.metrics import confusion_matrix, plot_confusion_matrix, classification_report\n",
    "\n",
    "#features analysis librarie\n",
    "from sklearn.feature_selection import SelectKBest\n",
    "from sklearn.feature_selection import f_classif\n",
    "from sklearn.feature_selection import chi2, mutual_info_classif\n",
    "\n",
    "%matplotlib inline"
   ]
  },
  {
   "cell_type": "markdown",
   "id": "5390db7d",
   "metadata": {},
   "source": [
    "# Data"
   ]
  },
  {
   "cell_type": "code",
   "execution_count": 2,
   "id": "be97a90f",
   "metadata": {},
   "outputs": [],
   "source": [
    "BA_full = pd.read_csv('bank-additional-full.csv', sep=';')"
   ]
  },
  {
   "cell_type": "code",
   "execution_count": 3,
   "id": "fa8085e2",
   "metadata": {},
   "outputs": [
    {
     "data": {
      "text/html": [
       "<div>\n",
       "<style scoped>\n",
       "    .dataframe tbody tr th:only-of-type {\n",
       "        vertical-align: middle;\n",
       "    }\n",
       "\n",
       "    .dataframe tbody tr th {\n",
       "        vertical-align: top;\n",
       "    }\n",
       "\n",
       "    .dataframe thead th {\n",
       "        text-align: right;\n",
       "    }\n",
       "</style>\n",
       "<table border=\"1\" class=\"dataframe\">\n",
       "  <thead>\n",
       "    <tr style=\"text-align: right;\">\n",
       "      <th></th>\n",
       "      <th>age</th>\n",
       "      <th>job</th>\n",
       "      <th>marital</th>\n",
       "      <th>education</th>\n",
       "      <th>default</th>\n",
       "      <th>housing</th>\n",
       "      <th>loan</th>\n",
       "      <th>contact</th>\n",
       "      <th>month</th>\n",
       "      <th>day_of_week</th>\n",
       "      <th>...</th>\n",
       "      <th>campaign</th>\n",
       "      <th>pdays</th>\n",
       "      <th>previous</th>\n",
       "      <th>poutcome</th>\n",
       "      <th>emp.var.rate</th>\n",
       "      <th>cons.price.idx</th>\n",
       "      <th>cons.conf.idx</th>\n",
       "      <th>euribor3m</th>\n",
       "      <th>nr.employed</th>\n",
       "      <th>y</th>\n",
       "    </tr>\n",
       "  </thead>\n",
       "  <tbody>\n",
       "    <tr>\n",
       "      <th>0</th>\n",
       "      <td>56</td>\n",
       "      <td>housemaid</td>\n",
       "      <td>married</td>\n",
       "      <td>basic.4y</td>\n",
       "      <td>no</td>\n",
       "      <td>no</td>\n",
       "      <td>no</td>\n",
       "      <td>telephone</td>\n",
       "      <td>may</td>\n",
       "      <td>mon</td>\n",
       "      <td>...</td>\n",
       "      <td>1</td>\n",
       "      <td>999</td>\n",
       "      <td>0</td>\n",
       "      <td>nonexistent</td>\n",
       "      <td>1.1</td>\n",
       "      <td>93.994</td>\n",
       "      <td>-36.4</td>\n",
       "      <td>4.857</td>\n",
       "      <td>5191.0</td>\n",
       "      <td>no</td>\n",
       "    </tr>\n",
       "    <tr>\n",
       "      <th>1</th>\n",
       "      <td>57</td>\n",
       "      <td>services</td>\n",
       "      <td>married</td>\n",
       "      <td>high.school</td>\n",
       "      <td>unknown</td>\n",
       "      <td>no</td>\n",
       "      <td>no</td>\n",
       "      <td>telephone</td>\n",
       "      <td>may</td>\n",
       "      <td>mon</td>\n",
       "      <td>...</td>\n",
       "      <td>1</td>\n",
       "      <td>999</td>\n",
       "      <td>0</td>\n",
       "      <td>nonexistent</td>\n",
       "      <td>1.1</td>\n",
       "      <td>93.994</td>\n",
       "      <td>-36.4</td>\n",
       "      <td>4.857</td>\n",
       "      <td>5191.0</td>\n",
       "      <td>no</td>\n",
       "    </tr>\n",
       "    <tr>\n",
       "      <th>2</th>\n",
       "      <td>37</td>\n",
       "      <td>services</td>\n",
       "      <td>married</td>\n",
       "      <td>high.school</td>\n",
       "      <td>no</td>\n",
       "      <td>yes</td>\n",
       "      <td>no</td>\n",
       "      <td>telephone</td>\n",
       "      <td>may</td>\n",
       "      <td>mon</td>\n",
       "      <td>...</td>\n",
       "      <td>1</td>\n",
       "      <td>999</td>\n",
       "      <td>0</td>\n",
       "      <td>nonexistent</td>\n",
       "      <td>1.1</td>\n",
       "      <td>93.994</td>\n",
       "      <td>-36.4</td>\n",
       "      <td>4.857</td>\n",
       "      <td>5191.0</td>\n",
       "      <td>no</td>\n",
       "    </tr>\n",
       "    <tr>\n",
       "      <th>3</th>\n",
       "      <td>40</td>\n",
       "      <td>admin.</td>\n",
       "      <td>married</td>\n",
       "      <td>basic.6y</td>\n",
       "      <td>no</td>\n",
       "      <td>no</td>\n",
       "      <td>no</td>\n",
       "      <td>telephone</td>\n",
       "      <td>may</td>\n",
       "      <td>mon</td>\n",
       "      <td>...</td>\n",
       "      <td>1</td>\n",
       "      <td>999</td>\n",
       "      <td>0</td>\n",
       "      <td>nonexistent</td>\n",
       "      <td>1.1</td>\n",
       "      <td>93.994</td>\n",
       "      <td>-36.4</td>\n",
       "      <td>4.857</td>\n",
       "      <td>5191.0</td>\n",
       "      <td>no</td>\n",
       "    </tr>\n",
       "    <tr>\n",
       "      <th>4</th>\n",
       "      <td>56</td>\n",
       "      <td>services</td>\n",
       "      <td>married</td>\n",
       "      <td>high.school</td>\n",
       "      <td>no</td>\n",
       "      <td>no</td>\n",
       "      <td>yes</td>\n",
       "      <td>telephone</td>\n",
       "      <td>may</td>\n",
       "      <td>mon</td>\n",
       "      <td>...</td>\n",
       "      <td>1</td>\n",
       "      <td>999</td>\n",
       "      <td>0</td>\n",
       "      <td>nonexistent</td>\n",
       "      <td>1.1</td>\n",
       "      <td>93.994</td>\n",
       "      <td>-36.4</td>\n",
       "      <td>4.857</td>\n",
       "      <td>5191.0</td>\n",
       "      <td>no</td>\n",
       "    </tr>\n",
       "  </tbody>\n",
       "</table>\n",
       "<p>5 rows × 21 columns</p>\n",
       "</div>"
      ],
      "text/plain": [
       "   age        job  marital    education  default housing loan    contact  \\\n",
       "0   56  housemaid  married     basic.4y       no      no   no  telephone   \n",
       "1   57   services  married  high.school  unknown      no   no  telephone   \n",
       "2   37   services  married  high.school       no     yes   no  telephone   \n",
       "3   40     admin.  married     basic.6y       no      no   no  telephone   \n",
       "4   56   services  married  high.school       no      no  yes  telephone   \n",
       "\n",
       "  month day_of_week  ...  campaign  pdays  previous     poutcome emp.var.rate  \\\n",
       "0   may         mon  ...         1    999         0  nonexistent          1.1   \n",
       "1   may         mon  ...         1    999         0  nonexistent          1.1   \n",
       "2   may         mon  ...         1    999         0  nonexistent          1.1   \n",
       "3   may         mon  ...         1    999         0  nonexistent          1.1   \n",
       "4   may         mon  ...         1    999         0  nonexistent          1.1   \n",
       "\n",
       "   cons.price.idx  cons.conf.idx  euribor3m  nr.employed   y  \n",
       "0          93.994          -36.4      4.857       5191.0  no  \n",
       "1          93.994          -36.4      4.857       5191.0  no  \n",
       "2          93.994          -36.4      4.857       5191.0  no  \n",
       "3          93.994          -36.4      4.857       5191.0  no  \n",
       "4          93.994          -36.4      4.857       5191.0  no  \n",
       "\n",
       "[5 rows x 21 columns]"
      ]
     },
     "execution_count": 3,
     "metadata": {},
     "output_type": "execute_result"
    }
   ],
   "source": [
    "#menampilkan 5 data teratas\n",
    "BA_full.head()"
   ]
  },
  {
   "cell_type": "code",
   "execution_count": 4,
   "id": "09fcd3eb",
   "metadata": {},
   "outputs": [
    {
     "data": {
      "text/plain": [
       "(41188, 21)"
      ]
     },
     "execution_count": 4,
     "metadata": {},
     "output_type": "execute_result"
    }
   ],
   "source": [
    "#mengetahui dimensi dataset\n",
    "BA_full.shape"
   ]
  },
  {
   "cell_type": "code",
   "execution_count": 5,
   "id": "a37e67a6",
   "metadata": {
    "scrolled": true
   },
   "outputs": [
    {
     "name": "stdout",
     "output_type": "stream",
     "text": [
      "<class 'pandas.core.frame.DataFrame'>\n",
      "RangeIndex: 41188 entries, 0 to 41187\n",
      "Data columns (total 21 columns):\n",
      " #   Column          Non-Null Count  Dtype  \n",
      "---  ------          --------------  -----  \n",
      " 0   age             41188 non-null  int64  \n",
      " 1   job             41188 non-null  object \n",
      " 2   marital         41188 non-null  object \n",
      " 3   education       41188 non-null  object \n",
      " 4   default         41188 non-null  object \n",
      " 5   housing         41188 non-null  object \n",
      " 6   loan            41188 non-null  object \n",
      " 7   contact         41188 non-null  object \n",
      " 8   month           41188 non-null  object \n",
      " 9   day_of_week     41188 non-null  object \n",
      " 10  duration        41188 non-null  int64  \n",
      " 11  campaign        41188 non-null  int64  \n",
      " 12  pdays           41188 non-null  int64  \n",
      " 13  previous        41188 non-null  int64  \n",
      " 14  poutcome        41188 non-null  object \n",
      " 15  emp.var.rate    41188 non-null  float64\n",
      " 16  cons.price.idx  41188 non-null  float64\n",
      " 17  cons.conf.idx   41188 non-null  float64\n",
      " 18  euribor3m       41188 non-null  float64\n",
      " 19  nr.employed     41188 non-null  float64\n",
      " 20  y               41188 non-null  object \n",
      "dtypes: float64(5), int64(5), object(11)\n",
      "memory usage: 6.6+ MB\n"
     ]
    }
   ],
   "source": [
    "#mengetahui daftar atribut\n",
    "BA_full.info()"
   ]
  },
  {
   "cell_type": "code",
   "execution_count": 6,
   "id": "62df11f2",
   "metadata": {},
   "outputs": [],
   "source": [
    "#mengelompokkan atribut berdasarkan tipe datanya\n",
    "numerical_columns = list(BA_full.select_dtypes(include=['int64']).columns.values) + list(BA_full.select_dtypes(include=['float64']).columns.values)\n",
    "categorical_columns = list(BA_full.select_dtypes(include=['object']))"
   ]
  },
  {
   "cell_type": "code",
   "execution_count": 7,
   "id": "7f2bb773",
   "metadata": {},
   "outputs": [
    {
     "name": "stdout",
     "output_type": "stream",
     "text": [
      "numerical_columns: ['age', 'duration', 'campaign', 'pdays', 'previous', 'emp.var.rate', 'cons.price.idx', 'cons.conf.idx', 'euribor3m', 'nr.employed']\n",
      "------------------------------\n",
      "categorical_columns: ['job', 'marital', 'education', 'default', 'housing', 'loan', 'contact', 'month', 'day_of_week', 'poutcome', 'y']\n"
     ]
    }
   ],
   "source": [
    "#cetak variabel numerik dan categorikal\n",
    "print('numerical_columns:', numerical_columns)\n",
    "print('------------------------------')\n",
    "print('categorical_columns:', categorical_columns)"
   ]
  },
  {
   "cell_type": "markdown",
   "id": "315fd872",
   "metadata": {},
   "source": [
    "# Data Cleaning"
   ]
  },
  {
   "cell_type": "markdown",
   "id": "cb4ef43c",
   "metadata": {},
   "source": [
    "## Memastikan tidak ada *missing values* pada Kolom kategorikal\n",
    "pada keterangan dataset yang dilampirkan, missing values pada data ditandai dengan label \"unknown\" pada beberapa kolom dengan tipe kategorikal. sehingga kolom kategorikal \"unknown\" diganti **nan** guna menandai adanya missing values"
   ]
  },
  {
   "cell_type": "code",
   "execution_count": 8,
   "id": "cda07f37",
   "metadata": {},
   "outputs": [
    {
     "data": {
      "text/plain": [
       "default           8597\n",
       "education         1731\n",
       "housing            990\n",
       "loan               990\n",
       "job                330\n",
       "marital             80\n",
       "age                  0\n",
       "poutcome             0\n",
       "nr.employed          0\n",
       "euribor3m            0\n",
       "cons.conf.idx        0\n",
       "cons.price.idx       0\n",
       "emp.var.rate         0\n",
       "duration             0\n",
       "previous             0\n",
       "pdays                0\n",
       "campaign             0\n",
       "day_of_week          0\n",
       "month                0\n",
       "contact              0\n",
       "y                    0\n",
       "dtype: int64"
      ]
     },
     "execution_count": 8,
     "metadata": {},
     "output_type": "execute_result"
    }
   ],
   "source": [
    "# Mengetahui jumlah \"unknown\" di setiap atribut\n",
    "BA_full[BA_full[categorical_columns]=='unknown'].count().sort_values(ascending=False)"
   ]
  },
  {
   "cell_type": "markdown",
   "id": "10b6a1af",
   "metadata": {},
   "source": [
    "terlihat beberapa kolom kategorikal banyak mengandung missing values, yaitu: **default, education, housing, loan, job, marital**"
   ]
  },
  {
   "cell_type": "markdown",
   "id": "c670da9b",
   "metadata": {},
   "source": [
    "### Mengganti \"unknown\" dengan nan"
   ]
  },
  {
   "cell_type": "code",
   "execution_count": 9,
   "id": "d3c741c4",
   "metadata": {},
   "outputs": [],
   "source": [
    "BA_full[BA_full[categorical_columns]==\"unknown\"] = np.nan"
   ]
  },
  {
   "cell_type": "markdown",
   "id": "a903049d",
   "metadata": {},
   "source": [
    "### memastikan \"unknown\" sudah terganti dengan nan"
   ]
  },
  {
   "cell_type": "code",
   "execution_count": 10,
   "id": "15f50c4d",
   "metadata": {},
   "outputs": [
    {
     "data": {
      "text/plain": [
       "age               0\n",
       "campaign          0\n",
       "nr.employed       0\n",
       "euribor3m         0\n",
       "cons.conf.idx     0\n",
       "cons.price.idx    0\n",
       "emp.var.rate      0\n",
       "poutcome          0\n",
       "previous          0\n",
       "pdays             0\n",
       "duration          0\n",
       "job               0\n",
       "day_of_week       0\n",
       "month             0\n",
       "contact           0\n",
       "loan              0\n",
       "housing           0\n",
       "default           0\n",
       "education         0\n",
       "marital           0\n",
       "y                 0\n",
       "dtype: int64"
      ]
     },
     "execution_count": 10,
     "metadata": {},
     "output_type": "execute_result"
    }
   ],
   "source": [
    "BA_full[BA_full[categorical_columns]=='unknown'].count().sort_values(ascending=False)"
   ]
  },
  {
   "cell_type": "markdown",
   "id": "035723d6",
   "metadata": {},
   "source": [
    "semua label \"unknown\" sudah diganti dengan nan"
   ]
  },
  {
   "cell_type": "markdown",
   "id": "d1759171",
   "metadata": {},
   "source": [
    "### melihat missing values pada kolom kategorikal"
   ]
  },
  {
   "cell_type": "code",
   "execution_count": 11,
   "id": "e6113c40",
   "metadata": {},
   "outputs": [
    {
     "data": {
      "text/html": [
       "<div>\n",
       "<style scoped>\n",
       "    .dataframe tbody tr th:only-of-type {\n",
       "        vertical-align: middle;\n",
       "    }\n",
       "\n",
       "    .dataframe tbody tr th {\n",
       "        vertical-align: top;\n",
       "    }\n",
       "\n",
       "    .dataframe thead th {\n",
       "        text-align: right;\n",
       "    }\n",
       "</style>\n",
       "<table border=\"1\" class=\"dataframe\">\n",
       "  <thead>\n",
       "    <tr style=\"text-align: right;\">\n",
       "      <th></th>\n",
       "      <th>job</th>\n",
       "      <th>marital</th>\n",
       "      <th>education</th>\n",
       "      <th>default</th>\n",
       "      <th>housing</th>\n",
       "      <th>loan</th>\n",
       "      <th>contact</th>\n",
       "      <th>month</th>\n",
       "      <th>day_of_week</th>\n",
       "      <th>poutcome</th>\n",
       "      <th>y</th>\n",
       "    </tr>\n",
       "  </thead>\n",
       "  <tbody>\n",
       "    <tr>\n",
       "      <th>0</th>\n",
       "      <td>housemaid</td>\n",
       "      <td>married</td>\n",
       "      <td>basic.4y</td>\n",
       "      <td>no</td>\n",
       "      <td>no</td>\n",
       "      <td>no</td>\n",
       "      <td>telephone</td>\n",
       "      <td>may</td>\n",
       "      <td>mon</td>\n",
       "      <td>nonexistent</td>\n",
       "      <td>no</td>\n",
       "    </tr>\n",
       "    <tr>\n",
       "      <th>1</th>\n",
       "      <td>services</td>\n",
       "      <td>married</td>\n",
       "      <td>high.school</td>\n",
       "      <td>NaN</td>\n",
       "      <td>no</td>\n",
       "      <td>no</td>\n",
       "      <td>telephone</td>\n",
       "      <td>may</td>\n",
       "      <td>mon</td>\n",
       "      <td>nonexistent</td>\n",
       "      <td>no</td>\n",
       "    </tr>\n",
       "    <tr>\n",
       "      <th>2</th>\n",
       "      <td>services</td>\n",
       "      <td>married</td>\n",
       "      <td>high.school</td>\n",
       "      <td>no</td>\n",
       "      <td>yes</td>\n",
       "      <td>no</td>\n",
       "      <td>telephone</td>\n",
       "      <td>may</td>\n",
       "      <td>mon</td>\n",
       "      <td>nonexistent</td>\n",
       "      <td>no</td>\n",
       "    </tr>\n",
       "    <tr>\n",
       "      <th>3</th>\n",
       "      <td>admin.</td>\n",
       "      <td>married</td>\n",
       "      <td>basic.6y</td>\n",
       "      <td>no</td>\n",
       "      <td>no</td>\n",
       "      <td>no</td>\n",
       "      <td>telephone</td>\n",
       "      <td>may</td>\n",
       "      <td>mon</td>\n",
       "      <td>nonexistent</td>\n",
       "      <td>no</td>\n",
       "    </tr>\n",
       "    <tr>\n",
       "      <th>4</th>\n",
       "      <td>services</td>\n",
       "      <td>married</td>\n",
       "      <td>high.school</td>\n",
       "      <td>no</td>\n",
       "      <td>no</td>\n",
       "      <td>yes</td>\n",
       "      <td>telephone</td>\n",
       "      <td>may</td>\n",
       "      <td>mon</td>\n",
       "      <td>nonexistent</td>\n",
       "      <td>no</td>\n",
       "    </tr>\n",
       "  </tbody>\n",
       "</table>\n",
       "</div>"
      ],
      "text/plain": [
       "         job  marital    education default housing loan    contact month  \\\n",
       "0  housemaid  married     basic.4y      no      no   no  telephone   may   \n",
       "1   services  married  high.school     NaN      no   no  telephone   may   \n",
       "2   services  married  high.school      no     yes   no  telephone   may   \n",
       "3     admin.  married     basic.6y      no      no   no  telephone   may   \n",
       "4   services  married  high.school      no      no  yes  telephone   may   \n",
       "\n",
       "  day_of_week     poutcome   y  \n",
       "0         mon  nonexistent  no  \n",
       "1         mon  nonexistent  no  \n",
       "2         mon  nonexistent  no  \n",
       "3         mon  nonexistent  no  \n",
       "4         mon  nonexistent  no  "
      ]
     },
     "execution_count": 11,
     "metadata": {},
     "output_type": "execute_result"
    }
   ],
   "source": [
    "BA_full[categorical_columns].head()"
   ]
  },
  {
   "cell_type": "code",
   "execution_count": 12,
   "id": "da5b8dfd",
   "metadata": {},
   "outputs": [
    {
     "name": "stdout",
     "output_type": "stream",
     "text": [
      "Nilai unik untuk kolom JOB\n",
      "['housemaid' 'services' 'admin.' 'blue-collar' 'technician' 'retired'\n",
      " 'management' 'unemployed' 'self-employed' nan 'entrepreneur' 'student']\n",
      "==============================\n",
      "Nilai unik untuk kolom MARITAL\n",
      "['married' 'single' 'divorced' nan]\n",
      "==============================\n",
      "Nilai unik untuk kolom EDUCATION\n",
      "['basic.4y' 'high.school' 'basic.6y' 'basic.9y' 'professional.course' nan\n",
      " 'university.degree' 'illiterate']\n",
      "==============================\n",
      "Nilai unik untuk kolom DEFAULT\n",
      "['no' nan 'yes']\n",
      "==============================\n",
      "Nilai unik untuk kolom HOUSING\n",
      "['no' 'yes' nan]\n",
      "==============================\n",
      "Nilai unik untuk kolom LOAN\n",
      "['no' 'yes' nan]\n",
      "==============================\n",
      "Nilai unik untuk kolom CONTACT\n",
      "['telephone' 'cellular']\n",
      "==============================\n",
      "Nilai unik untuk kolom MONTH\n",
      "['may' 'jun' 'jul' 'aug' 'oct' 'nov' 'dec' 'mar' 'apr' 'sep']\n",
      "==============================\n",
      "Nilai unik untuk kolom DAY_OF_WEEK\n",
      "['mon' 'tue' 'wed' 'thu' 'fri']\n",
      "==============================\n",
      "Nilai unik untuk kolom POUTCOME\n",
      "['nonexistent' 'failure' 'success']\n",
      "==============================\n",
      "Nilai unik untuk kolom Y\n",
      "['no' 'yes']\n",
      "==============================\n"
     ]
    }
   ],
   "source": [
    "#mencetak semua nilai unik pada masing-masing kolom kategori\n",
    "for cat_col in categorical_columns:\n",
    "    print(\"Nilai unik untuk kolom\", cat_col.upper())\n",
    "    print(BA_full[cat_col].unique())\n",
    "    print('='*30)"
   ]
  },
  {
   "cell_type": "markdown",
   "id": "9c14ec34",
   "metadata": {},
   "source": [
    "nilai pada masing-masing atribut sudah sesuai dengan apa yang tertera dari deksripsi dataset yang diterima. sehingga tidak ada invalid values pada kolom kategorikal."
   ]
  },
  {
   "cell_type": "markdown",
   "id": "f37b1926",
   "metadata": {},
   "source": [
    "## Melihat *missing values* pada kolom numerikal"
   ]
  },
  {
   "cell_type": "code",
   "execution_count": 13,
   "id": "a2d362fe",
   "metadata": {},
   "outputs": [
    {
     "data": {
      "text/html": [
       "<div>\n",
       "<style scoped>\n",
       "    .dataframe tbody tr th:only-of-type {\n",
       "        vertical-align: middle;\n",
       "    }\n",
       "\n",
       "    .dataframe tbody tr th {\n",
       "        vertical-align: top;\n",
       "    }\n",
       "\n",
       "    .dataframe thead th {\n",
       "        text-align: right;\n",
       "    }\n",
       "</style>\n",
       "<table border=\"1\" class=\"dataframe\">\n",
       "  <thead>\n",
       "    <tr style=\"text-align: right;\">\n",
       "      <th></th>\n",
       "      <th>age</th>\n",
       "      <th>duration</th>\n",
       "      <th>campaign</th>\n",
       "      <th>pdays</th>\n",
       "      <th>previous</th>\n",
       "      <th>emp.var.rate</th>\n",
       "      <th>cons.price.idx</th>\n",
       "      <th>cons.conf.idx</th>\n",
       "      <th>euribor3m</th>\n",
       "      <th>nr.employed</th>\n",
       "    </tr>\n",
       "  </thead>\n",
       "  <tbody>\n",
       "    <tr>\n",
       "      <th>0</th>\n",
       "      <td>56</td>\n",
       "      <td>261</td>\n",
       "      <td>1</td>\n",
       "      <td>999</td>\n",
       "      <td>0</td>\n",
       "      <td>1.1</td>\n",
       "      <td>93.994</td>\n",
       "      <td>-36.4</td>\n",
       "      <td>4.857</td>\n",
       "      <td>5191.0</td>\n",
       "    </tr>\n",
       "    <tr>\n",
       "      <th>1</th>\n",
       "      <td>57</td>\n",
       "      <td>149</td>\n",
       "      <td>1</td>\n",
       "      <td>999</td>\n",
       "      <td>0</td>\n",
       "      <td>1.1</td>\n",
       "      <td>93.994</td>\n",
       "      <td>-36.4</td>\n",
       "      <td>4.857</td>\n",
       "      <td>5191.0</td>\n",
       "    </tr>\n",
       "    <tr>\n",
       "      <th>2</th>\n",
       "      <td>37</td>\n",
       "      <td>226</td>\n",
       "      <td>1</td>\n",
       "      <td>999</td>\n",
       "      <td>0</td>\n",
       "      <td>1.1</td>\n",
       "      <td>93.994</td>\n",
       "      <td>-36.4</td>\n",
       "      <td>4.857</td>\n",
       "      <td>5191.0</td>\n",
       "    </tr>\n",
       "    <tr>\n",
       "      <th>3</th>\n",
       "      <td>40</td>\n",
       "      <td>151</td>\n",
       "      <td>1</td>\n",
       "      <td>999</td>\n",
       "      <td>0</td>\n",
       "      <td>1.1</td>\n",
       "      <td>93.994</td>\n",
       "      <td>-36.4</td>\n",
       "      <td>4.857</td>\n",
       "      <td>5191.0</td>\n",
       "    </tr>\n",
       "    <tr>\n",
       "      <th>4</th>\n",
       "      <td>56</td>\n",
       "      <td>307</td>\n",
       "      <td>1</td>\n",
       "      <td>999</td>\n",
       "      <td>0</td>\n",
       "      <td>1.1</td>\n",
       "      <td>93.994</td>\n",
       "      <td>-36.4</td>\n",
       "      <td>4.857</td>\n",
       "      <td>5191.0</td>\n",
       "    </tr>\n",
       "  </tbody>\n",
       "</table>\n",
       "</div>"
      ],
      "text/plain": [
       "   age  duration  campaign  pdays  previous  emp.var.rate  cons.price.idx  \\\n",
       "0   56       261         1    999         0           1.1          93.994   \n",
       "1   57       149         1    999         0           1.1          93.994   \n",
       "2   37       226         1    999         0           1.1          93.994   \n",
       "3   40       151         1    999         0           1.1          93.994   \n",
       "4   56       307         1    999         0           1.1          93.994   \n",
       "\n",
       "   cons.conf.idx  euribor3m  nr.employed  \n",
       "0          -36.4      4.857       5191.0  \n",
       "1          -36.4      4.857       5191.0  \n",
       "2          -36.4      4.857       5191.0  \n",
       "3          -36.4      4.857       5191.0  \n",
       "4          -36.4      4.857       5191.0  "
      ]
     },
     "execution_count": 13,
     "metadata": {},
     "output_type": "execute_result"
    }
   ],
   "source": [
    "BA_full[numerical_columns].head()"
   ]
  },
  {
   "cell_type": "code",
   "execution_count": 14,
   "id": "d332551f",
   "metadata": {},
   "outputs": [
    {
     "name": "stdout",
     "output_type": "stream",
     "text": [
      "Nilai unik untuk kolom AGE\n",
      "[56 57 37 40 45 59 41 24 25 29 35 54 46 50 39 30 55 49 34 52 58 32 38 44\n",
      " 42 60 53 47 51 48 33 31 43 36 28 27 26 22 23 20 21 61 19 18 70 66 76 67\n",
      " 73 88 95 77 68 75 63 80 62 65 72 82 64 71 69 78 85 79 83 81 74 17 87 91\n",
      " 86 98 94 84 92 89]\n",
      "==============================\n",
      "Nilai unik untuk kolom DURATION\n",
      "[ 261  149  226 ... 1246 1556 1868]\n",
      "==============================\n",
      "Nilai unik untuk kolom CAMPAIGN\n",
      "[ 1  2  3  4  5  6  7  8  9 10 11 12 13 19 18 23 14 22 25 16 17 15 20 56\n",
      " 39 35 42 28 26 27 32 21 24 29 31 30 41 37 40 33 34 43]\n",
      "==============================\n",
      "Nilai unik untuk kolom PDAYS\n",
      "[999   6   4   3   5   1   0  10   7   8   9  11   2  12  13  14  15  16\n",
      "  21  17  18  22  25  26  19  27  20]\n",
      "==============================\n",
      "Nilai unik untuk kolom PREVIOUS\n",
      "[0 1 2 3 4 5 6 7]\n",
      "==============================\n",
      "Nilai unik untuk kolom EMP.VAR.RATE\n",
      "[ 1.1  1.4 -0.1 -0.2 -1.8 -2.9 -3.4 -3.  -1.7 -1.1]\n",
      "==============================\n",
      "Nilai unik untuk kolom CONS.PRICE.IDX\n",
      "[93.994 94.465 93.918 93.444 93.798 93.2   92.756 92.843 93.075 92.893\n",
      " 92.963 92.469 92.201 92.379 92.431 92.649 92.713 93.369 93.749 93.876\n",
      " 94.055 94.215 94.027 94.199 94.601 94.767]\n",
      "==============================\n",
      "Nilai unik untuk kolom CONS.CONF.IDX\n",
      "[-36.4 -41.8 -42.7 -36.1 -40.4 -42.  -45.9 -50.  -47.1 -46.2 -40.8 -33.6\n",
      " -31.4 -29.8 -26.9 -30.1 -33.  -34.8 -34.6 -40.  -39.8 -40.3 -38.3 -37.5\n",
      " -49.5 -50.8]\n",
      "==============================\n",
      "Nilai unik untuk kolom EURIBOR3M\n",
      "[4.857 4.856 4.855 4.859 4.86  4.858 4.864 4.865 4.866 4.967 4.961 4.959\n",
      " 4.958 4.96  4.962 4.955 4.947 4.956 4.966 4.963 4.957 4.968 4.97  4.965\n",
      " 4.964 5.045 5.    4.936 4.921 4.918 4.912 4.827 4.794 4.76  4.733 4.7\n",
      " 4.663 4.592 4.474 4.406 4.343 4.286 4.245 4.223 4.191 4.153 4.12  4.076\n",
      " 4.021 3.901 3.879 3.853 3.816 3.743 3.669 3.563 3.488 3.428 3.329 3.282\n",
      " 3.053 1.811 1.799 1.778 1.757 1.726 1.703 1.687 1.663 1.65  1.64  1.629\n",
      " 1.614 1.602 1.584 1.574 1.56  1.556 1.548 1.538 1.531 1.52  1.51  1.498\n",
      " 1.483 1.479 1.466 1.453 1.445 1.435 1.423 1.415 1.41  1.405 1.406 1.4\n",
      " 1.392 1.384 1.372 1.365 1.354 1.344 1.334 1.327 1.313 1.299 1.291 1.281\n",
      " 1.266 1.25  1.244 1.259 1.264 1.27  1.262 1.26  1.268 1.286 1.252 1.235\n",
      " 1.224 1.215 1.206 1.099 1.085 1.072 1.059 1.048 1.044 1.029 1.018 1.007\n",
      " 0.996 0.979 0.969 0.944 0.937 0.933 0.927 0.921 0.914 0.908 0.903 0.899\n",
      " 0.884 0.883 0.881 0.879 0.873 0.869 0.861 0.859 0.854 0.851 0.849 0.843\n",
      " 0.838 0.834 0.829 0.825 0.821 0.819 0.813 0.809 0.803 0.797 0.788 0.781\n",
      " 0.778 0.773 0.771 0.77  0.768 0.766 0.762 0.755 0.749 0.743 0.741 0.739\n",
      " 0.75  0.753 0.754 0.752 0.744 0.74  0.742 0.737 0.735 0.733 0.73  0.731\n",
      " 0.728 0.724 0.722 0.72  0.719 0.716 0.715 0.714 0.718 0.721 0.717 0.712\n",
      " 0.71  0.709 0.708 0.706 0.707 0.7   0.655 0.654 0.653 0.652 0.651 0.65\n",
      " 0.649 0.646 0.644 0.643 0.639 0.637 0.635 0.636 0.634 0.638 0.64  0.642\n",
      " 0.645 0.659 0.663 0.668 0.672 0.677 0.682 0.683 0.684 0.685 0.688 0.69\n",
      " 0.692 0.695 0.697 0.699 0.701 0.702 0.704 0.711 0.713 0.723 0.727 0.729\n",
      " 0.732 0.748 0.761 0.767 0.782 0.79  0.793 0.802 0.81  0.822 0.827 0.835\n",
      " 0.84  0.846 0.87  0.876 0.885 0.889 0.893 0.896 0.898 0.9   0.904 0.905\n",
      " 0.895 0.894 0.891 0.89  0.888 0.886 0.882 0.88  0.878 0.877 0.942 0.953\n",
      " 0.956 0.959 0.965 0.972 0.977 0.982 0.985 0.987 0.993 1.    1.008 1.016\n",
      " 1.025 1.032 1.037 1.043 1.045 1.047 1.05  1.049 1.046 1.041 1.04  1.039\n",
      " 1.035 1.03  1.031 1.028]\n",
      "==============================\n",
      "Nilai unik untuk kolom NR.EMPLOYED\n",
      "[5191.  5228.1 5195.8 5176.3 5099.1 5076.2 5017.5 5023.5 5008.7 4991.6\n",
      " 4963.6]\n",
      "==============================\n"
     ]
    }
   ],
   "source": [
    "#mencetak semua nilai unik pada setiap atribut numerikal\n",
    "for num_col in numerical_columns:\n",
    "    print(\"Nilai unik untuk kolom\", num_col.upper())\n",
    "    print(BA_full[num_col].unique())\n",
    "    print('='*30)"
   ]
  },
  {
   "cell_type": "markdown",
   "id": "db0f351d",
   "metadata": {},
   "source": [
    "semua nilai pada kolom numerik tidak ada *missing values*. namun, pada atribut pdays ada nilai 999 yang menandakan klien sebelumnya tidak dihubungi. ini bisa diganti dengan nilai 0 (Sesuai deskripsi pada dataset yang diterima)"
   ]
  },
  {
   "cell_type": "code",
   "execution_count": 15,
   "id": "ec770bba",
   "metadata": {},
   "outputs": [],
   "source": [
    "#mengganti nilai 999 pada pdays\n",
    "BA_full['pdays'].replace(999, 0, inplace=True)"
   ]
  },
  {
   "cell_type": "markdown",
   "id": "07ce35f4",
   "metadata": {},
   "source": [
    "## Merangkum total missing values"
   ]
  },
  {
   "cell_type": "code",
   "execution_count": 16,
   "id": "0610f46d",
   "metadata": {},
   "outputs": [
    {
     "name": "stdout",
     "output_type": "stream",
     "text": [
      "jumlah missing values atribut kategori: 12718\n",
      "jumlah missing values atribut numerikal: 0\n"
     ]
    }
   ],
   "source": [
    "print(\"jumlah missing values atribut kategori:\", BA_full[categorical_columns].isnull().sum().sum())\n",
    "print(\"jumlah missing values atribut numerikal:\", BA_full[numerical_columns].isnull().sum().sum())"
   ]
  },
  {
   "cell_type": "markdown",
   "id": "2852645b",
   "metadata": {},
   "source": [
    "## Penanganan Missing Values\n",
    "- pada data kategorikal, *missing values* akan diisi dengan modus dari atribut X\n",
    "- pada data numerik, *missing values* akan diisi dengan median dari atribut Z"
   ]
  },
  {
   "cell_type": "code",
   "execution_count": 17,
   "id": "c074ef17",
   "metadata": {},
   "outputs": [],
   "source": [
    "#Pisahkan data yang bertipe kategorik dan numerik\n",
    "#categorical data\n",
    "BA_categorical = BA_full[categorical_columns]\n",
    "\n",
    "#numerical data\n",
    "BA_numerical = BA_full[numerical_columns]"
   ]
  },
  {
   "cell_type": "code",
   "execution_count": 18,
   "id": "e158293b",
   "metadata": {},
   "outputs": [],
   "source": [
    "#instansiasi kelas SimpleImputer untuk imputer atribut kategorikal\n",
    "imputer_categorical = SimpleImputer(missing_values=np.nan, strategy='most_frequent')"
   ]
  },
  {
   "cell_type": "code",
   "execution_count": 19,
   "id": "101730ad",
   "metadata": {},
   "outputs": [
    {
     "data": {
      "text/plain": [
       "SimpleImputer(strategy='most_frequent')"
      ]
     },
     "execution_count": 19,
     "metadata": {},
     "output_type": "execute_result"
    }
   ],
   "source": [
    "imputer_categorical.fit(BA_categorical)"
   ]
  },
  {
   "cell_type": "code",
   "execution_count": 20,
   "id": "32769f2c",
   "metadata": {},
   "outputs": [],
   "source": [
    "#transform data categorical\n",
    "BA_categorical = imputer_categorical.transform(BA_categorical)"
   ]
  },
  {
   "cell_type": "code",
   "execution_count": 21,
   "id": "029bdba5",
   "metadata": {},
   "outputs": [],
   "source": [
    "#buat hasil array ke dalam dataframe\n",
    "BA_categorical = pd.DataFrame(BA_categorical, columns=categorical_columns)"
   ]
  },
  {
   "cell_type": "markdown",
   "id": "5d5bb5f5",
   "metadata": {},
   "source": [
    "**Concate categorical columns dengan numerical columns**"
   ]
  },
  {
   "cell_type": "code",
   "execution_count": 22,
   "id": "949472cb",
   "metadata": {},
   "outputs": [],
   "source": [
    "BA_full = pd.concat([BA_numerical, BA_categorical], axis=1)"
   ]
  },
  {
   "cell_type": "markdown",
   "id": "60c67788",
   "metadata": {},
   "source": [
    "**mengecek apabila masih ada *missing values* yang terlewat**"
   ]
  },
  {
   "cell_type": "code",
   "execution_count": 23,
   "id": "7248f57b",
   "metadata": {},
   "outputs": [
    {
     "name": "stdout",
     "output_type": "stream",
     "text": [
      "jumlah nan missing values atribut kategori: 0\n",
      "jumlah nan missing values atribut numerikal: 0\n"
     ]
    }
   ],
   "source": [
    "print(\"jumlah nan missing values atribut kategori:\", BA_full[categorical_columns].isnull().sum().sum())\n",
    "print(\"jumlah nan missing values atribut numerikal:\", BA_full[numerical_columns].isnull().sum().sum())"
   ]
  },
  {
   "cell_type": "markdown",
   "id": "6a650760",
   "metadata": {},
   "source": [
    "setelah dilakukan imputasi, **tidak ada missing values** yang tersisa"
   ]
  },
  {
   "cell_type": "code",
   "execution_count": 24,
   "id": "eebe89f6",
   "metadata": {},
   "outputs": [
    {
     "data": {
      "text/html": [
       "<div>\n",
       "<style scoped>\n",
       "    .dataframe tbody tr th:only-of-type {\n",
       "        vertical-align: middle;\n",
       "    }\n",
       "\n",
       "    .dataframe tbody tr th {\n",
       "        vertical-align: top;\n",
       "    }\n",
       "\n",
       "    .dataframe thead th {\n",
       "        text-align: right;\n",
       "    }\n",
       "</style>\n",
       "<table border=\"1\" class=\"dataframe\">\n",
       "  <thead>\n",
       "    <tr style=\"text-align: right;\">\n",
       "      <th></th>\n",
       "      <th>age</th>\n",
       "      <th>duration</th>\n",
       "      <th>campaign</th>\n",
       "      <th>pdays</th>\n",
       "      <th>previous</th>\n",
       "      <th>emp.var.rate</th>\n",
       "      <th>cons.price.idx</th>\n",
       "      <th>cons.conf.idx</th>\n",
       "      <th>euribor3m</th>\n",
       "      <th>nr.employed</th>\n",
       "      <th>...</th>\n",
       "      <th>marital</th>\n",
       "      <th>education</th>\n",
       "      <th>default</th>\n",
       "      <th>housing</th>\n",
       "      <th>loan</th>\n",
       "      <th>contact</th>\n",
       "      <th>month</th>\n",
       "      <th>day_of_week</th>\n",
       "      <th>poutcome</th>\n",
       "      <th>y</th>\n",
       "    </tr>\n",
       "  </thead>\n",
       "  <tbody>\n",
       "    <tr>\n",
       "      <th>0</th>\n",
       "      <td>56</td>\n",
       "      <td>261</td>\n",
       "      <td>1</td>\n",
       "      <td>0</td>\n",
       "      <td>0</td>\n",
       "      <td>1.1</td>\n",
       "      <td>93.994</td>\n",
       "      <td>-36.4</td>\n",
       "      <td>4.857</td>\n",
       "      <td>5191.0</td>\n",
       "      <td>...</td>\n",
       "      <td>married</td>\n",
       "      <td>basic.4y</td>\n",
       "      <td>no</td>\n",
       "      <td>no</td>\n",
       "      <td>no</td>\n",
       "      <td>telephone</td>\n",
       "      <td>may</td>\n",
       "      <td>mon</td>\n",
       "      <td>nonexistent</td>\n",
       "      <td>no</td>\n",
       "    </tr>\n",
       "    <tr>\n",
       "      <th>1</th>\n",
       "      <td>57</td>\n",
       "      <td>149</td>\n",
       "      <td>1</td>\n",
       "      <td>0</td>\n",
       "      <td>0</td>\n",
       "      <td>1.1</td>\n",
       "      <td>93.994</td>\n",
       "      <td>-36.4</td>\n",
       "      <td>4.857</td>\n",
       "      <td>5191.0</td>\n",
       "      <td>...</td>\n",
       "      <td>married</td>\n",
       "      <td>high.school</td>\n",
       "      <td>no</td>\n",
       "      <td>no</td>\n",
       "      <td>no</td>\n",
       "      <td>telephone</td>\n",
       "      <td>may</td>\n",
       "      <td>mon</td>\n",
       "      <td>nonexistent</td>\n",
       "      <td>no</td>\n",
       "    </tr>\n",
       "    <tr>\n",
       "      <th>2</th>\n",
       "      <td>37</td>\n",
       "      <td>226</td>\n",
       "      <td>1</td>\n",
       "      <td>0</td>\n",
       "      <td>0</td>\n",
       "      <td>1.1</td>\n",
       "      <td>93.994</td>\n",
       "      <td>-36.4</td>\n",
       "      <td>4.857</td>\n",
       "      <td>5191.0</td>\n",
       "      <td>...</td>\n",
       "      <td>married</td>\n",
       "      <td>high.school</td>\n",
       "      <td>no</td>\n",
       "      <td>yes</td>\n",
       "      <td>no</td>\n",
       "      <td>telephone</td>\n",
       "      <td>may</td>\n",
       "      <td>mon</td>\n",
       "      <td>nonexistent</td>\n",
       "      <td>no</td>\n",
       "    </tr>\n",
       "    <tr>\n",
       "      <th>3</th>\n",
       "      <td>40</td>\n",
       "      <td>151</td>\n",
       "      <td>1</td>\n",
       "      <td>0</td>\n",
       "      <td>0</td>\n",
       "      <td>1.1</td>\n",
       "      <td>93.994</td>\n",
       "      <td>-36.4</td>\n",
       "      <td>4.857</td>\n",
       "      <td>5191.0</td>\n",
       "      <td>...</td>\n",
       "      <td>married</td>\n",
       "      <td>basic.6y</td>\n",
       "      <td>no</td>\n",
       "      <td>no</td>\n",
       "      <td>no</td>\n",
       "      <td>telephone</td>\n",
       "      <td>may</td>\n",
       "      <td>mon</td>\n",
       "      <td>nonexistent</td>\n",
       "      <td>no</td>\n",
       "    </tr>\n",
       "    <tr>\n",
       "      <th>4</th>\n",
       "      <td>56</td>\n",
       "      <td>307</td>\n",
       "      <td>1</td>\n",
       "      <td>0</td>\n",
       "      <td>0</td>\n",
       "      <td>1.1</td>\n",
       "      <td>93.994</td>\n",
       "      <td>-36.4</td>\n",
       "      <td>4.857</td>\n",
       "      <td>5191.0</td>\n",
       "      <td>...</td>\n",
       "      <td>married</td>\n",
       "      <td>high.school</td>\n",
       "      <td>no</td>\n",
       "      <td>no</td>\n",
       "      <td>yes</td>\n",
       "      <td>telephone</td>\n",
       "      <td>may</td>\n",
       "      <td>mon</td>\n",
       "      <td>nonexistent</td>\n",
       "      <td>no</td>\n",
       "    </tr>\n",
       "  </tbody>\n",
       "</table>\n",
       "<p>5 rows × 21 columns</p>\n",
       "</div>"
      ],
      "text/plain": [
       "   age  duration  campaign  pdays  previous  emp.var.rate  cons.price.idx  \\\n",
       "0   56       261         1      0         0           1.1          93.994   \n",
       "1   57       149         1      0         0           1.1          93.994   \n",
       "2   37       226         1      0         0           1.1          93.994   \n",
       "3   40       151         1      0         0           1.1          93.994   \n",
       "4   56       307         1      0         0           1.1          93.994   \n",
       "\n",
       "   cons.conf.idx  euribor3m  nr.employed  ...  marital    education default  \\\n",
       "0          -36.4      4.857       5191.0  ...  married     basic.4y      no   \n",
       "1          -36.4      4.857       5191.0  ...  married  high.school      no   \n",
       "2          -36.4      4.857       5191.0  ...  married  high.school      no   \n",
       "3          -36.4      4.857       5191.0  ...  married     basic.6y      no   \n",
       "4          -36.4      4.857       5191.0  ...  married  high.school      no   \n",
       "\n",
       "  housing loan    contact month day_of_week     poutcome   y  \n",
       "0      no   no  telephone   may         mon  nonexistent  no  \n",
       "1      no   no  telephone   may         mon  nonexistent  no  \n",
       "2     yes   no  telephone   may         mon  nonexistent  no  \n",
       "3      no   no  telephone   may         mon  nonexistent  no  \n",
       "4      no  yes  telephone   may         mon  nonexistent  no  \n",
       "\n",
       "[5 rows x 21 columns]"
      ]
     },
     "execution_count": 24,
     "metadata": {},
     "output_type": "execute_result"
    }
   ],
   "source": [
    "BA_full.head()"
   ]
  },
  {
   "cell_type": "markdown",
   "id": "47865756",
   "metadata": {},
   "source": [
    "# Preprocessing dataset"
   ]
  },
  {
   "cell_type": "markdown",
   "id": "76062da0",
   "metadata": {},
   "source": [
    "## Encoding Variabel Kategorik"
   ]
  },
  {
   "cell_type": "markdown",
   "id": "d0c9e3fc",
   "metadata": {},
   "source": [
    "atribut kategorik akan dibagi menjadi:\n",
    "- Nominal atribut : job, education, contact, month, day_of_week, poutcome **(akan dilakukan one-hot encoding)**\n",
    "- Ordinal Atribut : marital, default, housing, loan, y **(akan dilakukan label encoding)**\n"
   ]
  },
  {
   "cell_type": "code",
   "execution_count": 25,
   "id": "8788bc8c",
   "metadata": {},
   "outputs": [],
   "source": [
    "#memilih atribut nominal dari atribut kategori\n",
    "nominal_columns = ['job', 'education', 'contact', 'month', 'day_of_week', 'poutcome']\n",
    "ordinal_Columns = ['marital', 'default', 'housing', 'loan', 'y']"
   ]
  },
  {
   "cell_type": "markdown",
   "id": "481eaec9",
   "metadata": {},
   "source": [
    "**one hot encoding untuk nominal columns**"
   ]
  },
  {
   "cell_type": "code",
   "execution_count": 26,
   "id": "1425f1ef",
   "metadata": {},
   "outputs": [],
   "source": [
    "nominal = pd.get_dummies(BA_full[nominal_columns], drop_first=True)"
   ]
  },
  {
   "cell_type": "markdown",
   "id": "eae47cd4",
   "metadata": {},
   "source": [
    "**Label Encoding untuk ordinal atribut**"
   ]
  },
  {
   "cell_type": "code",
   "execution_count": 27,
   "id": "207038db",
   "metadata": {},
   "outputs": [],
   "source": [
    "ordinal = BA_full.loc[:, ordinal_Columns]\n",
    "\n",
    "#instansiasi kelas labelEncoder\n",
    "encoder = LabelEncoder()\n",
    "\n",
    "#Label encoding\n",
    "for ord_col in ordinal_Columns:\n",
    "    ordinal[ord_col] = encoder.fit_transform(ordinal[ord_col])"
   ]
  },
  {
   "cell_type": "markdown",
   "id": "70a5d1ac",
   "metadata": {},
   "source": [
    "**concat data hasil one hot encoding dan label encoding**"
   ]
  },
  {
   "cell_type": "code",
   "execution_count": 28,
   "id": "90e883e0",
   "metadata": {},
   "outputs": [],
   "source": [
    "BA_categorical_encoded = pd.concat([nominal, ordinal], axis=1)"
   ]
  },
  {
   "cell_type": "code",
   "execution_count": 29,
   "id": "33726646",
   "metadata": {},
   "outputs": [
    {
     "data": {
      "text/html": [
       "<div>\n",
       "<style scoped>\n",
       "    .dataframe tbody tr th:only-of-type {\n",
       "        vertical-align: middle;\n",
       "    }\n",
       "\n",
       "    .dataframe tbody tr th {\n",
       "        vertical-align: top;\n",
       "    }\n",
       "\n",
       "    .dataframe thead th {\n",
       "        text-align: right;\n",
       "    }\n",
       "</style>\n",
       "<table border=\"1\" class=\"dataframe\">\n",
       "  <thead>\n",
       "    <tr style=\"text-align: right;\">\n",
       "      <th></th>\n",
       "      <th>job_blue-collar</th>\n",
       "      <th>job_entrepreneur</th>\n",
       "      <th>job_housemaid</th>\n",
       "      <th>job_management</th>\n",
       "      <th>job_retired</th>\n",
       "      <th>job_self-employed</th>\n",
       "      <th>job_services</th>\n",
       "      <th>job_student</th>\n",
       "      <th>job_technician</th>\n",
       "      <th>job_unemployed</th>\n",
       "      <th>...</th>\n",
       "      <th>day_of_week_thu</th>\n",
       "      <th>day_of_week_tue</th>\n",
       "      <th>day_of_week_wed</th>\n",
       "      <th>poutcome_nonexistent</th>\n",
       "      <th>poutcome_success</th>\n",
       "      <th>marital</th>\n",
       "      <th>default</th>\n",
       "      <th>housing</th>\n",
       "      <th>loan</th>\n",
       "      <th>y</th>\n",
       "    </tr>\n",
       "  </thead>\n",
       "  <tbody>\n",
       "    <tr>\n",
       "      <th>0</th>\n",
       "      <td>0</td>\n",
       "      <td>0</td>\n",
       "      <td>1</td>\n",
       "      <td>0</td>\n",
       "      <td>0</td>\n",
       "      <td>0</td>\n",
       "      <td>0</td>\n",
       "      <td>0</td>\n",
       "      <td>0</td>\n",
       "      <td>0</td>\n",
       "      <td>...</td>\n",
       "      <td>0</td>\n",
       "      <td>0</td>\n",
       "      <td>0</td>\n",
       "      <td>1</td>\n",
       "      <td>0</td>\n",
       "      <td>1</td>\n",
       "      <td>0</td>\n",
       "      <td>0</td>\n",
       "      <td>0</td>\n",
       "      <td>0</td>\n",
       "    </tr>\n",
       "    <tr>\n",
       "      <th>1</th>\n",
       "      <td>0</td>\n",
       "      <td>0</td>\n",
       "      <td>0</td>\n",
       "      <td>0</td>\n",
       "      <td>0</td>\n",
       "      <td>0</td>\n",
       "      <td>1</td>\n",
       "      <td>0</td>\n",
       "      <td>0</td>\n",
       "      <td>0</td>\n",
       "      <td>...</td>\n",
       "      <td>0</td>\n",
       "      <td>0</td>\n",
       "      <td>0</td>\n",
       "      <td>1</td>\n",
       "      <td>0</td>\n",
       "      <td>1</td>\n",
       "      <td>0</td>\n",
       "      <td>0</td>\n",
       "      <td>0</td>\n",
       "      <td>0</td>\n",
       "    </tr>\n",
       "    <tr>\n",
       "      <th>2</th>\n",
       "      <td>0</td>\n",
       "      <td>0</td>\n",
       "      <td>0</td>\n",
       "      <td>0</td>\n",
       "      <td>0</td>\n",
       "      <td>0</td>\n",
       "      <td>1</td>\n",
       "      <td>0</td>\n",
       "      <td>0</td>\n",
       "      <td>0</td>\n",
       "      <td>...</td>\n",
       "      <td>0</td>\n",
       "      <td>0</td>\n",
       "      <td>0</td>\n",
       "      <td>1</td>\n",
       "      <td>0</td>\n",
       "      <td>1</td>\n",
       "      <td>0</td>\n",
       "      <td>1</td>\n",
       "      <td>0</td>\n",
       "      <td>0</td>\n",
       "    </tr>\n",
       "    <tr>\n",
       "      <th>3</th>\n",
       "      <td>0</td>\n",
       "      <td>0</td>\n",
       "      <td>0</td>\n",
       "      <td>0</td>\n",
       "      <td>0</td>\n",
       "      <td>0</td>\n",
       "      <td>0</td>\n",
       "      <td>0</td>\n",
       "      <td>0</td>\n",
       "      <td>0</td>\n",
       "      <td>...</td>\n",
       "      <td>0</td>\n",
       "      <td>0</td>\n",
       "      <td>0</td>\n",
       "      <td>1</td>\n",
       "      <td>0</td>\n",
       "      <td>1</td>\n",
       "      <td>0</td>\n",
       "      <td>0</td>\n",
       "      <td>0</td>\n",
       "      <td>0</td>\n",
       "    </tr>\n",
       "    <tr>\n",
       "      <th>4</th>\n",
       "      <td>0</td>\n",
       "      <td>0</td>\n",
       "      <td>0</td>\n",
       "      <td>0</td>\n",
       "      <td>0</td>\n",
       "      <td>0</td>\n",
       "      <td>1</td>\n",
       "      <td>0</td>\n",
       "      <td>0</td>\n",
       "      <td>0</td>\n",
       "      <td>...</td>\n",
       "      <td>0</td>\n",
       "      <td>0</td>\n",
       "      <td>0</td>\n",
       "      <td>1</td>\n",
       "      <td>0</td>\n",
       "      <td>1</td>\n",
       "      <td>0</td>\n",
       "      <td>0</td>\n",
       "      <td>1</td>\n",
       "      <td>0</td>\n",
       "    </tr>\n",
       "  </tbody>\n",
       "</table>\n",
       "<p>5 rows × 37 columns</p>\n",
       "</div>"
      ],
      "text/plain": [
       "   job_blue-collar  job_entrepreneur  job_housemaid  job_management  \\\n",
       "0                0                 0              1               0   \n",
       "1                0                 0              0               0   \n",
       "2                0                 0              0               0   \n",
       "3                0                 0              0               0   \n",
       "4                0                 0              0               0   \n",
       "\n",
       "   job_retired  job_self-employed  job_services  job_student  job_technician  \\\n",
       "0            0                  0             0            0               0   \n",
       "1            0                  0             1            0               0   \n",
       "2            0                  0             1            0               0   \n",
       "3            0                  0             0            0               0   \n",
       "4            0                  0             1            0               0   \n",
       "\n",
       "   job_unemployed  ...  day_of_week_thu  day_of_week_tue  day_of_week_wed  \\\n",
       "0               0  ...                0                0                0   \n",
       "1               0  ...                0                0                0   \n",
       "2               0  ...                0                0                0   \n",
       "3               0  ...                0                0                0   \n",
       "4               0  ...                0                0                0   \n",
       "\n",
       "   poutcome_nonexistent  poutcome_success  marital  default  housing  loan  y  \n",
       "0                     1                 0        1        0        0     0  0  \n",
       "1                     1                 0        1        0        0     0  0  \n",
       "2                     1                 0        1        0        1     0  0  \n",
       "3                     1                 0        1        0        0     0  0  \n",
       "4                     1                 0        1        0        0     1  0  \n",
       "\n",
       "[5 rows x 37 columns]"
      ]
     },
     "execution_count": 29,
     "metadata": {},
     "output_type": "execute_result"
    }
   ],
   "source": [
    "BA_categorical_encoded.head()"
   ]
  },
  {
   "cell_type": "markdown",
   "id": "39d04a9b",
   "metadata": {},
   "source": [
    "# Mengukur pengaruh atribut pada target"
   ]
  },
  {
   "cell_type": "markdown",
   "id": "9c77c23c",
   "metadata": {},
   "source": [
    "### a. pengaruh atribut kategorikal pada target\n",
    "pengaruh atribut **kategorikal** bisa diukur dengan **Chi-Squared**"
   ]
  },
  {
   "cell_type": "code",
   "execution_count": 30,
   "id": "902bbd81",
   "metadata": {},
   "outputs": [],
   "source": [
    "#daftar kolom baru hasil encoding\n",
    "categorical_columns_new = list(BA_categorical_encoded.columns)\n",
    "categorical_columns_new.remove('y')\n",
    "\n",
    "#menyiapkan atribut dan target\n",
    "X_categorical = BA_categorical_encoded.drop('y', axis=1)\n",
    "y_categorical = BA_categorical_encoded['y']"
   ]
  },
  {
   "cell_type": "code",
   "execution_count": 31,
   "id": "c4604d89",
   "metadata": {},
   "outputs": [],
   "source": [
    "#instansiasi kelas untuk chi-squared\n",
    "chi_square = SelectKBest(score_func=chi2, k='all')\n",
    "\n",
    "#fit chi-square into data\n",
    "X_categorical_selected = chi_square.fit_transform(X_categorical, y_categorical)"
   ]
  },
  {
   "cell_type": "code",
   "execution_count": 32,
   "id": "d0644835",
   "metadata": {},
   "outputs": [
    {
     "data": {
      "image/png": "[encoded data removed]",
      "text/plain": [
       "<Figure size 864x576 with 1 Axes>"
      ]
     },
     "metadata": {
      "needs_background": "light"
     },
     "output_type": "display_data"
    }
   ],
   "source": [
    "#membuat plot tiap atribut kategorikal\n",
    "plt.figure(figsize=(12,8))\n",
    "plt.barh([cat_col for cat_col in categorical_columns_new], chi_square.scores_)\n",
    "plt.xlabel('Nilai Chi-Square', fontsize = 10)\n",
    "plt.ylabel('Atribut kategorik', fontsize = 10)\n",
    "plt.title('Pengaruh Atribut Kategorik (X) pada Target (Y)')\n",
    "plt.show()"
   ]
  },
  {
   "cell_type": "markdown",
   "id": "9f34e0fd",
   "metadata": {},
   "source": [
    "selanjutnya menghapus beberapa atribut kategorik yang memiliki nilai Chi-Square sangat rendah karena menandakan bahwa atribut tersebut tidak memiliki kepentingan terhadap target (label)."
   ]
  },
  {
   "cell_type": "markdown",
   "id": "79251987",
   "metadata": {},
   "source": [
    "### b. Pengaruh atribut numerikal pada target\n",
    "pengaruh atribut **numerik** terhadap target bia diukur dengan **ANOVA F-score**"
   ]
  },
  {
   "cell_type": "code",
   "execution_count": 33,
   "id": "24727164",
   "metadata": {},
   "outputs": [],
   "source": [
    "# menyiapkan atribut dan target\n",
    "X_numerical = BA_full[numerical_columns].copy(deep=True)\n",
    "y_numerical = y_categorical.copy(deep=True)"
   ]
  },
  {
   "cell_type": "code",
   "execution_count": 34,
   "id": "6c08c6ba",
   "metadata": {},
   "outputs": [],
   "source": [
    "# instansiasi kelas anova\n",
    "anova = SelectKBest(score_func=f_classif, k='all')\n",
    "\n",
    "#fit into data\n",
    "X_numerical_selected = anova.fit_transform(X_numerical, y_numerical)"
   ]
  },
  {
   "cell_type": "code",
   "execution_count": 35,
   "id": "9fc1db1d",
   "metadata": {
    "scrolled": true
   },
   "outputs": [
    {
     "data": {
      "image/png": "[encoded data removed]",
      "text/plain": [
       "<Figure size 864x360 with 1 Axes>"
      ]
     },
     "metadata": {
      "needs_background": "light"
     },
     "output_type": "display_data"
    }
   ],
   "source": [
    "# membuat plot tiap atribut numerik\n",
    "plt.figure(figsize=(12,5))\n",
    "plt.barh([num_col for num_col in list(X_numerical.columns)], anova.scores_)\n",
    "plt.title('Pengaruh Atribut Numerik (X) pada Target (Y')\n",
    "plt.xlabel('Nilai ANOVA', fontsize=10)\n",
    "plt.ylabel('Atribut Numerik', fontsize=10)\n",
    "plt.show()"
   ]
  },
  {
   "cell_type": "markdown",
   "id": "31c1e3b7",
   "metadata": {},
   "source": [
    "pada plot yang dihasilkan dapat diketahui bahwa atribut **Durasi** memiliki tingkat pengaruh/kepentingan terhadap target paling tinggi daripadi atribut lainnya."
   ]
  },
  {
   "cell_type": "markdown",
   "id": "38fe498a",
   "metadata": {},
   "source": [
    "## Menghapus beberapa atribut / feature yang tidak digunakan"
   ]
  },
  {
   "cell_type": "markdown",
   "id": "8a9010cc",
   "metadata": {},
   "source": [
    "selanjutnya menghapus beberapa atribut kategorik yang memiliki nilai chi-square saangat rendah dan atribut numerik yang memiliki nilai ANOOVA yang sangat rendah karena menandakan bahwa atribut tersebut tidak memiliki kepentingan terhadap target (label)."
   ]
  },
  {
   "cell_type": "markdown",
   "id": "337a2e9d",
   "metadata": {},
   "source": [
    "### Atribut kategorik"
   ]
  },
  {
   "cell_type": "code",
   "execution_count": 36,
   "id": "1ae76f5a",
   "metadata": {},
   "outputs": [],
   "source": [
    "BA_categorikal_fix = BA_categorical_encoded.drop(columns=['loan', 'housing', 'default', 'day_of_week_wed', 'day_of_week_tue', 'day_of_week_thu', 'day_of_week_mon', 'month_nov', 'month_jun', 'month_aug', 'education_professional.course', 'education_illiterate', 'education_high.school', 'job_unemployed', 'job_technician', 'job_self-employed', 'job_management', 'job_housemaid', 'job_entrepreneur'])"
   ]
  },
  {
   "cell_type": "markdown",
   "id": "d29ebc5a",
   "metadata": {},
   "source": [
    "### Atribut Numeric"
   ]
  },
  {
   "cell_type": "code",
   "execution_count": 42,
   "id": "0f6dddc7",
   "metadata": {},
   "outputs": [],
   "source": [
    "numeric = BA_full[numerical_columns]\n",
    "BA_numerical_fix = numeric.drop(columns='age')"
   ]
  },
  {
   "cell_type": "markdown",
   "id": "ed106700",
   "metadata": {},
   "source": [
    "## Menyatukan data numerikal dan data kategorikal"
   ]
  },
  {
   "cell_type": "code",
   "execution_count": 44,
   "id": "9232c6ea",
   "metadata": {},
   "outputs": [],
   "source": [
    "BA_full = pd.concat([BA_numerical_fix, BA_categorikal_fix], axis=1)"
   ]
  },
  {
   "cell_type": "code",
   "execution_count": 45,
   "id": "ac961a6a",
   "metadata": {},
   "outputs": [
    {
     "data": {
      "text/html": [
       "<div>\n",
       "<style scoped>\n",
       "    .dataframe tbody tr th:only-of-type {\n",
       "        vertical-align: middle;\n",
       "    }\n",
       "\n",
       "    .dataframe tbody tr th {\n",
       "        vertical-align: top;\n",
       "    }\n",
       "\n",
       "    .dataframe thead th {\n",
       "        text-align: right;\n",
       "    }\n",
       "</style>\n",
       "<table border=\"1\" class=\"dataframe\">\n",
       "  <thead>\n",
       "    <tr style=\"text-align: right;\">\n",
       "      <th></th>\n",
       "      <th>duration</th>\n",
       "      <th>campaign</th>\n",
       "      <th>pdays</th>\n",
       "      <th>previous</th>\n",
       "      <th>emp.var.rate</th>\n",
       "      <th>cons.price.idx</th>\n",
       "      <th>cons.conf.idx</th>\n",
       "      <th>euribor3m</th>\n",
       "      <th>nr.employed</th>\n",
       "      <th>job_blue-collar</th>\n",
       "      <th>...</th>\n",
       "      <th>month_dec</th>\n",
       "      <th>month_jul</th>\n",
       "      <th>month_mar</th>\n",
       "      <th>month_may</th>\n",
       "      <th>month_oct</th>\n",
       "      <th>month_sep</th>\n",
       "      <th>poutcome_nonexistent</th>\n",
       "      <th>poutcome_success</th>\n",
       "      <th>marital</th>\n",
       "      <th>y</th>\n",
       "    </tr>\n",
       "  </thead>\n",
       "  <tbody>\n",
       "    <tr>\n",
       "      <th>0</th>\n",
       "      <td>261</td>\n",
       "      <td>1</td>\n",
       "      <td>0</td>\n",
       "      <td>0</td>\n",
       "      <td>1.1</td>\n",
       "      <td>93.994</td>\n",
       "      <td>-36.4</td>\n",
       "      <td>4.857</td>\n",
       "      <td>5191.0</td>\n",
       "      <td>0</td>\n",
       "      <td>...</td>\n",
       "      <td>0</td>\n",
       "      <td>0</td>\n",
       "      <td>0</td>\n",
       "      <td>1</td>\n",
       "      <td>0</td>\n",
       "      <td>0</td>\n",
       "      <td>1</td>\n",
       "      <td>0</td>\n",
       "      <td>1</td>\n",
       "      <td>0</td>\n",
       "    </tr>\n",
       "    <tr>\n",
       "      <th>1</th>\n",
       "      <td>149</td>\n",
       "      <td>1</td>\n",
       "      <td>0</td>\n",
       "      <td>0</td>\n",
       "      <td>1.1</td>\n",
       "      <td>93.994</td>\n",
       "      <td>-36.4</td>\n",
       "      <td>4.857</td>\n",
       "      <td>5191.0</td>\n",
       "      <td>0</td>\n",
       "      <td>...</td>\n",
       "      <td>0</td>\n",
       "      <td>0</td>\n",
       "      <td>0</td>\n",
       "      <td>1</td>\n",
       "      <td>0</td>\n",
       "      <td>0</td>\n",
       "      <td>1</td>\n",
       "      <td>0</td>\n",
       "      <td>1</td>\n",
       "      <td>0</td>\n",
       "    </tr>\n",
       "    <tr>\n",
       "      <th>2</th>\n",
       "      <td>226</td>\n",
       "      <td>1</td>\n",
       "      <td>0</td>\n",
       "      <td>0</td>\n",
       "      <td>1.1</td>\n",
       "      <td>93.994</td>\n",
       "      <td>-36.4</td>\n",
       "      <td>4.857</td>\n",
       "      <td>5191.0</td>\n",
       "      <td>0</td>\n",
       "      <td>...</td>\n",
       "      <td>0</td>\n",
       "      <td>0</td>\n",
       "      <td>0</td>\n",
       "      <td>1</td>\n",
       "      <td>0</td>\n",
       "      <td>0</td>\n",
       "      <td>1</td>\n",
       "      <td>0</td>\n",
       "      <td>1</td>\n",
       "      <td>0</td>\n",
       "    </tr>\n",
       "    <tr>\n",
       "      <th>3</th>\n",
       "      <td>151</td>\n",
       "      <td>1</td>\n",
       "      <td>0</td>\n",
       "      <td>0</td>\n",
       "      <td>1.1</td>\n",
       "      <td>93.994</td>\n",
       "      <td>-36.4</td>\n",
       "      <td>4.857</td>\n",
       "      <td>5191.0</td>\n",
       "      <td>0</td>\n",
       "      <td>...</td>\n",
       "      <td>0</td>\n",
       "      <td>0</td>\n",
       "      <td>0</td>\n",
       "      <td>1</td>\n",
       "      <td>0</td>\n",
       "      <td>0</td>\n",
       "      <td>1</td>\n",
       "      <td>0</td>\n",
       "      <td>1</td>\n",
       "      <td>0</td>\n",
       "    </tr>\n",
       "    <tr>\n",
       "      <th>4</th>\n",
       "      <td>307</td>\n",
       "      <td>1</td>\n",
       "      <td>0</td>\n",
       "      <td>0</td>\n",
       "      <td>1.1</td>\n",
       "      <td>93.994</td>\n",
       "      <td>-36.4</td>\n",
       "      <td>4.857</td>\n",
       "      <td>5191.0</td>\n",
       "      <td>0</td>\n",
       "      <td>...</td>\n",
       "      <td>0</td>\n",
       "      <td>0</td>\n",
       "      <td>0</td>\n",
       "      <td>1</td>\n",
       "      <td>0</td>\n",
       "      <td>0</td>\n",
       "      <td>1</td>\n",
       "      <td>0</td>\n",
       "      <td>1</td>\n",
       "      <td>0</td>\n",
       "    </tr>\n",
       "  </tbody>\n",
       "</table>\n",
       "<p>5 rows × 27 columns</p>\n",
       "</div>"
      ],
      "text/plain": [
       "   duration  campaign  pdays  previous  emp.var.rate  cons.price.idx  \\\n",
       "0       261         1      0         0           1.1          93.994   \n",
       "1       149         1      0         0           1.1          93.994   \n",
       "2       226         1      0         0           1.1          93.994   \n",
       "3       151         1      0         0           1.1          93.994   \n",
       "4       307         1      0         0           1.1          93.994   \n",
       "\n",
       "   cons.conf.idx  euribor3m  nr.employed  job_blue-collar  ...  month_dec  \\\n",
       "0          -36.4      4.857       5191.0                0  ...          0   \n",
       "1          -36.4      4.857       5191.0                0  ...          0   \n",
       "2          -36.4      4.857       5191.0                0  ...          0   \n",
       "3          -36.4      4.857       5191.0                0  ...          0   \n",
       "4          -36.4      4.857       5191.0                0  ...          0   \n",
       "\n",
       "   month_jul  month_mar  month_may  month_oct  month_sep  \\\n",
       "0          0          0          1          0          0   \n",
       "1          0          0          1          0          0   \n",
       "2          0          0          1          0          0   \n",
       "3          0          0          1          0          0   \n",
       "4          0          0          1          0          0   \n",
       "\n",
       "   poutcome_nonexistent  poutcome_success  marital  y  \n",
       "0                     1                 0        1  0  \n",
       "1                     1                 0        1  0  \n",
       "2                     1                 0        1  0  \n",
       "3                     1                 0        1  0  \n",
       "4                     1                 0        1  0  \n",
       "\n",
       "[5 rows x 27 columns]"
      ]
     },
     "execution_count": 45,
     "metadata": {},
     "output_type": "execute_result"
    }
   ],
   "source": [
    "BA_full.head()"
   ]
  },
  {
   "cell_type": "markdown",
   "id": "eec36bde",
   "metadata": {},
   "source": [
    "## Pembagian dataset ke dalam data training dan data testing\n",
    "dataset dibagi menjadi data training = 70%, dan data testing = 30%."
   ]
  },
  {
   "cell_type": "markdown",
   "id": "17f6d450",
   "metadata": {},
   "source": [
    "**menentukan features dan label:**"
   ]
  },
  {
   "cell_type": "code",
   "execution_count": 46,
   "id": "a25170c5",
   "metadata": {},
   "outputs": [],
   "source": [
    "X = BA_full.drop('y', axis=1)\n",
    "y = BA_full['y']"
   ]
  },
  {
   "cell_type": "markdown",
   "id": "1556b317",
   "metadata": {},
   "source": [
    "**membagi data training dan data testing**"
   ]
  },
  {
   "cell_type": "code",
   "execution_count": 47,
   "id": "1ac501d0",
   "metadata": {},
   "outputs": [],
   "source": [
    "X_train, X_test, y_train, y_test = train_test_split(X, y, test_size=0.3, random_state=10)"
   ]
  },
  {
   "cell_type": "markdown",
   "id": "573852bf",
   "metadata": {},
   "source": [
    "# 1. Logistic Regression"
   ]
  },
  {
   "cell_type": "markdown",
   "id": "1260e9c7",
   "metadata": {},
   "source": [
    "### Generating Model"
   ]
  },
  {
   "cell_type": "code",
   "execution_count": 48,
   "id": "fa2dacdd",
   "metadata": {},
   "outputs": [
    {
     "name": "stderr",
     "output_type": "stream",
     "text": [
      "C:\\Users\\ACER\\anaconda3\\lib\\site-packages\\sklearn\\linear_model\\_logistic.py:814: ConvergenceWarning: lbfgs failed to converge (status=1):\n",
      "STOP: TOTAL NO. of ITERATIONS REACHED LIMIT.\n",
      "\n",
      "Increase the number of iterations (max_iter) or scale the data as shown in:\n",
      "    https://scikit-learn.org/stable/modules/preprocessing.html\n",
      "Please also refer to the documentation for alternative solver options:\n",
      "    https://scikit-learn.org/stable/modules/linear_model.html#logistic-regression\n",
      "  n_iter_i = _check_optimize_result(\n"
     ]
    },
    {
     "data": {
      "text/plain": [
       "LogisticRegression()"
      ]
     },
     "execution_count": 48,
     "metadata": {},
     "output_type": "execute_result"
    }
   ],
   "source": [
    "model1 = LogisticRegression()\n",
    "\n",
    "#melatih model\n",
    "model1.fit(X_train, y_train)"
   ]
  },
  {
   "cell_type": "code",
   "execution_count": 49,
   "id": "a4b6852b",
   "metadata": {},
   "outputs": [],
   "source": [
    "y_pred1 = model1.predict(X_test)"
   ]
  },
  {
   "cell_type": "markdown",
   "id": "0f87b3c1",
   "metadata": {},
   "source": [
    "### Evaluating Model"
   ]
  },
  {
   "cell_type": "code",
   "execution_count": 50,
   "id": "84e2c094",
   "metadata": {},
   "outputs": [
    {
     "name": "stdout",
     "output_type": "stream",
     "text": [
      "Accuracy: 0.9052358986809096\n"
     ]
    }
   ],
   "source": [
    "print('Accuracy:', metrics.accuracy_score(y_test, y_pred1))"
   ]
  },
  {
   "cell_type": "markdown",
   "id": "b9651ade",
   "metadata": {},
   "source": [
    "dari model Logistik Regresi diperoleh tingkat akurasi sebesar 90,52%"
   ]
  },
  {
   "cell_type": "markdown",
   "id": "4e28b28c",
   "metadata": {},
   "source": [
    "### visualisasi confusion matrix"
   ]
  },
  {
   "cell_type": "code",
   "execution_count": 51,
   "id": "c499bddf",
   "metadata": {},
   "outputs": [
    {
     "name": "stdout",
     "output_type": "stream",
     "text": [
      "[[10651   284]\n",
      " [  887   535]]\n"
     ]
    }
   ],
   "source": [
    "print(confusion_matrix(y_test, y_pred1))"
   ]
  },
  {
   "cell_type": "code",
   "execution_count": 52,
   "id": "f48de0db",
   "metadata": {},
   "outputs": [
    {
     "name": "stderr",
     "output_type": "stream",
     "text": [
      "C:\\Users\\ACER\\anaconda3\\lib\\site-packages\\sklearn\\utils\\deprecation.py:87: FutureWarning: Function plot_confusion_matrix is deprecated; Function `plot_confusion_matrix` is deprecated in 1.0 and will be removed in 1.2. Use one of the class methods: ConfusionMatrixDisplay.from_predictions or ConfusionMatrixDisplay.from_estimator.\n",
      "  warnings.warn(msg, category=FutureWarning)\n"
     ]
    },
    {
     "data": {
      "text/plain": [
       "<sklearn.metrics._plot.confusion_matrix.ConfusionMatrixDisplay at 0x241699454f0>"
      ]
     },
     "execution_count": 52,
     "metadata": {},
     "output_type": "execute_result"
    },
    {
     "data": {
      "image/png": "[encoded data removed]",
      "text/plain": [
       "<Figure size 432x288 with 2 Axes>"
      ]
     },
     "metadata": {
      "needs_background": "light"
     },
     "output_type": "display_data"
    }
   ],
   "source": [
    "plot_confusion_matrix(model1, X_test, y_test)"
   ]
  },
  {
   "cell_type": "markdown",
   "id": "8527bc1a",
   "metadata": {},
   "source": [
    "Dari confusion matrix yang dihasilkan, diketahui:\n",
    "- **Benar Negatif** = 10651\n",
    "- **Salah Positif** = 284\n",
    "- **Salah negatif** = 887\n",
    "- **Benar positif** = 535"
   ]
  },
  {
   "cell_type": "markdown",
   "id": "33de7a0d",
   "metadata": {},
   "source": [
    "# 2. K-Nearest Neighbors"
   ]
  },
  {
   "cell_type": "markdown",
   "id": "3ee7bc83",
   "metadata": {},
   "source": [
    "### Mencari nilai k terbaik"
   ]
  },
  {
   "cell_type": "code",
   "execution_count": 53,
   "id": "0de68bae",
   "metadata": {},
   "outputs": [
    {
     "data": {
      "text/plain": [
       "Text(0, 0.5, 'Error mean')"
      ]
     },
     "execution_count": 53,
     "metadata": {},
     "output_type": "execute_result"
    },
    {
     "data": {
      "image/png": "[encoded data removed]",
      "text/plain": [
       "<Figure size 864x1152 with 1 Axes>"
      ]
     },
     "metadata": {
      "needs_background": "light"
     },
     "output_type": "display_data"
    }
   ],
   "source": [
    "#find best n_neighbors value\n",
    "error = []\n",
    "\n",
    "for i in range(1,15):\n",
    "    knn = KNeighborsClassifier(n_neighbors=i)\n",
    "    knn.fit(X_train, y_train)\n",
    "    pred_i = knn.predict(X_test)\n",
    "    error.append(np.mean(pred_i !=y_test))\n",
    "    \n",
    "plt.figure(figsize=(12,16))\n",
    "plt.plot(range(1,15), error, color='red', linestyle='dashed', marker='o', markerfacecolor='blue', markersize=10 )\n",
    "plt.title('Error Rate K')\n",
    "plt.xlabel('K')\n",
    "plt.ylabel('Error mean')"
   ]
  },
  {
   "cell_type": "markdown",
   "id": "846a2bac",
   "metadata": {},
   "source": [
    "dari error pada grafik terlihat bahwa error terkecil diperoleh 0.095 pada K = 11"
   ]
  },
  {
   "cell_type": "markdown",
   "id": "e13c0186",
   "metadata": {},
   "source": [
    "### Generating Model"
   ]
  },
  {
   "cell_type": "code",
   "execution_count": 54,
   "id": "3f1e77bd",
   "metadata": {},
   "outputs": [],
   "source": [
    "# Create KNN Classifier\n",
    "model2 = KNeighborsClassifier(n_neighbors=11)"
   ]
  },
  {
   "cell_type": "code",
   "execution_count": 55,
   "id": "e560c98c",
   "metadata": {},
   "outputs": [
    {
     "data": {
      "text/plain": [
       "KNeighborsClassifier(n_neighbors=11)"
      ]
     },
     "execution_count": 55,
     "metadata": {},
     "output_type": "execute_result"
    }
   ],
   "source": [
    "#Train the model using the training sets\n",
    "model2.fit(X_train, y_train)"
   ]
  },
  {
   "cell_type": "code",
   "execution_count": 56,
   "id": "4b2d5746",
   "metadata": {},
   "outputs": [],
   "source": [
    "#Predict the response for test datasets\n",
    "y_pred2 = model2.predict(X_test)"
   ]
  },
  {
   "cell_type": "markdown",
   "id": "72a7c909",
   "metadata": {},
   "source": [
    "### Evaluating Model"
   ]
  },
  {
   "cell_type": "code",
   "execution_count": 57,
   "id": "e05a3c2f",
   "metadata": {},
   "outputs": [
    {
     "name": "stdout",
     "output_type": "stream",
     "text": [
      "Accuracy: 0.9049121955167112\n"
     ]
    }
   ],
   "source": [
    "print('Accuracy:', metrics.accuracy_score(y_test, y_pred2))"
   ]
  },
  {
   "cell_type": "markdown",
   "id": "3f41807b",
   "metadata": {},
   "source": [
    "tingkat klasifikasi menggunakan model KNN diperoleh sebesar 90,49%"
   ]
  },
  {
   "cell_type": "markdown",
   "id": "dce59fe8",
   "metadata": {},
   "source": [
    "### Visualisasi Confusion Matrix"
   ]
  },
  {
   "cell_type": "code",
   "execution_count": 58,
   "id": "f5331c35",
   "metadata": {
    "scrolled": true
   },
   "outputs": [
    {
     "name": "stderr",
     "output_type": "stream",
     "text": [
      "C:\\Users\\ACER\\anaconda3\\lib\\site-packages\\sklearn\\utils\\deprecation.py:87: FutureWarning: Function plot_confusion_matrix is deprecated; Function `plot_confusion_matrix` is deprecated in 1.0 and will be removed in 1.2. Use one of the class methods: ConfusionMatrixDisplay.from_predictions or ConfusionMatrixDisplay.from_estimator.\n",
      "  warnings.warn(msg, category=FutureWarning)\n"
     ]
    },
    {
     "data": {
      "text/plain": [
       "<sklearn.metrics._plot.confusion_matrix.ConfusionMatrixDisplay at 0x2416a0cafd0>"
      ]
     },
     "execution_count": 58,
     "metadata": {},
     "output_type": "execute_result"
    },
    {
     "data": {
      "image/png": "[encoded data removed]",
      "text/plain": [
       "<Figure size 432x288 with 2 Axes>"
      ]
     },
     "metadata": {
      "needs_background": "light"
     },
     "output_type": "display_data"
    }
   ],
   "source": [
    "plot_confusion_matrix(model2, X_test, y_test)"
   ]
  },
  {
   "cell_type": "markdown",
   "id": "ab27973b",
   "metadata": {},
   "source": [
    "Dari confusion matrix yang dihasilkan, diketahui:\n",
    "- **Benar Negatif** = 10539\n",
    "- **Salah Positif** = 396\n",
    "- **Salah negatif** = 779\n",
    "- **Benar positif** = 643"
   ]
  },
  {
   "cell_type": "markdown",
   "id": "20a0f4ea",
   "metadata": {},
   "source": [
    "# 3. Support Vector Machine (SVM)"
   ]
  },
  {
   "cell_type": "markdown",
   "id": "9b66f5b1",
   "metadata": {},
   "source": [
    "### Generating Model"
   ]
  },
  {
   "cell_type": "code",
   "execution_count": 60,
   "id": "e23a736d",
   "metadata": {},
   "outputs": [],
   "source": [
    "#Create a svm Classifier\n",
    "model3 = svm.SVC(kernel='linear')"
   ]
  },
  {
   "cell_type": "code",
   "execution_count": 61,
   "id": "60a7fe4b",
   "metadata": {},
   "outputs": [
    {
     "data": {
      "text/plain": [
       "SVC(kernel='linear')"
      ]
     },
     "execution_count": 61,
     "metadata": {},
     "output_type": "execute_result"
    }
   ],
   "source": [
    "#train the model using the training sets\n",
    "model3.fit(X_train, y_train)"
   ]
  },
  {
   "cell_type": "code",
   "execution_count": 62,
   "id": "4899230d",
   "metadata": {},
   "outputs": [],
   "source": [
    "#Predict the response for test dataset\n",
    "y_pred3 = model3.predict(X_test)"
   ]
  },
  {
   "cell_type": "markdown",
   "id": "342ecd14",
   "metadata": {},
   "source": [
    "### Evaluating Model"
   ]
  },
  {
   "cell_type": "code",
   "execution_count": 63,
   "id": "5c7db59f",
   "metadata": {},
   "outputs": [
    {
     "name": "stdout",
     "output_type": "stream",
     "text": [
      "Accuracy: 0.9027271991583717\n"
     ]
    }
   ],
   "source": [
    "print('Accuracy:', metrics.accuracy_score(y_test, y_pred3))"
   ]
  },
  {
   "cell_type": "markdown",
   "id": "290b045d",
   "metadata": {},
   "source": [
    "diperoleh tingkal klasifikasi menggunakan model SVM sebesar 90.27%"
   ]
  },
  {
   "cell_type": "markdown",
   "id": "ba617dcb",
   "metadata": {},
   "source": [
    "### Visualisasi Confusion Matrix"
   ]
  },
  {
   "cell_type": "code",
   "execution_count": 64,
   "id": "b999c89a",
   "metadata": {
    "scrolled": true
   },
   "outputs": [
    {
     "name": "stderr",
     "output_type": "stream",
     "text": [
      "C:\\Users\\ACER\\anaconda3\\lib\\site-packages\\sklearn\\utils\\deprecation.py:87: FutureWarning: Function plot_confusion_matrix is deprecated; Function `plot_confusion_matrix` is deprecated in 1.0 and will be removed in 1.2. Use one of the class methods: ConfusionMatrixDisplay.from_predictions or ConfusionMatrixDisplay.from_estimator.\n",
      "  warnings.warn(msg, category=FutureWarning)\n"
     ]
    },
    {
     "data": {
      "text/plain": [
       "<sklearn.metrics._plot.confusion_matrix.ConfusionMatrixDisplay at 0x2415e9fe790>"
      ]
     },
     "execution_count": 64,
     "metadata": {},
     "output_type": "execute_result"
    },
    {
     "data": {
      "image/png": "[encoded data removed]",
      "text/plain": [
       "<Figure size 432x288 with 2 Axes>"
      ]
     },
     "metadata": {
      "needs_background": "light"
     },
     "output_type": "display_data"
    }
   ],
   "source": [
    "plot_confusion_matrix(model3, X_test, y_test)"
   ]
  },
  {
   "cell_type": "markdown",
   "id": "5e51d17b",
   "metadata": {},
   "source": [
    "Dari confusion matrix yang dihasilkan, diketahui:\n",
    "- **Benar Negatif** = 10678\n",
    "- **Salah Positif** = 257\n",
    "- **Salah negatif** = 945\n",
    "- **Benar positif** = 477"
   ]
  },
  {
   "cell_type": "markdown",
   "id": "47ef028c",
   "metadata": {},
   "source": [
    "# 4. Decision Tree"
   ]
  },
  {
   "cell_type": "markdown",
   "id": "6029216d",
   "metadata": {},
   "source": [
    "### Generating Model"
   ]
  },
  {
   "cell_type": "code",
   "execution_count": 65,
   "id": "ae56f73d",
   "metadata": {},
   "outputs": [
    {
     "data": {
      "text/plain": [
       "DecisionTreeClassifier()"
      ]
     },
     "execution_count": 65,
     "metadata": {},
     "output_type": "execute_result"
    }
   ],
   "source": [
    "model4 = tree.DecisionTreeClassifier()\n",
    "model4.fit(X_train, y_train)"
   ]
  },
  {
   "cell_type": "code",
   "execution_count": 66,
   "id": "c742dd01",
   "metadata": {},
   "outputs": [],
   "source": [
    "y_pred4 = model4.predict(X_test)"
   ]
  },
  {
   "cell_type": "markdown",
   "id": "780b9422",
   "metadata": {},
   "source": [
    "### Evaluating Model"
   ]
  },
  {
   "cell_type": "code",
   "execution_count": 67,
   "id": "5b9ba56a",
   "metadata": {},
   "outputs": [
    {
     "name": "stdout",
     "output_type": "stream",
     "text": [
      "Accuracy: 0.8885651857246905\n"
     ]
    }
   ],
   "source": [
    "print('Accuracy:', metrics.accuracy_score(y_test, y_pred4))"
   ]
  },
  {
   "cell_type": "markdown",
   "id": "39ce31e6",
   "metadata": {},
   "source": [
    "diperoleh tingkat akurasi model Decision tree sebesar 88.85%"
   ]
  },
  {
   "cell_type": "markdown",
   "id": "778063ec",
   "metadata": {},
   "source": [
    "### Classification Report"
   ]
  },
  {
   "cell_type": "code",
   "execution_count": 68,
   "id": "42a20015",
   "metadata": {},
   "outputs": [
    {
     "name": "stdout",
     "output_type": "stream",
     "text": [
      "              precision    recall  f1-score   support\n",
      "\n",
      "           0       0.94      0.94      0.94     10935\n",
      "           1       0.52      0.50      0.51      1422\n",
      "\n",
      "    accuracy                           0.89     12357\n",
      "   macro avg       0.73      0.72      0.72     12357\n",
      "weighted avg       0.89      0.89      0.89     12357\n",
      "\n"
     ]
    }
   ],
   "source": [
    "print(classification_report(y_test, y_pred4))"
   ]
  },
  {
   "cell_type": "markdown",
   "id": "7be83a88",
   "metadata": {},
   "source": [
    "### Visualisasi Confusion Matrix"
   ]
  },
  {
   "cell_type": "code",
   "execution_count": 69,
   "id": "a8631859",
   "metadata": {
    "scrolled": true
   },
   "outputs": [
    {
     "name": "stderr",
     "output_type": "stream",
     "text": [
      "C:\\Users\\ACER\\anaconda3\\lib\\site-packages\\sklearn\\utils\\deprecation.py:87: FutureWarning: Function plot_confusion_matrix is deprecated; Function `plot_confusion_matrix` is deprecated in 1.0 and will be removed in 1.2. Use one of the class methods: ConfusionMatrixDisplay.from_predictions or ConfusionMatrixDisplay.from_estimator.\n",
      "  warnings.warn(msg, category=FutureWarning)\n"
     ]
    },
    {
     "data": {
      "text/plain": [
       "<sklearn.metrics._plot.confusion_matrix.ConfusionMatrixDisplay at 0x24169e76dc0>"
      ]
     },
     "execution_count": 69,
     "metadata": {},
     "output_type": "execute_result"
    },
    {
     "data": {
      "image/png": "[encoded data removed]",
      "text/plain": [
       "<Figure size 432x288 with 2 Axes>"
      ]
     },
     "metadata": {
      "needs_background": "light"
     },
     "output_type": "display_data"
    }
   ],
   "source": [
    "plot_confusion_matrix(model4, X_test, y_test)"
   ]
  },
  {
   "cell_type": "markdown",
   "id": "4d750f5e",
   "metadata": {},
   "source": [
    "Dari confusion matrix yang dihasilkan, diketahui:\n",
    "- **Benar Negatif** = 10000\n",
    "- **Salah Positif** = 671\n",
    "- **Salah negatif** = 706\n",
    "- **Benar positif** = 716"
   ]
  },
  {
   "cell_type": "markdown",
   "id": "b4621a82",
   "metadata": {},
   "source": [
    "# 5. Random Forest"
   ]
  },
  {
   "cell_type": "markdown",
   "id": "dfc067df",
   "metadata": {},
   "source": [
    "### Generating Model"
   ]
  },
  {
   "cell_type": "code",
   "execution_count": 70,
   "id": "564e82b2",
   "metadata": {},
   "outputs": [
    {
     "data": {
      "text/plain": [
       "RandomForestClassifier()"
      ]
     },
     "execution_count": 70,
     "metadata": {},
     "output_type": "execute_result"
    }
   ],
   "source": [
    "model5 = RandomForestClassifier()\n",
    "model5.fit(X_train, y_train)"
   ]
  },
  {
   "cell_type": "code",
   "execution_count": 71,
   "id": "c815e64e",
   "metadata": {},
   "outputs": [],
   "source": [
    "y_pred5 = model5.predict(X_test)"
   ]
  },
  {
   "cell_type": "markdown",
   "id": "b2485b3a",
   "metadata": {},
   "source": [
    "### Evaluating Model"
   ]
  },
  {
   "cell_type": "code",
   "execution_count": 72,
   "id": "9f7a17cc",
   "metadata": {},
   "outputs": [
    {
     "name": "stdout",
     "output_type": "stream",
     "text": [
      "Accuracy: 0.9086347819049931\n"
     ]
    }
   ],
   "source": [
    "print(\"Accuracy:\", metrics.accuracy_score(y_test, y_pred5))"
   ]
  },
  {
   "cell_type": "markdown",
   "id": "9e49edef",
   "metadata": {},
   "source": [
    "diperoleh tingkat akurasi model Random Forest sebesar 90.86%"
   ]
  },
  {
   "cell_type": "markdown",
   "id": "eeba444f",
   "metadata": {},
   "source": [
    "### Visulasisasi Confusion Matrix"
   ]
  },
  {
   "cell_type": "code",
   "execution_count": 73,
   "id": "790707a3",
   "metadata": {
    "scrolled": true
   },
   "outputs": [
    {
     "name": "stderr",
     "output_type": "stream",
     "text": [
      "C:\\Users\\ACER\\anaconda3\\lib\\site-packages\\sklearn\\utils\\deprecation.py:87: FutureWarning: Function plot_confusion_matrix is deprecated; Function `plot_confusion_matrix` is deprecated in 1.0 and will be removed in 1.2. Use one of the class methods: ConfusionMatrixDisplay.from_predictions or ConfusionMatrixDisplay.from_estimator.\n",
      "  warnings.warn(msg, category=FutureWarning)\n"
     ]
    },
    {
     "data": {
      "text/plain": [
       "<sklearn.metrics._plot.confusion_matrix.ConfusionMatrixDisplay at 0x2416993d280>"
      ]
     },
     "execution_count": 73,
     "metadata": {},
     "output_type": "execute_result"
    },
    {
     "data": {
      "image/png": "[encoded data removed]",
      "text/plain": [
       "<Figure size 432x288 with 2 Axes>"
      ]
     },
     "metadata": {
      "needs_background": "light"
     },
     "output_type": "display_data"
    }
   ],
   "source": [
    "plot_confusion_matrix(model5, X_test, y_test)"
   ]
  },
  {
   "cell_type": "markdown",
   "id": "b60a0345",
   "metadata": {},
   "source": [
    "Dari confusion matrix yang dihasilkan, diketahui:\n",
    "- **Benar Negatif** = 10511\n",
    "- **Salah Positif** = 424\n",
    "- **Salah negatif** = 705\n",
    "- **Benar positif** = 717"
   ]
  },
  {
   "cell_type": "markdown",
   "id": "00346c5d",
   "metadata": {},
   "source": [
    "# 6. Naive Bayes"
   ]
  },
  {
   "cell_type": "markdown",
   "id": "134d23d3",
   "metadata": {},
   "source": [
    "### General Modeling"
   ]
  },
  {
   "cell_type": "code",
   "execution_count": 74,
   "id": "5fdefe6f",
   "metadata": {},
   "outputs": [
    {
     "data": {
      "text/plain": [
       "GaussianNB()"
      ]
     },
     "execution_count": 74,
     "metadata": {},
     "output_type": "execute_result"
    }
   ],
   "source": [
    "model6 = GaussianNB()\n",
    "model6.fit(X_train, y_train)"
   ]
  },
  {
   "cell_type": "code",
   "execution_count": 75,
   "id": "225c7081",
   "metadata": {},
   "outputs": [],
   "source": [
    "y_pred6 = model6.predict(X_test)"
   ]
  },
  {
   "cell_type": "markdown",
   "id": "60bafce5",
   "metadata": {},
   "source": [
    "### Evaluating Model"
   ]
  },
  {
   "cell_type": "code",
   "execution_count": 76,
   "id": "3f08749f",
   "metadata": {},
   "outputs": [
    {
     "name": "stdout",
     "output_type": "stream",
     "text": [
      "Accuracy: 0.8700331795743304\n"
     ]
    }
   ],
   "source": [
    "print('Accuracy:', metrics.accuracy_score(y_test, y_pred6))"
   ]
  },
  {
   "cell_type": "markdown",
   "id": "dfeea6f6",
   "metadata": {},
   "source": [
    "tingkat klasifikasi model Naive Bayes sebesar 87.00%"
   ]
  },
  {
   "cell_type": "markdown",
   "id": "b1f7409d",
   "metadata": {},
   "source": [
    "### Visualisasi Confusion Matrix"
   ]
  },
  {
   "cell_type": "code",
   "execution_count": 77,
   "id": "3dc40f30",
   "metadata": {
    "scrolled": true
   },
   "outputs": [
    {
     "name": "stderr",
     "output_type": "stream",
     "text": [
      "C:\\Users\\ACER\\anaconda3\\lib\\site-packages\\sklearn\\utils\\deprecation.py:87: FutureWarning: Function plot_confusion_matrix is deprecated; Function `plot_confusion_matrix` is deprecated in 1.0 and will be removed in 1.2. Use one of the class methods: ConfusionMatrixDisplay.from_predictions or ConfusionMatrixDisplay.from_estimator.\n",
      "  warnings.warn(msg, category=FutureWarning)\n"
     ]
    },
    {
     "data": {
      "text/plain": [
       "<sklearn.metrics._plot.confusion_matrix.ConfusionMatrixDisplay at 0x2415e9d8af0>"
      ]
     },
     "execution_count": 77,
     "metadata": {},
     "output_type": "execute_result"
    },
    {
     "data": {
      "image/png": "[encoded data removed]",
      "text/plain": [
       "<Figure size 432x288 with 2 Axes>"
      ]
     },
     "metadata": {
      "needs_background": "light"
     },
     "output_type": "display_data"
    }
   ],
   "source": [
    "plot_confusion_matrix(model6, X_test, y_test)"
   ]
  },
  {
   "cell_type": "markdown",
   "id": "1ba33ba3",
   "metadata": {},
   "source": [
    "Dari confusion matrix yang dihasilkan, diketahui:\n",
    "- **Benar Negatif** = 10000\n",
    "- **Salah Positif** = 840\n",
    "- **Salah negatif** = 766\n",
    "- **Benar positif** = 656"
   ]
  },
  {
   "cell_type": "markdown",
   "id": "5d0a3f44",
   "metadata": {},
   "source": [
    "# Model Terbaik\n",
    "**acuan:** \n",
    "- model terbaik dipilih dengan model yang memiliki accuracy tinggi jika dataset memiliki jumlah data salah negatif dan salah positif yang hampir sama. namun, jika jumlahnya tidak mendekati, maka sebaiknya menggunakan F1 score sebagai acuan.\n",
    "- memilih model terbaik dengan Recall tertinggi jika kita lebih memilih salah positif lebih baik terjadi daripada salah negatif. dalam kasus ini, maka kita mempertimbangkan recall karena lebih baik algoritma kita memprediksi klien positif berlangganan tetapi sebenarnya tidak, daripada algoritma salah memprediksi bahwa klien tidak berlangganan padahal sebenarnya dia berlangganan.\n",
    "\n",
    "**tindakan:**\n",
    "- hasil akurasi dan recall setiap model akan dibandingkan\n",
    "- model dengan rata-rata recall dan akurasi terbaik akan dipilih sebagai model terbaik"
   ]
  },
  {
   "cell_type": "markdown",
   "id": "c213f4d2",
   "metadata": {},
   "source": [
    "### Accuracy"
   ]
  },
  {
   "cell_type": "code",
   "execution_count": 78,
   "id": "021530b1",
   "metadata": {},
   "outputs": [
    {
     "name": "stdout",
     "output_type": "stream",
     "text": [
      "Skor Accuracy Logistik Regression: 0.9052358986809096\n",
      "Skor Accuracy K-Nearest Neighbors: 0.9049121955167112\n",
      "Skor Accuracy Support Vector Machine: 0.9027271991583717\n",
      "Skor Accuracy Decision Tree: 0.8885651857246905\n",
      "Skor Accuracy Random Forest: 0.9086347819049931\n",
      "Skor Accuracy Naive Bayes: 0.8700331795743304\n"
     ]
    }
   ],
   "source": [
    "print('Skor Accuracy Logistik Regression:', metrics.accuracy_score(y_test, y_pred1))\n",
    "print('Skor Accuracy K-Nearest Neighbors:', metrics.accuracy_score(y_test, y_pred2))\n",
    "print('Skor Accuracy Support Vector Machine:', metrics.accuracy_score(y_test, y_pred3))\n",
    "print('Skor Accuracy Decision Tree:', metrics.accuracy_score(y_test, y_pred4))\n",
    "print('Skor Accuracy Random Forest:', metrics.accuracy_score(y_test, y_pred5))\n",
    "print('Skor Accuracy Naive Bayes:', metrics.accuracy_score(y_test, y_pred6))"
   ]
  },
  {
   "cell_type": "markdown",
   "id": "2c3c328d",
   "metadata": {},
   "source": [
    "hasil skor akurasi menunjukkan bahwa Random Forest memiliki tingkat klasifikasi sebesar 90,86%. pada titik ini, model Random forest memiliki indikasi sebagai model terbaik.\n",
    "lalu kita lihat pada recall dan confusion matrix model Random Forest:"
   ]
  },
  {
   "cell_type": "markdown",
   "id": "0ca45acb",
   "metadata": {},
   "source": [
    "### Recall dan Confusion Matrix Model Terbaik"
   ]
  },
  {
   "cell_type": "code",
   "execution_count": 91,
   "id": "8c693d83",
   "metadata": {
    "scrolled": true
   },
   "outputs": [
    {
     "name": "stdout",
     "output_type": "stream",
     "text": [
      "RECALL SCORE:\n",
      "Logistik Regression: 0.3762306610407876\n",
      "K-Nearest Neighbors: 0.45218002812939523\n",
      "Support Vector Machine: 0.33544303797468356\n",
      "Decision Tree: 0.5035161744022504\n",
      "Random Forest: 0.5042194092827004\n",
      "Naive Bayes: 0.4613220815752461\n"
     ]
    }
   ],
   "source": [
    "print(\"RECALL SCORE:\")\n",
    "print(\"Logistik Regression:\", metrics.recall_score(y_test, y_pred1))\n",
    "print(\"K-Nearest Neighbors:\", metrics.recall_score(y_test, y_pred2))\n",
    "print(\"Support Vector Machine:\", metrics.recall_score(y_test, y_pred3))\n",
    "print(\"Decision Tree:\", metrics.recall_score(y_test, y_pred4))\n",
    "print(\"Random Forest:\", metrics.recall_score(y_test, y_pred5))\n",
    "print(\"Naive Bayes:\", metrics.recall_score(y_test, y_pred6))\n"
   ]
  },
  {
   "cell_type": "markdown",
   "id": "d57b10b0",
   "metadata": {},
   "source": [
    "Random Forest memiliki nilai recall paling tinggi diantara model yang lainnya, sehinggal model Random Forest memiliki indikasi menjadi model terbaik"
   ]
  },
  {
   "cell_type": "markdown",
   "id": "72c8659a",
   "metadata": {},
   "source": [
    "# Kesimpulan"
   ]
  },
  {
   "cell_type": "markdown",
   "id": "ea8def4d",
   "metadata": {},
   "source": [
    "Berdasarkan proses pengujian performa model yang dilihat dari nilai accuracy dan recall yang dihasilkan pada tiap model, **Random Forest** memiliki **tingkat akurasi** dan **recall** paling tinggi yaitu sebesar **90.86%** untuk nilai akurasi dan **0.504** untuk recall. sehingga dapat disimpulkan bahwa model **Random Forest** merupakan model terbaik untuk menentukan apakah klien produk (Deposito berjangka bank) akan ('ya') atau ('tidak') berlangganan."
   ]
  }
 ],
 "metadata": {
  "kernelspec": {
   "display_name": "Python 3 (ipykernel)",
   "language": "python",
   "name": "python3"
  },
  "language_info": {
   "codemirror_mode": {
    "name": "ipython",
    "version": 3
   },
   "file_extension": ".py",
   "mimetype": "text/x-python",
   "name": "python",
   "nbconvert_exporter": "python",
   "pygments_lexer": "ipython3",
   "version": "3.9.12"
  },
  "toc": {
   "base_numbering": 1,
   "nav_menu": {},
   "number_sections": true,
   "sideBar": true,
   "skip_h1_title": false,
   "title_cell": "Table of Contents",
   "title_sidebar": "Contents",
   "toc_cell": false,
   "toc_position": {},
   "toc_section_display": true,
   "toc_window_display": false
  }
 },
 "nbformat": 4,
 "nbformat_minor": 5
}

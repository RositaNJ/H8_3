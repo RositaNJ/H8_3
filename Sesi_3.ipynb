{
 "cells": [
  {
   "cell_type": "markdown",
   "metadata": {},
   "source": [
    "# Function, Basic Module, and Package"
   ]
  },
  {
   "cell_type": "markdown",
   "metadata": {},
   "source": [
    "## Python Function"
   ]
  },
  {
   "cell_type": "markdown",
   "metadata": {},
   "source": [
    "### Defining a Function"
   ]
  },
  {
   "cell_type": "code",
   "execution_count": 1,
   "metadata": {},
   "outputs": [],
   "source": [
    "def luas (p, l):\n",
    "    \"function menghitung luas\"\n",
    "    print(p*l)"
   ]
  },
  {
   "cell_type": "code",
   "execution_count": 3,
   "metadata": {},
   "outputs": [
    {
     "name": "stdout",
     "output_type": "stream",
     "text": [
      "30\n",
      "<function luas at 0x00000253A84DBD90>\n"
     ]
    }
   ],
   "source": [
    "luas (10, 3)\n",
    "print(luas)"
   ]
  },
  {
   "cell_type": "markdown",
   "metadata": {},
   "source": [
    "### Calling a Function"
   ]
  },
  {
   "cell_type": "code",
   "execution_count": 4,
   "metadata": {},
   "outputs": [
    {
     "name": "stdout",
     "output_type": "stream",
     "text": [
      "i.m first call to user defined function!\n"
     ]
    }
   ],
   "source": [
    "#Function definition is here\n",
    "\n",
    "def printme(Str):\n",
    "    \"this prints a passed string into this function\"\n",
    "    print(Str)\n",
    "    return\n",
    "\n",
    "#now you can call printme function\n",
    "printme('i.m first call to user defined function!')"
   ]
  },
  {
   "cell_type": "markdown",
   "metadata": {},
   "source": [
    "### Pass by referenced vs value"
   ]
  },
  {
   "cell_type": "code",
   "execution_count": 5,
   "metadata": {},
   "outputs": [],
   "source": [
    "#Function definition is here\n",
    "def changeme( mylist ):\n",
    "    \"this changes a passed list into this function\"\n",
    "    mylist.append([1,2,3,4]);\n",
    "    print(\"values inside the function:\", mylist)\n",
    "    return"
   ]
  },
  {
   "cell_type": "code",
   "execution_count": 6,
   "metadata": {},
   "outputs": [
    {
     "name": "stdout",
     "output_type": "stream",
     "text": [
      "values inside the function: [10, 20, 30, [1, 2, 3, 4]]\n",
      "values outside the function: [10, 20, 30, [1, 2, 3, 4]]\n"
     ]
    }
   ],
   "source": [
    "#now you can call changeme function\n",
    "mylist =[10,20,30];\n",
    "changeme(mylist);\n",
    "print(\"values outside the function:\", mylist)"
   ]
  },
  {
   "cell_type": "code",
   "execution_count": 7,
   "metadata": {},
   "outputs": [
    {
     "name": "stdout",
     "output_type": "stream",
     "text": [
      "values inside the function: [1, 2, 3, 4]\n",
      "values outside the function: [10, 20, 30]\n"
     ]
    }
   ],
   "source": [
    "#Function definition is here\n",
    "def changeme(mylist):\n",
    "    mylist = [1,2,3,4];\n",
    "    print (\"values inside the function:\", mylist)\n",
    "    \n",
    "#now you can call changeme function\n",
    "mylist = [10,20,30];\n",
    "changeme(mylist);\n",
    "print(\"values outside the function:\", mylist)"
   ]
  },
  {
   "cell_type": "markdown",
   "metadata": {},
   "source": [
    "### Function Argumen"
   ]
  },
  {
   "cell_type": "markdown",
   "metadata": {},
   "source": [
    "#### Required Arguments"
   ]
  },
  {
   "cell_type": "code",
   "execution_count": 10,
   "metadata": {},
   "outputs": [
    {
     "name": "stdout",
     "output_type": "stream",
     "text": [
      "Hacktiv8\n"
     ]
    }
   ],
   "source": [
    "def printme(str):\n",
    "    \"this prints a passed string into this function\"\n",
    "    print(str)\n",
    "    return;\n",
    "\n",
    "printme(\"Hacktiv8\")"
   ]
  },
  {
   "cell_type": "markdown",
   "metadata": {},
   "source": [
    "#### Keyword Arguments"
   ]
  },
  {
   "cell_type": "code",
   "execution_count": null,
   "metadata": {},
   "outputs": [
    {
     "name": "stdout",
     "output_type": "stream",
     "text": [
      "Hacktiv8\n"
     ]
    }
   ],
   "source": [
    "def printme(str):\n",
    "    \"this prints a passed string into this function\"\n",
    "    print(str)\n",
    "    return;\n",
    "\n",
    "printme(str = \"Hacktiv8\")"
   ]
  },
  {
   "cell_type": "code",
   "execution_count": null,
   "metadata": {},
   "outputs": [
    {
     "name": "stdout",
     "output_type": "stream",
     "text": [
      "name: Rosita Nurul Janatin\n",
      "age: 20\n"
     ]
    }
   ],
   "source": [
    "def print_info(name,age):\n",
    "    \"rhis prints a passed string into this function\"\n",
    "    print(\"name:\", name)\n",
    "    print(\"age:\", age)\n",
    "    return;\n",
    "\n",
    "print_info(name= \"Rosita Nurul Janatin\", age= \"20\")"
   ]
  },
  {
   "cell_type": "markdown",
   "metadata": {},
   "source": [
    "#### Default Arguments"
   ]
  },
  {
   "cell_type": "code",
   "execution_count": null,
   "metadata": {},
   "outputs": [
    {
     "name": "stdout",
     "output_type": "stream",
     "text": [
      "nama: Rosita Nurul Janatin\n",
      "age: 20\n",
      "nama: Rosita Nurul Janatin\n",
      "age: 19\n"
     ]
    }
   ],
   "source": [
    "def print_info(name, age = 20):\n",
    "    \"this prints a passed string into this function\"\n",
    "    print(\"nama:\", name)\n",
    "    print(\"age:\", age)\n",
    "    return;\n",
    "\n",
    "print_info(name = \"Rosita Nurul Janatin\")\n",
    "print_info(name=\"Rosita Nurul Janatin\", age=\"19\")"
   ]
  },
  {
   "cell_type": "markdown",
   "metadata": {},
   "source": [
    "#### Variable-length arguments"
   ]
  },
  {
   "cell_type": "code",
   "execution_count": 13,
   "metadata": {},
   "outputs": [
    {
     "ename": "SyntaxError",
     "evalue": "invalid syntax (3440299163.py, line 1)",
     "output_type": "error",
     "traceback": [
      "\u001b[1;36m  Input \u001b[1;32mIn [13]\u001b[1;36m\u001b[0m\n\u001b[1;33m    def functionname([formal_args], *var_args_tuple):\u001b[0m\n\u001b[1;37m                     ^\u001b[0m\n\u001b[1;31mSyntaxError\u001b[0m\u001b[1;31m:\u001b[0m invalid syntax\n"
     ]
    }
   ],
   "source": [
    "def functionname([formal_args], *var_args_tuple):\n",
    "    \"function_docstring\"\n",
    "    function_suite\n",
    "    return [expression]"
   ]
  },
  {
   "cell_type": "code",
   "execution_count": null,
   "metadata": {},
   "outputs": [
    {
     "name": "stdout",
     "output_type": "stream",
     "text": [
      "output is:\n",
      "10\n",
      "output is:\n",
      "70\n",
      "60\n",
      "50\n",
      "a\n"
     ]
    }
   ],
   "source": [
    "#function definition is here\n",
    "def printinfo(arg1, *vartuple):\n",
    "    \"this prints a variable passed arguments\"\n",
    "    print(\"output is:\")\n",
    "    print(arg1)\n",
    "    for var in vartuple:\n",
    "        print(var)\n",
    "    return;\n",
    "\n",
    "#now you can call printinfo function\n",
    "printinfo(10)\n",
    "printinfo(70,60,50,\"a\")"
   ]
  },
  {
   "cell_type": "markdown",
   "metadata": {},
   "source": [
    "### The Anonymous Functions"
   ]
  },
  {
   "cell_type": "code",
   "execution_count": null,
   "metadata": {},
   "outputs": [
    {
     "name": "stdout",
     "output_type": "stream",
     "text": [
      "value of total: 50\n"
     ]
    }
   ],
   "source": [
    "sum = lambda arg1, arg2: arg1+arg2;\n",
    "\n",
    "def sum(arg1, arg2):\n",
    "    x = arg1+arg2\n",
    "    return x;\n",
    "    \n",
    "print(\"value of total:\", sum(30,20))"
   ]
  },
  {
   "cell_type": "markdown",
   "metadata": {},
   "source": [
    "### The return Statement"
   ]
  },
  {
   "cell_type": "code",
   "execution_count": null,
   "metadata": {},
   "outputs": [
    {
     "name": "stdout",
     "output_type": "stream",
     "text": [
      "inside the function: 30\n",
      "outside the function: 50\n"
     ]
    }
   ],
   "source": [
    "#Function definition is here\n",
    "def sum(arg1, arg2):\n",
    "    total=arg1+arg2\n",
    "    total2=total+arg2\n",
    "    print(\"inside the function:\", total)\n",
    "    return total2\n",
    "\n",
    "total=sum(10,20)\n",
    "print(\"outside the function:\", total)"
   ]
  },
  {
   "cell_type": "markdown",
   "metadata": {},
   "source": [
    "### Scope of Variables"
   ]
  },
  {
   "cell_type": "markdown",
   "metadata": {},
   "source": [
    "#### Global vs. Local variables"
   ]
  },
  {
   "cell_type": "code",
   "execution_count": null,
   "metadata": {},
   "outputs": [
    {
     "name": "stdout",
     "output_type": "stream",
     "text": [
      "inside the function local total: 130\n",
      "outside the function global total: 0\n"
     ]
    }
   ],
   "source": [
    "total=0;\n",
    "\n",
    "def sum(arg1, arg2):\n",
    "    total=arg1+arg2;\n",
    "    print(\"inside the function local total:\", total)\n",
    "    return total;\n",
    "\n",
    "sum(100,30)\n",
    "print(\"outside the function global total:\", total)"
   ]
  },
  {
   "cell_type": "code",
   "execution_count": null,
   "metadata": {},
   "outputs": [
    {
     "name": "stdout",
     "output_type": "stream",
     "text": [
      "jumlah hewan: 50\n",
      "jumlah kelinci: 40\n"
     ]
    }
   ],
   "source": [
    "jumlah_kucing = 20\n",
    "\n",
    "def jumlah_hewan():\n",
    "    jumlah_Anjing = 30;\n",
    "    return jumlah_kucing + jumlah_Anjing;\n",
    "\n",
    "def jumlah_kelinci():\n",
    "    return jumlah_kucing + jumlah_kucing;\n",
    "\n",
    "print(\"jumlah hewan:\", jumlah_hewan())\n",
    "print(\"jumlah kelinci:\", jumlah_kelinci())"
   ]
  },
  {
   "cell_type": "markdown",
   "metadata": {},
   "source": [
    "## Python modules dan Python Packages"
   ]
  },
  {
   "cell_type": "markdown",
   "metadata": {},
   "source": [
    "### Python Modules: Overview"
   ]
  },
  {
   "cell_type": "code",
   "execution_count": 15,
   "metadata": {},
   "outputs": [],
   "source": [
    "import mod"
   ]
  },
  {
   "cell_type": "code",
   "execution_count": 16,
   "metadata": {},
   "outputs": [
    {
     "name": "stdout",
     "output_type": "stream",
     "text": [
      "Hacktiv8-PTP Python For Data Science\n"
     ]
    }
   ],
   "source": [
    "print(mod.s)"
   ]
  },
  {
   "cell_type": "code",
   "execution_count": 17,
   "metadata": {},
   "outputs": [
    {
     "data": {
      "text/plain": [
       "[100, 200, 300]"
      ]
     },
     "execution_count": 17,
     "metadata": {},
     "output_type": "execute_result"
    }
   ],
   "source": [
    "mod.a"
   ]
  },
  {
   "cell_type": "code",
   "execution_count": 21,
   "metadata": {},
   "outputs": [
    {
     "name": "stdout",
     "output_type": "stream",
     "text": [
      "arg = ['quux', 'corge', 'grault']\n"
     ]
    }
   ],
   "source": [
    "mod.foo(['quux', 'corge', 'grault'])"
   ]
  },
  {
   "cell_type": "code",
   "execution_count": 19,
   "metadata": {},
   "outputs": [],
   "source": [
    "x= mod.Foo()"
   ]
  },
  {
   "cell_type": "code",
   "execution_count": 20,
   "metadata": {},
   "outputs": [
    {
     "data": {
      "text/plain": [
       "<mod.Foo at 0x253a8c141f0>"
      ]
     },
     "execution_count": 20,
     "metadata": {},
     "output_type": "execute_result"
    }
   ],
   "source": [
    "x"
   ]
  },
  {
   "cell_type": "markdown",
   "metadata": {},
   "source": [
    "### The Module Search Path"
   ]
  },
  {
   "cell_type": "code",
   "execution_count": 52,
   "metadata": {},
   "outputs": [],
   "source": [
    "import mod"
   ]
  },
  {
   "cell_type": "code",
   "execution_count": 36,
   "metadata": {},
   "outputs": [],
   "source": [
    "import sys"
   ]
  },
  {
   "cell_type": "code",
   "execution_count": 37,
   "metadata": {},
   "outputs": [
    {
     "data": {
      "text/plain": [
       "['c:\\\\Users\\\\ACER\\\\Documents\\\\Hacktiv8\\\\Notebooks',\n",
       " 'c:\\\\Users\\\\ACER\\\\AppData\\\\Local\\\\Programs\\\\Python\\\\Python310\\\\python310.zip',\n",
       " 'c:\\\\Users\\\\ACER\\\\AppData\\\\Local\\\\Programs\\\\Python\\\\Python310\\\\DLLs',\n",
       " 'c:\\\\Users\\\\ACER\\\\AppData\\\\Local\\\\Programs\\\\Python\\\\Python310\\\\lib',\n",
       " 'c:\\\\Users\\\\ACER\\\\AppData\\\\Local\\\\Programs\\\\Python\\\\Python310',\n",
       " '',\n",
       " 'C:\\\\Users\\\\ACER\\\\AppData\\\\Roaming\\\\Python\\\\Python310\\\\site-packages',\n",
       " 'C:\\\\Users\\\\ACER\\\\AppData\\\\Roaming\\\\Python\\\\Python310\\\\site-packages\\\\win32',\n",
       " 'C:\\\\Users\\\\ACER\\\\AppData\\\\Roaming\\\\Python\\\\Python310\\\\site-packages\\\\win32\\\\lib',\n",
       " 'C:\\\\Users\\\\ACER\\\\AppData\\\\Roaming\\\\Python\\\\Python310\\\\site-packages\\\\Pythonwin',\n",
       " 'c:\\\\Users\\\\ACER\\\\AppData\\\\Local\\\\Programs\\\\Python\\\\Python310\\\\lib\\\\site-packages',\n",
       " '/Users/ACER/Documents/Hacktiv8/Notebooks',\n",
       " '/Users/ACER/Documents/Hacktiv8/Notebooks']"
      ]
     },
     "execution_count": 37,
     "metadata": {},
     "output_type": "execute_result"
    }
   ],
   "source": [
    "sys.path"
   ]
  },
  {
   "cell_type": "code",
   "execution_count": 64,
   "metadata": {},
   "outputs": [
    {
     "data": {
      "text/plain": [
       "'c:\\\\Users\\\\ACER\\\\Documents\\\\Hacktiv8\\\\Notebooks\\\\mod.py'"
      ]
     },
     "execution_count": 64,
     "metadata": {},
     "output_type": "execute_result"
    }
   ],
   "source": [
    "mod.__file__"
   ]
  },
  {
   "cell_type": "code",
   "execution_count": 38,
   "metadata": {},
   "outputs": [
    {
     "data": {
      "text/plain": [
       "<module 'mod' from 'c:\\\\Users\\\\ACER\\\\Documents\\\\Hacktiv8\\\\Notebooks\\\\mod.py'>"
      ]
     },
     "execution_count": 38,
     "metadata": {},
     "output_type": "execute_result"
    }
   ],
   "source": [
    "mod"
   ]
  },
  {
   "cell_type": "markdown",
   "metadata": {},
   "source": [
    "### The import Statement"
   ]
  },
  {
   "cell_type": "code",
   "execution_count": 65,
   "metadata": {},
   "outputs": [
    {
     "data": {
      "text/plain": [
       "'Hacktiv8-PTP Python Ford Data Science'"
      ]
     },
     "execution_count": 65,
     "metadata": {},
     "output_type": "execute_result"
    }
   ],
   "source": [
    "s"
   ]
  },
  {
   "cell_type": "code",
   "execution_count": 41,
   "metadata": {},
   "outputs": [
    {
     "data": {
      "text/plain": [
       "[100, 200, 300]"
      ]
     },
     "execution_count": 41,
     "metadata": {},
     "output_type": "execute_result"
    }
   ],
   "source": [
    "a"
   ]
  },
  {
   "cell_type": "code",
   "execution_count": 42,
   "metadata": {},
   "outputs": [
    {
     "data": {
      "text/plain": [
       "'Hacktiv8-PTP Python Ford Data Science'"
      ]
     },
     "execution_count": 42,
     "metadata": {},
     "output_type": "execute_result"
    }
   ],
   "source": [
    "mod.s"
   ]
  },
  {
   "cell_type": "code",
   "execution_count": 22,
   "metadata": {},
   "outputs": [],
   "source": [
    "from mod import s, foo"
   ]
  },
  {
   "cell_type": "code",
   "execution_count": 23,
   "metadata": {},
   "outputs": [
    {
     "data": {
      "text/plain": [
       "'Hacktiv8-PTP Python For Data Science'"
      ]
     },
     "execution_count": 23,
     "metadata": {},
     "output_type": "execute_result"
    }
   ],
   "source": [
    "s"
   ]
  },
  {
   "cell_type": "code",
   "execution_count": 24,
   "metadata": {},
   "outputs": [
    {
     "name": "stdout",
     "output_type": "stream",
     "text": [
      "arg = quux\n"
     ]
    }
   ],
   "source": [
    "foo('quux')"
   ]
  },
  {
   "cell_type": "code",
   "execution_count": 25,
   "metadata": {},
   "outputs": [],
   "source": [
    "from mod import *"
   ]
  },
  {
   "cell_type": "code",
   "execution_count": 26,
   "metadata": {},
   "outputs": [
    {
     "data": {
      "text/plain": [
       "<function mod.foo(arg)>"
      ]
     },
     "execution_count": 26,
     "metadata": {},
     "output_type": "execute_result"
    }
   ],
   "source": [
    "foo"
   ]
  },
  {
   "cell_type": "code",
   "execution_count": 46,
   "metadata": {},
   "outputs": [
    {
     "data": {
      "text/plain": [
       "'Hacktiv8-PTP Python Ford Data Science'"
      ]
     },
     "execution_count": 46,
     "metadata": {},
     "output_type": "execute_result"
    }
   ],
   "source": [
    "s"
   ]
  },
  {
   "cell_type": "code",
   "execution_count": 47,
   "metadata": {},
   "outputs": [
    {
     "data": {
      "text/plain": [
       "[100, 200, 300]"
      ]
     },
     "execution_count": 47,
     "metadata": {},
     "output_type": "execute_result"
    }
   ],
   "source": [
    "a"
   ]
  },
  {
   "cell_type": "code",
   "execution_count": 75,
   "metadata": {},
   "outputs": [],
   "source": [
    "s = 'foo'\n",
    "a = ['foo', 'bar', 'baz']"
   ]
  },
  {
   "cell_type": "code",
   "execution_count": 76,
   "metadata": {},
   "outputs": [],
   "source": [
    "from mod import s as string, a as alist"
   ]
  },
  {
   "cell_type": "code",
   "execution_count": 77,
   "metadata": {},
   "outputs": [
    {
     "data": {
      "text/plain": [
       "'foo'"
      ]
     },
     "execution_count": 77,
     "metadata": {},
     "output_type": "execute_result"
    }
   ],
   "source": [
    "s"
   ]
  },
  {
   "cell_type": "code",
   "execution_count": 78,
   "metadata": {},
   "outputs": [
    {
     "data": {
      "text/plain": [
       "'Hacktiv8-PTP Python Ford Data Science'"
      ]
     },
     "execution_count": 78,
     "metadata": {},
     "output_type": "execute_result"
    }
   ],
   "source": [
    "string"
   ]
  },
  {
   "cell_type": "code",
   "execution_count": 79,
   "metadata": {},
   "outputs": [
    {
     "data": {
      "text/plain": [
       "['foo', 'bar', 'baz']"
      ]
     },
     "execution_count": 79,
     "metadata": {},
     "output_type": "execute_result"
    }
   ],
   "source": [
    "a"
   ]
  },
  {
   "cell_type": "code",
   "execution_count": 80,
   "metadata": {},
   "outputs": [
    {
     "data": {
      "text/plain": [
       "[100, 200, 300]"
      ]
     },
     "execution_count": 80,
     "metadata": {},
     "output_type": "execute_result"
    }
   ],
   "source": [
    "alist"
   ]
  },
  {
   "cell_type": "code",
   "execution_count": 28,
   "metadata": {},
   "outputs": [],
   "source": [
    "import mod as my_module"
   ]
  },
  {
   "cell_type": "code",
   "execution_count": 29,
   "metadata": {},
   "outputs": [
    {
     "data": {
      "text/plain": [
       "[100, 200, 300]"
      ]
     },
     "execution_count": 29,
     "metadata": {},
     "output_type": "execute_result"
    }
   ],
   "source": [
    "my_module.a"
   ]
  },
  {
   "cell_type": "code",
   "execution_count": 30,
   "metadata": {},
   "outputs": [
    {
     "name": "stdout",
     "output_type": "stream",
     "text": [
      "arg = quux\n"
     ]
    }
   ],
   "source": [
    "my_module.foo('quux')"
   ]
  },
  {
   "cell_type": "markdown",
   "metadata": {},
   "source": [
    "### The dir() Function"
   ]
  },
  {
   "cell_type": "code",
   "execution_count": 85,
   "metadata": {},
   "outputs": [
    {
     "data": {
      "text/plain": [
       "['In',\n",
       " 'Out',\n",
       " '_',\n",
       " '_10',\n",
       " '_11',\n",
       " '_13',\n",
       " '_22',\n",
       " '_23',\n",
       " '_24',\n",
       " '_27',\n",
       " '_28',\n",
       " '_3',\n",
       " '_30',\n",
       " '_37',\n",
       " '_38',\n",
       " '_40',\n",
       " '_41',\n",
       " '_42',\n",
       " '_43',\n",
       " '_45',\n",
       " '_46',\n",
       " '_47',\n",
       " '_49',\n",
       " '_5',\n",
       " '_50',\n",
       " '_55',\n",
       " '_60',\n",
       " '_64',\n",
       " '_65',\n",
       " '_69',\n",
       " '_7',\n",
       " '_71',\n",
       " '_73',\n",
       " '_74',\n",
       " '_77',\n",
       " '_78',\n",
       " '_79',\n",
       " '_80',\n",
       " '_82',\n",
       " '_9',\n",
       " '__',\n",
       " '___',\n",
       " '__builtin__',\n",
       " '__builtins__',\n",
       " '__doc__',\n",
       " '__loader__',\n",
       " '__name__',\n",
       " '__package__',\n",
       " '__spec__',\n",
       " '__vsc_ipynb_file__',\n",
       " '_dh',\n",
       " '_i',\n",
       " '_i1',\n",
       " '_i10',\n",
       " '_i11',\n",
       " '_i12',\n",
       " '_i13',\n",
       " '_i14',\n",
       " '_i15',\n",
       " '_i16',\n",
       " '_i17',\n",
       " '_i18',\n",
       " '_i19',\n",
       " '_i2',\n",
       " '_i20',\n",
       " '_i21',\n",
       " '_i22',\n",
       " '_i23',\n",
       " '_i24',\n",
       " '_i25',\n",
       " '_i26',\n",
       " '_i27',\n",
       " '_i28',\n",
       " '_i29',\n",
       " '_i3',\n",
       " '_i30',\n",
       " '_i31',\n",
       " '_i32',\n",
       " '_i33',\n",
       " '_i34',\n",
       " '_i35',\n",
       " '_i36',\n",
       " '_i37',\n",
       " '_i38',\n",
       " '_i39',\n",
       " '_i4',\n",
       " '_i40',\n",
       " '_i41',\n",
       " '_i42',\n",
       " '_i43',\n",
       " '_i44',\n",
       " '_i45',\n",
       " '_i46',\n",
       " '_i47',\n",
       " '_i48',\n",
       " '_i49',\n",
       " '_i5',\n",
       " '_i50',\n",
       " '_i51',\n",
       " '_i52',\n",
       " '_i53',\n",
       " '_i54',\n",
       " '_i55',\n",
       " '_i56',\n",
       " '_i57',\n",
       " '_i58',\n",
       " '_i59',\n",
       " '_i6',\n",
       " '_i60',\n",
       " '_i61',\n",
       " '_i62',\n",
       " '_i63',\n",
       " '_i64',\n",
       " '_i65',\n",
       " '_i66',\n",
       " '_i67',\n",
       " '_i68',\n",
       " '_i69',\n",
       " '_i7',\n",
       " '_i70',\n",
       " '_i71',\n",
       " '_i72',\n",
       " '_i73',\n",
       " '_i74',\n",
       " '_i75',\n",
       " '_i76',\n",
       " '_i77',\n",
       " '_i78',\n",
       " '_i79',\n",
       " '_i8',\n",
       " '_i80',\n",
       " '_i81',\n",
       " '_i82',\n",
       " '_i83',\n",
       " '_i84',\n",
       " '_i85',\n",
       " '_i9',\n",
       " '_ih',\n",
       " '_ii',\n",
       " '_iii',\n",
       " '_oh',\n",
       " 'a',\n",
       " 'alist',\n",
       " 'bar',\n",
       " 'changeme',\n",
       " 'exit',\n",
       " 'foo',\n",
       " 'get_ipython',\n",
       " 'luas',\n",
       " 'mod',\n",
       " 'my_module',\n",
       " 'mylist',\n",
       " 'os',\n",
       " 'printme',\n",
       " 'quit',\n",
       " 's',\n",
       " 'string',\n",
       " 'sys']"
      ]
     },
     "execution_count": 85,
     "metadata": {},
     "output_type": "execute_result"
    }
   ],
   "source": [
    "dir()"
   ]
  },
  {
   "cell_type": "code",
   "execution_count": 87,
   "metadata": {},
   "outputs": [],
   "source": [
    "class Bar():\n",
    "    pass"
   ]
  },
  {
   "cell_type": "code",
   "execution_count": 88,
   "metadata": {},
   "outputs": [],
   "source": [
    "x = Bar()"
   ]
  },
  {
   "cell_type": "code",
   "execution_count": 89,
   "metadata": {},
   "outputs": [
    {
     "data": {
      "text/plain": [
       "['Bar',\n",
       " 'In',\n",
       " 'Out',\n",
       " '_',\n",
       " '_10',\n",
       " '_11',\n",
       " '_13',\n",
       " '_22',\n",
       " '_23',\n",
       " '_24',\n",
       " '_27',\n",
       " '_28',\n",
       " '_3',\n",
       " '_30',\n",
       " '_37',\n",
       " '_38',\n",
       " '_40',\n",
       " '_41',\n",
       " '_42',\n",
       " '_43',\n",
       " '_45',\n",
       " '_46',\n",
       " '_47',\n",
       " '_49',\n",
       " '_5',\n",
       " '_50',\n",
       " '_55',\n",
       " '_60',\n",
       " '_64',\n",
       " '_65',\n",
       " '_69',\n",
       " '_7',\n",
       " '_71',\n",
       " '_73',\n",
       " '_74',\n",
       " '_77',\n",
       " '_78',\n",
       " '_79',\n",
       " '_80',\n",
       " '_82',\n",
       " '_85',\n",
       " '_9',\n",
       " '__',\n",
       " '___',\n",
       " '__builtin__',\n",
       " '__builtins__',\n",
       " '__doc__',\n",
       " '__loader__',\n",
       " '__name__',\n",
       " '__package__',\n",
       " '__spec__',\n",
       " '__vsc_ipynb_file__',\n",
       " '_dh',\n",
       " '_i',\n",
       " '_i1',\n",
       " '_i10',\n",
       " '_i11',\n",
       " '_i12',\n",
       " '_i13',\n",
       " '_i14',\n",
       " '_i15',\n",
       " '_i16',\n",
       " '_i17',\n",
       " '_i18',\n",
       " '_i19',\n",
       " '_i2',\n",
       " '_i20',\n",
       " '_i21',\n",
       " '_i22',\n",
       " '_i23',\n",
       " '_i24',\n",
       " '_i25',\n",
       " '_i26',\n",
       " '_i27',\n",
       " '_i28',\n",
       " '_i29',\n",
       " '_i3',\n",
       " '_i30',\n",
       " '_i31',\n",
       " '_i32',\n",
       " '_i33',\n",
       " '_i34',\n",
       " '_i35',\n",
       " '_i36',\n",
       " '_i37',\n",
       " '_i38',\n",
       " '_i39',\n",
       " '_i4',\n",
       " '_i40',\n",
       " '_i41',\n",
       " '_i42',\n",
       " '_i43',\n",
       " '_i44',\n",
       " '_i45',\n",
       " '_i46',\n",
       " '_i47',\n",
       " '_i48',\n",
       " '_i49',\n",
       " '_i5',\n",
       " '_i50',\n",
       " '_i51',\n",
       " '_i52',\n",
       " '_i53',\n",
       " '_i54',\n",
       " '_i55',\n",
       " '_i56',\n",
       " '_i57',\n",
       " '_i58',\n",
       " '_i59',\n",
       " '_i6',\n",
       " '_i60',\n",
       " '_i61',\n",
       " '_i62',\n",
       " '_i63',\n",
       " '_i64',\n",
       " '_i65',\n",
       " '_i66',\n",
       " '_i67',\n",
       " '_i68',\n",
       " '_i69',\n",
       " '_i7',\n",
       " '_i70',\n",
       " '_i71',\n",
       " '_i72',\n",
       " '_i73',\n",
       " '_i74',\n",
       " '_i75',\n",
       " '_i76',\n",
       " '_i77',\n",
       " '_i78',\n",
       " '_i79',\n",
       " '_i8',\n",
       " '_i80',\n",
       " '_i81',\n",
       " '_i82',\n",
       " '_i83',\n",
       " '_i84',\n",
       " '_i85',\n",
       " '_i86',\n",
       " '_i87',\n",
       " '_i88',\n",
       " '_i89',\n",
       " '_i9',\n",
       " '_ih',\n",
       " '_ii',\n",
       " '_iii',\n",
       " '_oh',\n",
       " 'a',\n",
       " 'alist',\n",
       " 'bar',\n",
       " 'changeme',\n",
       " 'exit',\n",
       " 'foo',\n",
       " 'get_ipython',\n",
       " 'luas',\n",
       " 'mod',\n",
       " 'my_module',\n",
       " 'mylist',\n",
       " 'os',\n",
       " 'printme',\n",
       " 'quit',\n",
       " 's',\n",
       " 'string',\n",
       " 'sys',\n",
       " 'x']"
      ]
     },
     "execution_count": 89,
     "metadata": {},
     "output_type": "execute_result"
    }
   ],
   "source": [
    "dir()"
   ]
  },
  {
   "cell_type": "code",
   "execution_count": 90,
   "metadata": {},
   "outputs": [],
   "source": [
    "import mod"
   ]
  },
  {
   "cell_type": "code",
   "execution_count": 91,
   "metadata": {},
   "outputs": [
    {
     "data": {
      "text/plain": [
       "['__builtins__',\n",
       " '__cached__',\n",
       " '__doc__',\n",
       " '__file__',\n",
       " '__loader__',\n",
       " '__name__',\n",
       " '__package__',\n",
       " '__spec__',\n",
       " 'a',\n",
       " 'foo',\n",
       " 'mod',\n",
       " 's']"
      ]
     },
     "execution_count": 91,
     "metadata": {},
     "output_type": "execute_result"
    }
   ],
   "source": [
    "dir(mod)"
   ]
  },
  {
   "cell_type": "code",
   "execution_count": 1,
   "metadata": {},
   "outputs": [],
   "source": [
    "import pandas"
   ]
  },
  {
   "cell_type": "markdown",
   "metadata": {},
   "source": [
    "## Python Packages"
   ]
  },
  {
   "cell_type": "code",
   "execution_count": 97,
   "metadata": {},
   "outputs": [],
   "source": [
    "#import pkg.modl, pkg.mod2"
   ]
  },
  {
   "cell_type": "code",
   "execution_count": 98,
   "metadata": {},
   "outputs": [],
   "source": [
    "#pkg"
   ]
  }
 ],
 "metadata": {
  "kernelspec": {
   "display_name": "Python 3 (ipykernel)",
   "language": "python",
   "name": "python3"
  },
  "language_info": {
   "codemirror_mode": {
    "name": "ipython",
    "version": 3
   },
   "file_extension": ".py",
   "mimetype": "text/x-python",
   "name": "python",
   "nbconvert_exporter": "python",
   "pygments_lexer": "ipython3",
   "version": "3.10.5"
  },
  "vscode": {
   "interpreter": {
    "hash": "0d72b21489300652f2337cd7f80c57cc00ce6bbc92cf98d285c178d0a8ced433"
   }
  }
 },
 "nbformat": 4,
 "nbformat_minor": 2
}
